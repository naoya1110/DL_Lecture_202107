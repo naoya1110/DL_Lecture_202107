{
  "nbformat": 4,
  "nbformat_minor": 0,
  "metadata": {
    "colab": {
      "name": "Chapter05_MNIST_with_Simple_DNN.ipynb",
      "provenance": [],
      "collapsed_sections": [],
      "include_colab_link": true
    },
    "kernelspec": {
      "name": "python3",
      "display_name": "Python 3"
    }
  },
  "cells": [
    {
      "cell_type": "markdown",
      "metadata": {
        "id": "view-in-github",
        "colab_type": "text"
      },
      "source": [
        "<a href=\"https://colab.research.google.com/github/naoya1110/DL_Lecture_202107/blob/main/Chapter05_MNIST_with_Simple_DNN.ipynb\" target=\"_parent\"><img src=\"https://colab.research.google.com/assets/colab-badge.svg\" alt=\"Open In Colab\"/></a>"
      ]
    },
    {
      "cell_type": "markdown",
      "metadata": {
        "id": "Ds8doJG8yKVh"
      },
      "source": [
        "# Chapter 05: MNIST with Simple DNN"
      ]
    },
    {
      "cell_type": "markdown",
      "metadata": {
        "id": "wXb5Wc0LyKVi"
      },
      "source": [
        "いよいよここからディープラーニングに入門します！最初の一歩として誰もが通る道である「手書き数字の画像分類（通称：MNISTチュートリアル）」に取り組んでみましょう。MNIST（エムニスト）という超有名なデータセットを使えばあっという間に超入門できます！"
      ]
    },
    {
      "cell_type": "markdown",
      "metadata": {
        "id": "lmAopnGN5pHN"
      },
      "source": [
        "## 準備\n"
      ]
    },
    {
      "cell_type": "markdown",
      "metadata": {
        "id": "pNhW1Dg1yKVj"
      },
      "source": [
        "### パッケージのインポート\n",
        "\n",
        "最初に必要なパッケージをインポートします。新しく導入するのは[TensorFlow（テンソルフロー）](https://www.tensorflow.org/)というパッケージです。TensorFlowはGoogleが開発しているディープラーニング用のパッケージ（フレームワークとも呼ばれる）で，無料で使用することができます。他にはFacebookが開発している[PyTorch（パイトーチ）](https://pytorch.org/)というパッケージが有名です。PyTorchもGoogle Colabで使えますが，この講座ではTensorFlowを使用していきます。\n",
        "\n"
      ]
    },
    {
      "cell_type": "code",
      "metadata": {
        "id": "3g1tq1rayKVk",
        "colab": {
          "base_uri": "https://localhost:8080/",
          "height": 0
        },
        "outputId": "9f145e66-bc74-4c85-c896-047b76658851"
      },
      "source": [
        "import matplotlib.pyplot as plt\n",
        "import pandas as pd\n",
        "import numpy as np\n",
        "np.set_printoptions(precision=3,  suppress=True)\n",
        "import seaborn as sns\n",
        "\n",
        "import tensorflow as tf\n",
        "from tensorflow.keras.datasets import mnist\n",
        "from tensorflow.keras.models import Sequential\n",
        "from tensorflow.keras.layers import Dense, Dropout, Activation, InputLayer\n",
        "from tensorflow.keras.utils import to_categorical\n",
        "from tensorflow.keras.utils import plot_model\n",
        "from tensorflow.math import confusion_matrix\n",
        "\n",
        "# trainX, trainYをさらに分離するために使用\n",
        "from sklearn.model_selection import train_test_split\n",
        "\n",
        "# TensorFlowのバージョンを確認\n",
        "print(\"TensorFlow version: \" + tf.__version__)"
      ],
      "execution_count": 1,
      "outputs": [
        {
          "output_type": "stream",
          "text": [
            "TensorFlow version: 2.5.0\n"
          ],
          "name": "stdout"
        }
      ]
    },
    {
      "cell_type": "markdown",
      "metadata": {
        "id": "w6nOb1D5o2Ng"
      },
      "source": [
        "## データの準備"
      ]
    },
    {
      "cell_type": "markdown",
      "metadata": {
        "id": "xf5GHN90yKVo"
      },
      "source": [
        "### MNISTデータセットの読み込み\n",
        "MNISTデータセットは\n",
        "TensorFlowのコード1行でネット上から簡単に読み込むことができます。中身は以下の4種類になっています。\n",
        "\n",
        "* **trainX** 学習用の入力データ\n",
        "* **trainY** 学習用の出力データ\n",
        "* **testX** テスト用の入力データ\n",
        "* **testY** テスト用の出力データ\n",
        "\n",
        "続けて，データの形やタイプを確認しておきましょう。"
      ]
    },
    {
      "cell_type": "code",
      "metadata": {
        "id": "A3syFUhQyKVo",
        "colab": {
          "base_uri": "https://localhost:8080/",
          "height": 0
        },
        "outputId": "aed467d2-0a28-44ad-dd40-b90347dd80c3"
      },
      "source": [
        "#自動的にネット上からデータがダウンロードする\n",
        "(trainX, trainY), (testX, testY) = mnist.load_data()\n",
        "\n",
        "# データの形とタイプを確認\n",
        "print(f\"trainX: Type {type(trainX)}, Shape {trainX.shape}\")\n",
        "print(f\"trainY: Type {type(trainY)}, Shape {trainY.shape}\")\n",
        "print(f\"testX: Type {type(testX)}, Shape {testX.shape}\")\n",
        "print(f\"testY: Type {type(testY)}, Shape {testY.shape}\")"
      ],
      "execution_count": 2,
      "outputs": [
        {
          "output_type": "stream",
          "text": [
            "Downloading data from https://storage.googleapis.com/tensorflow/tf-keras-datasets/mnist.npz\n",
            "11493376/11490434 [==============================] - 0s 0us/step\n",
            "trainX: Type <class 'numpy.ndarray'>, Shape (60000, 28, 28)\n",
            "trainY: Type <class 'numpy.ndarray'>, Shape (60000,)\n",
            "testX: Type <class 'numpy.ndarray'>, Shape (10000, 28, 28)\n",
            "testY: Type <class 'numpy.ndarray'>, Shape (10000,)\n"
          ],
          "name": "stdout"
        }
      ]
    },
    {
      "cell_type": "markdown",
      "metadata": {
        "id": "wveQp3F9yKVu"
      },
      "source": [
        "### データの確認\n",
        "MNISTデータセットにどんなデータが入っているか，可視化して確認してみましょう。"
      ]
    },
    {
      "cell_type": "code",
      "metadata": {
        "id": "ZPNkLQ1KyKVu",
        "colab": {
          "base_uri": "https://localhost:8080/",
          "height": 265
        },
        "outputId": "8c1adb8b-8040-4910-cac7-1fc2a8cba010"
      },
      "source": [
        "plt.figure(figsize=(12,4))\n",
        "plt.rcParams[\"font.size\"]=12\n",
        "\n",
        "# 0-9番目のデータを表示\n",
        "for i in range(10):\n",
        "    plt.subplot(2,5,i+1)\n",
        "    plt.imshow(trainX[i], cmap=\"gray\") # i番目のtrainXを画像として表示\n",
        "    plt.axis(\"off\") # 軸を表示しない\n",
        "    plt.title(f\"{trainY[i]}\") # タイトルとしてi番目の正解値trainYを表示"
      ],
      "execution_count": 3,
      "outputs": [
        {
          "output_type": "display_data",
          "data": {
            "image/png": "[encoded data removed]",
            "text/plain": [
              "<Figure size 864x288 with 10 Axes>"
            ]
          },
          "metadata": {
            "tags": [],
            "needs_background": "light"
          }
        }
      ]
    },
    {
      "cell_type": "markdown",
      "metadata": {
        "id": "rWlPwL3ZggVQ"
      },
      "source": [
        "0から9までの数字のデータがどのような割合で入っているか確認しましょう。"
      ]
    },
    {
      "cell_type": "code",
      "metadata": {
        "colab": {
          "base_uri": "https://localhost:8080/",
          "height": 0
        },
        "id": "816h0sKhAbab",
        "outputId": "f2db48f5-e775-4b83-fe81-160aaaf10369"
      },
      "source": [
        "print(\"number   train data   test data\")\n",
        "print(\"-------------------------------\")\n",
        "for i in range(9):\n",
        "    train_count = (trainY==i).sum()\n",
        "    test_count = (testY==i).sum()\n",
        "    print(f\"{str(i).rjust(3)} {str(train_count).rjust(12)} {str(test_count).rjust(12)}\")"
      ],
      "execution_count": 4,
      "outputs": [
        {
          "output_type": "stream",
          "text": [
            "number   train data   test data\n",
            "-------------------------------\n",
            "  0         5923          980\n",
            "  1         6742         1135\n",
            "  2         5958         1032\n",
            "  3         6131         1010\n",
            "  4         5842          982\n",
            "  5         5421          892\n",
            "  6         5918          958\n",
            "  7         6265         1028\n",
            "  8         5851          974\n"
          ],
          "name": "stdout"
        }
      ]
    },
    {
      "cell_type": "markdown",
      "metadata": {
        "id": "sd33CzqCyKVx"
      },
      "source": [
        "### 画像データの中身を確認\n",
        "画像データも実際は数値の配列になっていることを確認しましょう。"
      ]
    },
    {
      "cell_type": "code",
      "metadata": {
        "id": "pHVlXJ-4KD28",
        "colab": {
          "base_uri": "https://localhost:8080/",
          "height": 934
        },
        "outputId": "bc280a70-f995-4114-bf5f-2b4eba839788"
      },
      "source": [
        "# n番目のデータを指定する\n",
        "n = 0\n",
        "\n",
        "# 正解の数字を表示\n",
        "print(f\"この画像の数字は {trainY[n]} です\")\n",
        "\n",
        "# データを読み込んで表示する\n",
        "pd.DataFrame(trainX[n])"
      ],
      "execution_count": 5,
      "outputs": [
        {
          "output_type": "stream",
          "text": [
            "この画像の数字は 5 です\n"
          ],
          "name": "stdout"
        },
        {
          "output_type": "execute_result",
          "data": {
            "text/html": [
              "<div>\n",
              "<style scoped>\n",
              "    .dataframe tbody tr th:only-of-type {\n",
              "        vertical-align: middle;\n",
              "    }\n",
              "\n",
              "    .dataframe tbody tr th {\n",
              "        vertical-align: top;\n",
              "    }\n",
              "\n",
              "    .dataframe thead th {\n",
              "        text-align: right;\n",
              "    }\n",
              "</style>\n",
              "<table border=\"1\" class=\"dataframe\">\n",
              "  <thead>\n",
              "    <tr style=\"text-align: right;\">\n",
              "      <th></th>\n",
              "      <th>0</th>\n",
              "      <th>1</th>\n",
              "      <th>2</th>\n",
              "      <th>3</th>\n",
              "      <th>4</th>\n",
              "      <th>5</th>\n",
              "      <th>6</th>\n",
              "      <th>7</th>\n",
              "      <th>8</th>\n",
              "      <th>9</th>\n",
              "      <th>10</th>\n",
              "      <th>11</th>\n",
              "      <th>12</th>\n",
              "      <th>13</th>\n",
              "      <th>14</th>\n",
              "      <th>15</th>\n",
              "      <th>16</th>\n",
              "      <th>17</th>\n",
              "      <th>18</th>\n",
              "      <th>19</th>\n",
              "      <th>20</th>\n",
              "      <th>21</th>\n",
              "      <th>22</th>\n",
              "      <th>23</th>\n",
              "      <th>24</th>\n",
              "      <th>25</th>\n",
              "      <th>26</th>\n",
              "      <th>27</th>\n",
              "    </tr>\n",
              "  </thead>\n",
              "  <tbody>\n",
              "    <tr>\n",
              "      <th>0</th>\n",
              "      <td>0</td>\n",
              "      <td>0</td>\n",
              "      <td>0</td>\n",
              "      <td>0</td>\n",
              "      <td>0</td>\n",
              "      <td>0</td>\n",
              "      <td>0</td>\n",
              "      <td>0</td>\n",
              "      <td>0</td>\n",
              "      <td>0</td>\n",
              "      <td>0</td>\n",
              "      <td>0</td>\n",
              "      <td>0</td>\n",
              "      <td>0</td>\n",
              "      <td>0</td>\n",
              "      <td>0</td>\n",
              "      <td>0</td>\n",
              "      <td>0</td>\n",
              "      <td>0</td>\n",
              "      <td>0</td>\n",
              "      <td>0</td>\n",
              "      <td>0</td>\n",
              "      <td>0</td>\n",
              "      <td>0</td>\n",
              "      <td>0</td>\n",
              "      <td>0</td>\n",
              "      <td>0</td>\n",
              "      <td>0</td>\n",
              "    </tr>\n",
              "    <tr>\n",
              "      <th>1</th>\n",
              "      <td>0</td>\n",
              "      <td>0</td>\n",
              "      <td>0</td>\n",
              "      <td>0</td>\n",
              "      <td>0</td>\n",
              "      <td>0</td>\n",
              "      <td>0</td>\n",
              "      <td>0</td>\n",
              "      <td>0</td>\n",
              "      <td>0</td>\n",
              "      <td>0</td>\n",
              "      <td>0</td>\n",
              "      <td>0</td>\n",
              "      <td>0</td>\n",
              "      <td>0</td>\n",
              "      <td>0</td>\n",
              "      <td>0</td>\n",
              "      <td>0</td>\n",
              "      <td>0</td>\n",
              "      <td>0</td>\n",
              "      <td>0</td>\n",
              "      <td>0</td>\n",
              "      <td>0</td>\n",
              "      <td>0</td>\n",
              "      <td>0</td>\n",
              "      <td>0</td>\n",
              "      <td>0</td>\n",
              "      <td>0</td>\n",
              "    </tr>\n",
              "    <tr>\n",
              "      <th>2</th>\n",
              "      <td>0</td>\n",
              "      <td>0</td>\n",
              "      <td>0</td>\n",
              "      <td>0</td>\n",
              "      <td>0</td>\n",
              "      <td>0</td>\n",
              "      <td>0</td>\n",
              "      <td>0</td>\n",
              "      <td>0</td>\n",
              "      <td>0</td>\n",
              "      <td>0</td>\n",
              "      <td>0</td>\n",
              "      <td>0</td>\n",
              "      <td>0</td>\n",
              "      <td>0</td>\n",
              "      <td>0</td>\n",
              "      <td>0</td>\n",
              "      <td>0</td>\n",
              "      <td>0</td>\n",
              "      <td>0</td>\n",
              "      <td>0</td>\n",
              "      <td>0</td>\n",
              "      <td>0</td>\n",
              "      <td>0</td>\n",
              "      <td>0</td>\n",
              "      <td>0</td>\n",
              "      <td>0</td>\n",
              "      <td>0</td>\n",
              "    </tr>\n",
              "    <tr>\n",
              "      <th>3</th>\n",
              "      <td>0</td>\n",
              "      <td>0</td>\n",
              "      <td>0</td>\n",
              "      <td>0</td>\n",
              "      <td>0</td>\n",
              "      <td>0</td>\n",
              "      <td>0</td>\n",
              "      <td>0</td>\n",
              "      <td>0</td>\n",
              "      <td>0</td>\n",
              "      <td>0</td>\n",
              "      <td>0</td>\n",
              "      <td>0</td>\n",
              "      <td>0</td>\n",
              "      <td>0</td>\n",
              "      <td>0</td>\n",
              "      <td>0</td>\n",
              "      <td>0</td>\n",
              "      <td>0</td>\n",
              "      <td>0</td>\n",
              "      <td>0</td>\n",
              "      <td>0</td>\n",
              "      <td>0</td>\n",
              "      <td>0</td>\n",
              "      <td>0</td>\n",
              "      <td>0</td>\n",
              "      <td>0</td>\n",
              "      <td>0</td>\n",
              "    </tr>\n",
              "    <tr>\n",
              "      <th>4</th>\n",
              "      <td>0</td>\n",
              "      <td>0</td>\n",
              "      <td>0</td>\n",
              "      <td>0</td>\n",
              "      <td>0</td>\n",
              "      <td>0</td>\n",
              "      <td>0</td>\n",
              "      <td>0</td>\n",
              "      <td>0</td>\n",
              "      <td>0</td>\n",
              "      <td>0</td>\n",
              "      <td>0</td>\n",
              "      <td>0</td>\n",
              "      <td>0</td>\n",
              "      <td>0</td>\n",
              "      <td>0</td>\n",
              "      <td>0</td>\n",
              "      <td>0</td>\n",
              "      <td>0</td>\n",
              "      <td>0</td>\n",
              "      <td>0</td>\n",
              "      <td>0</td>\n",
              "      <td>0</td>\n",
              "      <td>0</td>\n",
              "      <td>0</td>\n",
              "      <td>0</td>\n",
              "      <td>0</td>\n",
              "      <td>0</td>\n",
              "    </tr>\n",
              "    <tr>\n",
              "      <th>5</th>\n",
              "      <td>0</td>\n",
              "      <td>0</td>\n",
              "      <td>0</td>\n",
              "      <td>0</td>\n",
              "      <td>0</td>\n",
              "      <td>0</td>\n",
              "      <td>0</td>\n",
              "      <td>0</td>\n",
              "      <td>0</td>\n",
              "      <td>0</td>\n",
              "      <td>0</td>\n",
              "      <td>0</td>\n",
              "      <td>3</td>\n",
              "      <td>18</td>\n",
              "      <td>18</td>\n",
              "      <td>18</td>\n",
              "      <td>126</td>\n",
              "      <td>136</td>\n",
              "      <td>175</td>\n",
              "      <td>26</td>\n",
              "      <td>166</td>\n",
              "      <td>255</td>\n",
              "      <td>247</td>\n",
              "      <td>127</td>\n",
              "      <td>0</td>\n",
              "      <td>0</td>\n",
              "      <td>0</td>\n",
              "      <td>0</td>\n",
              "    </tr>\n",
              "    <tr>\n",
              "      <th>6</th>\n",
              "      <td>0</td>\n",
              "      <td>0</td>\n",
              "      <td>0</td>\n",
              "      <td>0</td>\n",
              "      <td>0</td>\n",
              "      <td>0</td>\n",
              "      <td>0</td>\n",
              "      <td>0</td>\n",
              "      <td>30</td>\n",
              "      <td>36</td>\n",
              "      <td>94</td>\n",
              "      <td>154</td>\n",
              "      <td>170</td>\n",
              "      <td>253</td>\n",
              "      <td>253</td>\n",
              "      <td>253</td>\n",
              "      <td>253</td>\n",
              "      <td>253</td>\n",
              "      <td>225</td>\n",
              "      <td>172</td>\n",
              "      <td>253</td>\n",
              "      <td>242</td>\n",
              "      <td>195</td>\n",
              "      <td>64</td>\n",
              "      <td>0</td>\n",
              "      <td>0</td>\n",
              "      <td>0</td>\n",
              "      <td>0</td>\n",
              "    </tr>\n",
              "    <tr>\n",
              "      <th>7</th>\n",
              "      <td>0</td>\n",
              "      <td>0</td>\n",
              "      <td>0</td>\n",
              "      <td>0</td>\n",
              "      <td>0</td>\n",
              "      <td>0</td>\n",
              "      <td>0</td>\n",
              "      <td>49</td>\n",
              "      <td>238</td>\n",
              "      <td>253</td>\n",
              "      <td>253</td>\n",
              "      <td>253</td>\n",
              "      <td>253</td>\n",
              "      <td>253</td>\n",
              "      <td>253</td>\n",
              "      <td>253</td>\n",
              "      <td>253</td>\n",
              "      <td>251</td>\n",
              "      <td>93</td>\n",
              "      <td>82</td>\n",
              "      <td>82</td>\n",
              "      <td>56</td>\n",
              "      <td>39</td>\n",
              "      <td>0</td>\n",
              "      <td>0</td>\n",
              "      <td>0</td>\n",
              "      <td>0</td>\n",
              "      <td>0</td>\n",
              "    </tr>\n",
              "    <tr>\n",
              "      <th>8</th>\n",
              "      <td>0</td>\n",
              "      <td>0</td>\n",
              "      <td>0</td>\n",
              "      <td>0</td>\n",
              "      <td>0</td>\n",
              "      <td>0</td>\n",
              "      <td>0</td>\n",
              "      <td>18</td>\n",
              "      <td>219</td>\n",
              "      <td>253</td>\n",
              "      <td>253</td>\n",
              "      <td>253</td>\n",
              "      <td>253</td>\n",
              "      <td>253</td>\n",
              "      <td>198</td>\n",
              "      <td>182</td>\n",
              "      <td>247</td>\n",
              "      <td>241</td>\n",
              "      <td>0</td>\n",
              "      <td>0</td>\n",
              "      <td>0</td>\n",
              "      <td>0</td>\n",
              "      <td>0</td>\n",
              "      <td>0</td>\n",
              "      <td>0</td>\n",
              "      <td>0</td>\n",
              "      <td>0</td>\n",
              "      <td>0</td>\n",
              "    </tr>\n",
              "    <tr>\n",
              "      <th>9</th>\n",
              "      <td>0</td>\n",
              "      <td>0</td>\n",
              "      <td>0</td>\n",
              "      <td>0</td>\n",
              "      <td>0</td>\n",
              "      <td>0</td>\n",
              "      <td>0</td>\n",
              "      <td>0</td>\n",
              "      <td>80</td>\n",
              "      <td>156</td>\n",
              "      <td>107</td>\n",
              "      <td>253</td>\n",
              "      <td>253</td>\n",
              "      <td>205</td>\n",
              "      <td>11</td>\n",
              "      <td>0</td>\n",
              "      <td>43</td>\n",
              "      <td>154</td>\n",
              "      <td>0</td>\n",
              "      <td>0</td>\n",
              "      <td>0</td>\n",
              "      <td>0</td>\n",
              "      <td>0</td>\n",
              "      <td>0</td>\n",
              "      <td>0</td>\n",
              "      <td>0</td>\n",
              "      <td>0</td>\n",
              "      <td>0</td>\n",
              "    </tr>\n",
              "    <tr>\n",
              "      <th>10</th>\n",
              "      <td>0</td>\n",
              "      <td>0</td>\n",
              "      <td>0</td>\n",
              "      <td>0</td>\n",
              "      <td>0</td>\n",
              "      <td>0</td>\n",
              "      <td>0</td>\n",
              "      <td>0</td>\n",
              "      <td>0</td>\n",
              "      <td>14</td>\n",
              "      <td>1</td>\n",
              "      <td>154</td>\n",
              "      <td>253</td>\n",
              "      <td>90</td>\n",
              "      <td>0</td>\n",
              "      <td>0</td>\n",
              "      <td>0</td>\n",
              "      <td>0</td>\n",
              "      <td>0</td>\n",
              "      <td>0</td>\n",
              "      <td>0</td>\n",
              "      <td>0</td>\n",
              "      <td>0</td>\n",
              "      <td>0</td>\n",
              "      <td>0</td>\n",
              "      <td>0</td>\n",
              "      <td>0</td>\n",
              "      <td>0</td>\n",
              "    </tr>\n",
              "    <tr>\n",
              "      <th>11</th>\n",
              "      <td>0</td>\n",
              "      <td>0</td>\n",
              "      <td>0</td>\n",
              "      <td>0</td>\n",
              "      <td>0</td>\n",
              "      <td>0</td>\n",
              "      <td>0</td>\n",
              "      <td>0</td>\n",
              "      <td>0</td>\n",
              "      <td>0</td>\n",
              "      <td>0</td>\n",
              "      <td>139</td>\n",
              "      <td>253</td>\n",
              "      <td>190</td>\n",
              "      <td>2</td>\n",
              "      <td>0</td>\n",
              "      <td>0</td>\n",
              "      <td>0</td>\n",
              "      <td>0</td>\n",
              "      <td>0</td>\n",
              "      <td>0</td>\n",
              "      <td>0</td>\n",
              "      <td>0</td>\n",
              "      <td>0</td>\n",
              "      <td>0</td>\n",
              "      <td>0</td>\n",
              "      <td>0</td>\n",
              "      <td>0</td>\n",
              "    </tr>\n",
              "    <tr>\n",
              "      <th>12</th>\n",
              "      <td>0</td>\n",
              "      <td>0</td>\n",
              "      <td>0</td>\n",
              "      <td>0</td>\n",
              "      <td>0</td>\n",
              "      <td>0</td>\n",
              "      <td>0</td>\n",
              "      <td>0</td>\n",
              "      <td>0</td>\n",
              "      <td>0</td>\n",
              "      <td>0</td>\n",
              "      <td>11</td>\n",
              "      <td>190</td>\n",
              "      <td>253</td>\n",
              "      <td>70</td>\n",
              "      <td>0</td>\n",
              "      <td>0</td>\n",
              "      <td>0</td>\n",
              "      <td>0</td>\n",
              "      <td>0</td>\n",
              "      <td>0</td>\n",
              "      <td>0</td>\n",
              "      <td>0</td>\n",
              "      <td>0</td>\n",
              "      <td>0</td>\n",
              "      <td>0</td>\n",
              "      <td>0</td>\n",
              "      <td>0</td>\n",
              "    </tr>\n",
              "    <tr>\n",
              "      <th>13</th>\n",
              "      <td>0</td>\n",
              "      <td>0</td>\n",
              "      <td>0</td>\n",
              "      <td>0</td>\n",
              "      <td>0</td>\n",
              "      <td>0</td>\n",
              "      <td>0</td>\n",
              "      <td>0</td>\n",
              "      <td>0</td>\n",
              "      <td>0</td>\n",
              "      <td>0</td>\n",
              "      <td>0</td>\n",
              "      <td>35</td>\n",
              "      <td>241</td>\n",
              "      <td>225</td>\n",
              "      <td>160</td>\n",
              "      <td>108</td>\n",
              "      <td>1</td>\n",
              "      <td>0</td>\n",
              "      <td>0</td>\n",
              "      <td>0</td>\n",
              "      <td>0</td>\n",
              "      <td>0</td>\n",
              "      <td>0</td>\n",
              "      <td>0</td>\n",
              "      <td>0</td>\n",
              "      <td>0</td>\n",
              "      <td>0</td>\n",
              "    </tr>\n",
              "    <tr>\n",
              "      <th>14</th>\n",
              "      <td>0</td>\n",
              "      <td>0</td>\n",
              "      <td>0</td>\n",
              "      <td>0</td>\n",
              "      <td>0</td>\n",
              "      <td>0</td>\n",
              "      <td>0</td>\n",
              "      <td>0</td>\n",
              "      <td>0</td>\n",
              "      <td>0</td>\n",
              "      <td>0</td>\n",
              "      <td>0</td>\n",
              "      <td>0</td>\n",
              "      <td>81</td>\n",
              "      <td>240</td>\n",
              "      <td>253</td>\n",
              "      <td>253</td>\n",
              "      <td>119</td>\n",
              "      <td>25</td>\n",
              "      <td>0</td>\n",
              "      <td>0</td>\n",
              "      <td>0</td>\n",
              "      <td>0</td>\n",
              "      <td>0</td>\n",
              "      <td>0</td>\n",
              "      <td>0</td>\n",
              "      <td>0</td>\n",
              "      <td>0</td>\n",
              "    </tr>\n",
              "    <tr>\n",
              "      <th>15</th>\n",
              "      <td>0</td>\n",
              "      <td>0</td>\n",
              "      <td>0</td>\n",
              "      <td>0</td>\n",
              "      <td>0</td>\n",
              "      <td>0</td>\n",
              "      <td>0</td>\n",
              "      <td>0</td>\n",
              "      <td>0</td>\n",
              "      <td>0</td>\n",
              "      <td>0</td>\n",
              "      <td>0</td>\n",
              "      <td>0</td>\n",
              "      <td>0</td>\n",
              "      <td>45</td>\n",
              "      <td>186</td>\n",
              "      <td>253</td>\n",
              "      <td>253</td>\n",
              "      <td>150</td>\n",
              "      <td>27</td>\n",
              "      <td>0</td>\n",
              "      <td>0</td>\n",
              "      <td>0</td>\n",
              "      <td>0</td>\n",
              "      <td>0</td>\n",
              "      <td>0</td>\n",
              "      <td>0</td>\n",
              "      <td>0</td>\n",
              "    </tr>\n",
              "    <tr>\n",
              "      <th>16</th>\n",
              "      <td>0</td>\n",
              "      <td>0</td>\n",
              "      <td>0</td>\n",
              "      <td>0</td>\n",
              "      <td>0</td>\n",
              "      <td>0</td>\n",
              "      <td>0</td>\n",
              "      <td>0</td>\n",
              "      <td>0</td>\n",
              "      <td>0</td>\n",
              "      <td>0</td>\n",
              "      <td>0</td>\n",
              "      <td>0</td>\n",
              "      <td>0</td>\n",
              "      <td>0</td>\n",
              "      <td>16</td>\n",
              "      <td>93</td>\n",
              "      <td>252</td>\n",
              "      <td>253</td>\n",
              "      <td>187</td>\n",
              "      <td>0</td>\n",
              "      <td>0</td>\n",
              "      <td>0</td>\n",
              "      <td>0</td>\n",
              "      <td>0</td>\n",
              "      <td>0</td>\n",
              "      <td>0</td>\n",
              "      <td>0</td>\n",
              "    </tr>\n",
              "    <tr>\n",
              "      <th>17</th>\n",
              "      <td>0</td>\n",
              "      <td>0</td>\n",
              "      <td>0</td>\n",
              "      <td>0</td>\n",
              "      <td>0</td>\n",
              "      <td>0</td>\n",
              "      <td>0</td>\n",
              "      <td>0</td>\n",
              "      <td>0</td>\n",
              "      <td>0</td>\n",
              "      <td>0</td>\n",
              "      <td>0</td>\n",
              "      <td>0</td>\n",
              "      <td>0</td>\n",
              "      <td>0</td>\n",
              "      <td>0</td>\n",
              "      <td>0</td>\n",
              "      <td>249</td>\n",
              "      <td>253</td>\n",
              "      <td>249</td>\n",
              "      <td>64</td>\n",
              "      <td>0</td>\n",
              "      <td>0</td>\n",
              "      <td>0</td>\n",
              "      <td>0</td>\n",
              "      <td>0</td>\n",
              "      <td>0</td>\n",
              "      <td>0</td>\n",
              "    </tr>\n",
              "    <tr>\n",
              "      <th>18</th>\n",
              "      <td>0</td>\n",
              "      <td>0</td>\n",
              "      <td>0</td>\n",
              "      <td>0</td>\n",
              "      <td>0</td>\n",
              "      <td>0</td>\n",
              "      <td>0</td>\n",
              "      <td>0</td>\n",
              "      <td>0</td>\n",
              "      <td>0</td>\n",
              "      <td>0</td>\n",
              "      <td>0</td>\n",
              "      <td>0</td>\n",
              "      <td>0</td>\n",
              "      <td>46</td>\n",
              "      <td>130</td>\n",
              "      <td>183</td>\n",
              "      <td>253</td>\n",
              "      <td>253</td>\n",
              "      <td>207</td>\n",
              "      <td>2</td>\n",
              "      <td>0</td>\n",
              "      <td>0</td>\n",
              "      <td>0</td>\n",
              "      <td>0</td>\n",
              "      <td>0</td>\n",
              "      <td>0</td>\n",
              "      <td>0</td>\n",
              "    </tr>\n",
              "    <tr>\n",
              "      <th>19</th>\n",
              "      <td>0</td>\n",
              "      <td>0</td>\n",
              "      <td>0</td>\n",
              "      <td>0</td>\n",
              "      <td>0</td>\n",
              "      <td>0</td>\n",
              "      <td>0</td>\n",
              "      <td>0</td>\n",
              "      <td>0</td>\n",
              "      <td>0</td>\n",
              "      <td>0</td>\n",
              "      <td>0</td>\n",
              "      <td>39</td>\n",
              "      <td>148</td>\n",
              "      <td>229</td>\n",
              "      <td>253</td>\n",
              "      <td>253</td>\n",
              "      <td>253</td>\n",
              "      <td>250</td>\n",
              "      <td>182</td>\n",
              "      <td>0</td>\n",
              "      <td>0</td>\n",
              "      <td>0</td>\n",
              "      <td>0</td>\n",
              "      <td>0</td>\n",
              "      <td>0</td>\n",
              "      <td>0</td>\n",
              "      <td>0</td>\n",
              "    </tr>\n",
              "    <tr>\n",
              "      <th>20</th>\n",
              "      <td>0</td>\n",
              "      <td>0</td>\n",
              "      <td>0</td>\n",
              "      <td>0</td>\n",
              "      <td>0</td>\n",
              "      <td>0</td>\n",
              "      <td>0</td>\n",
              "      <td>0</td>\n",
              "      <td>0</td>\n",
              "      <td>0</td>\n",
              "      <td>24</td>\n",
              "      <td>114</td>\n",
              "      <td>221</td>\n",
              "      <td>253</td>\n",
              "      <td>253</td>\n",
              "      <td>253</td>\n",
              "      <td>253</td>\n",
              "      <td>201</td>\n",
              "      <td>78</td>\n",
              "      <td>0</td>\n",
              "      <td>0</td>\n",
              "      <td>0</td>\n",
              "      <td>0</td>\n",
              "      <td>0</td>\n",
              "      <td>0</td>\n",
              "      <td>0</td>\n",
              "      <td>0</td>\n",
              "      <td>0</td>\n",
              "    </tr>\n",
              "    <tr>\n",
              "      <th>21</th>\n",
              "      <td>0</td>\n",
              "      <td>0</td>\n",
              "      <td>0</td>\n",
              "      <td>0</td>\n",
              "      <td>0</td>\n",
              "      <td>0</td>\n",
              "      <td>0</td>\n",
              "      <td>0</td>\n",
              "      <td>23</td>\n",
              "      <td>66</td>\n",
              "      <td>213</td>\n",
              "      <td>253</td>\n",
              "      <td>253</td>\n",
              "      <td>253</td>\n",
              "      <td>253</td>\n",
              "      <td>198</td>\n",
              "      <td>81</td>\n",
              "      <td>2</td>\n",
              "      <td>0</td>\n",
              "      <td>0</td>\n",
              "      <td>0</td>\n",
              "      <td>0</td>\n",
              "      <td>0</td>\n",
              "      <td>0</td>\n",
              "      <td>0</td>\n",
              "      <td>0</td>\n",
              "      <td>0</td>\n",
              "      <td>0</td>\n",
              "    </tr>\n",
              "    <tr>\n",
              "      <th>22</th>\n",
              "      <td>0</td>\n",
              "      <td>0</td>\n",
              "      <td>0</td>\n",
              "      <td>0</td>\n",
              "      <td>0</td>\n",
              "      <td>0</td>\n",
              "      <td>18</td>\n",
              "      <td>171</td>\n",
              "      <td>219</td>\n",
              "      <td>253</td>\n",
              "      <td>253</td>\n",
              "      <td>253</td>\n",
              "      <td>253</td>\n",
              "      <td>195</td>\n",
              "      <td>80</td>\n",
              "      <td>9</td>\n",
              "      <td>0</td>\n",
              "      <td>0</td>\n",
              "      <td>0</td>\n",
              "      <td>0</td>\n",
              "      <td>0</td>\n",
              "      <td>0</td>\n",
              "      <td>0</td>\n",
              "      <td>0</td>\n",
              "      <td>0</td>\n",
              "      <td>0</td>\n",
              "      <td>0</td>\n",
              "      <td>0</td>\n",
              "    </tr>\n",
              "    <tr>\n",
              "      <th>23</th>\n",
              "      <td>0</td>\n",
              "      <td>0</td>\n",
              "      <td>0</td>\n",
              "      <td>0</td>\n",
              "      <td>55</td>\n",
              "      <td>172</td>\n",
              "      <td>226</td>\n",
              "      <td>253</td>\n",
              "      <td>253</td>\n",
              "      <td>253</td>\n",
              "      <td>253</td>\n",
              "      <td>244</td>\n",
              "      <td>133</td>\n",
              "      <td>11</td>\n",
              "      <td>0</td>\n",
              "      <td>0</td>\n",
              "      <td>0</td>\n",
              "      <td>0</td>\n",
              "      <td>0</td>\n",
              "      <td>0</td>\n",
              "      <td>0</td>\n",
              "      <td>0</td>\n",
              "      <td>0</td>\n",
              "      <td>0</td>\n",
              "      <td>0</td>\n",
              "      <td>0</td>\n",
              "      <td>0</td>\n",
              "      <td>0</td>\n",
              "    </tr>\n",
              "    <tr>\n",
              "      <th>24</th>\n",
              "      <td>0</td>\n",
              "      <td>0</td>\n",
              "      <td>0</td>\n",
              "      <td>0</td>\n",
              "      <td>136</td>\n",
              "      <td>253</td>\n",
              "      <td>253</td>\n",
              "      <td>253</td>\n",
              "      <td>212</td>\n",
              "      <td>135</td>\n",
              "      <td>132</td>\n",
              "      <td>16</td>\n",
              "      <td>0</td>\n",
              "      <td>0</td>\n",
              "      <td>0</td>\n",
              "      <td>0</td>\n",
              "      <td>0</td>\n",
              "      <td>0</td>\n",
              "      <td>0</td>\n",
              "      <td>0</td>\n",
              "      <td>0</td>\n",
              "      <td>0</td>\n",
              "      <td>0</td>\n",
              "      <td>0</td>\n",
              "      <td>0</td>\n",
              "      <td>0</td>\n",
              "      <td>0</td>\n",
              "      <td>0</td>\n",
              "    </tr>\n",
              "    <tr>\n",
              "      <th>25</th>\n",
              "      <td>0</td>\n",
              "      <td>0</td>\n",
              "      <td>0</td>\n",
              "      <td>0</td>\n",
              "      <td>0</td>\n",
              "      <td>0</td>\n",
              "      <td>0</td>\n",
              "      <td>0</td>\n",
              "      <td>0</td>\n",
              "      <td>0</td>\n",
              "      <td>0</td>\n",
              "      <td>0</td>\n",
              "      <td>0</td>\n",
              "      <td>0</td>\n",
              "      <td>0</td>\n",
              "      <td>0</td>\n",
              "      <td>0</td>\n",
              "      <td>0</td>\n",
              "      <td>0</td>\n",
              "      <td>0</td>\n",
              "      <td>0</td>\n",
              "      <td>0</td>\n",
              "      <td>0</td>\n",
              "      <td>0</td>\n",
              "      <td>0</td>\n",
              "      <td>0</td>\n",
              "      <td>0</td>\n",
              "      <td>0</td>\n",
              "    </tr>\n",
              "    <tr>\n",
              "      <th>26</th>\n",
              "      <td>0</td>\n",
              "      <td>0</td>\n",
              "      <td>0</td>\n",
              "      <td>0</td>\n",
              "      <td>0</td>\n",
              "      <td>0</td>\n",
              "      <td>0</td>\n",
              "      <td>0</td>\n",
              "      <td>0</td>\n",
              "      <td>0</td>\n",
              "      <td>0</td>\n",
              "      <td>0</td>\n",
              "      <td>0</td>\n",
              "      <td>0</td>\n",
              "      <td>0</td>\n",
              "      <td>0</td>\n",
              "      <td>0</td>\n",
              "      <td>0</td>\n",
              "      <td>0</td>\n",
              "      <td>0</td>\n",
              "      <td>0</td>\n",
              "      <td>0</td>\n",
              "      <td>0</td>\n",
              "      <td>0</td>\n",
              "      <td>0</td>\n",
              "      <td>0</td>\n",
              "      <td>0</td>\n",
              "      <td>0</td>\n",
              "    </tr>\n",
              "    <tr>\n",
              "      <th>27</th>\n",
              "      <td>0</td>\n",
              "      <td>0</td>\n",
              "      <td>0</td>\n",
              "      <td>0</td>\n",
              "      <td>0</td>\n",
              "      <td>0</td>\n",
              "      <td>0</td>\n",
              "      <td>0</td>\n",
              "      <td>0</td>\n",
              "      <td>0</td>\n",
              "      <td>0</td>\n",
              "      <td>0</td>\n",
              "      <td>0</td>\n",
              "      <td>0</td>\n",
              "      <td>0</td>\n",
              "      <td>0</td>\n",
              "      <td>0</td>\n",
              "      <td>0</td>\n",
              "      <td>0</td>\n",
              "      <td>0</td>\n",
              "      <td>0</td>\n",
              "      <td>0</td>\n",
              "      <td>0</td>\n",
              "      <td>0</td>\n",
              "      <td>0</td>\n",
              "      <td>0</td>\n",
              "      <td>0</td>\n",
              "      <td>0</td>\n",
              "    </tr>\n",
              "  </tbody>\n",
              "</table>\n",
              "</div>"
            ],
            "text/plain": [
              "    0   1   2   3    4    5    6    7   ...   20   21   22   23  24  25  26  27\n",
              "0    0   0   0   0    0    0    0    0  ...    0    0    0    0   0   0   0   0\n",
              "1    0   0   0   0    0    0    0    0  ...    0    0    0    0   0   0   0   0\n",
              "2    0   0   0   0    0    0    0    0  ...    0    0    0    0   0   0   0   0\n",
              "3    0   0   0   0    0    0    0    0  ...    0    0    0    0   0   0   0   0\n",
              "4    0   0   0   0    0    0    0    0  ...    0    0    0    0   0   0   0   0\n",
              "5    0   0   0   0    0    0    0    0  ...  166  255  247  127   0   0   0   0\n",
              "6    0   0   0   0    0    0    0    0  ...  253  242  195   64   0   0   0   0\n",
              "7    0   0   0   0    0    0    0   49  ...   82   56   39    0   0   0   0   0\n",
              "8    0   0   0   0    0    0    0   18  ...    0    0    0    0   0   0   0   0\n",
              "9    0   0   0   0    0    0    0    0  ...    0    0    0    0   0   0   0   0\n",
              "10   0   0   0   0    0    0    0    0  ...    0    0    0    0   0   0   0   0\n",
              "11   0   0   0   0    0    0    0    0  ...    0    0    0    0   0   0   0   0\n",
              "12   0   0   0   0    0    0    0    0  ...    0    0    0    0   0   0   0   0\n",
              "13   0   0   0   0    0    0    0    0  ...    0    0    0    0   0   0   0   0\n",
              "14   0   0   0   0    0    0    0    0  ...    0    0    0    0   0   0   0   0\n",
              "15   0   0   0   0    0    0    0    0  ...    0    0    0    0   0   0   0   0\n",
              "16   0   0   0   0    0    0    0    0  ...    0    0    0    0   0   0   0   0\n",
              "17   0   0   0   0    0    0    0    0  ...   64    0    0    0   0   0   0   0\n",
              "18   0   0   0   0    0    0    0    0  ...    2    0    0    0   0   0   0   0\n",
              "19   0   0   0   0    0    0    0    0  ...    0    0    0    0   0   0   0   0\n",
              "20   0   0   0   0    0    0    0    0  ...    0    0    0    0   0   0   0   0\n",
              "21   0   0   0   0    0    0    0    0  ...    0    0    0    0   0   0   0   0\n",
              "22   0   0   0   0    0    0   18  171  ...    0    0    0    0   0   0   0   0\n",
              "23   0   0   0   0   55  172  226  253  ...    0    0    0    0   0   0   0   0\n",
              "24   0   0   0   0  136  253  253  253  ...    0    0    0    0   0   0   0   0\n",
              "25   0   0   0   0    0    0    0    0  ...    0    0    0    0   0   0   0   0\n",
              "26   0   0   0   0    0    0    0    0  ...    0    0    0    0   0   0   0   0\n",
              "27   0   0   0   0    0    0    0    0  ...    0    0    0    0   0   0   0   0\n",
              "\n",
              "[28 rows x 28 columns]"
            ]
          },
          "metadata": {
            "tags": []
          },
          "execution_count": 5
        }
      ]
    },
    {
      "cell_type": "markdown",
      "metadata": {
        "id": "y1TxTITvyKV0"
      },
      "source": [
        "### 入力データ（trainX, testX）の最大値と最小値を確認\n",
        "入力データとなるtrainX, trainYは最大255, 最小0の8bit(分解能256)の数値の配列であることが分かります。"
      ]
    },
    {
      "cell_type": "code",
      "metadata": {
        "id": "PcNXZR0oyKV1",
        "colab": {
          "base_uri": "https://localhost:8080/",
          "height": 0
        },
        "outputId": "f41df0eb-c290-4373-d2c5-7dae729c57c1"
      },
      "source": [
        "print(\"---trainX---\")\n",
        "print(\"最大値：\", trainX.max()) \n",
        "print(\"最小値：\", trainX.min()) \n",
        "\n",
        "print(\"\\n---testX---\")\n",
        "print(\"最大値：\", testX.max()) \n",
        "print(\"最小値：\", testX.min()) "
      ],
      "execution_count": 6,
      "outputs": [
        {
          "output_type": "stream",
          "text": [
            "---trainX---\n",
            "最大値： 255\n",
            "最小値： 0\n",
            "\n",
            "---testX---\n",
            "最大値： 255\n",
            "最小値： 0\n"
          ],
          "name": "stdout"
        }
      ]
    },
    {
      "cell_type": "markdown",
      "metadata": {
        "id": "_WeVM1gjyKV4"
      },
      "source": [
        "### 入力データ（trainX, testX）のフォーマットを変更する\n",
        "今回構築するモデル（DNN, Deep Neural Network，ディープニューラルネットワーク）は全結合層（Dense Layer）のみを使用します。全結合層は一次元の配列のみを受け付けるため，それに合うように入力データのフォーマットを変更する必要があります。また，すべての値を255で割ることで最大値が1.0, 最小値が0.0となるように規格化します。このような処理は前処理（Preprocess）と呼ばれ，DNNを上手く学習させるために有効な手段です。"
      ]
    },
    {
      "cell_type": "code",
      "metadata": {
        "id": "x4iwzo5vyKV4",
        "colab": {
          "base_uri": "https://localhost:8080/",
          "height": 0
        },
        "outputId": "8b5ac4f4-b99b-4d98-a6df-c707bc6a7b89"
      },
      "source": [
        "#二次元のデータを一次元に変更する\n",
        "trainX_1d = trainX.reshape(-1, 784)\n",
        "testX_1d = testX.reshape(-1, 784)\n",
        "\n",
        "#最大が1.0となるように規格化する\n",
        "trainX_1d = trainX_1d/trainX_1d.max()\n",
        "testX_1d = testX_1d/testX_1d.max()\n",
        "\n",
        "#表示して確認する\n",
        "print(\"---trainX_1d---\")\n",
        "print(\"最大値：\", trainX_1d.max())\n",
        "print(\"最小値：\", trainX_1d.min())\n",
        "print(\"Shape：\", trainX_1d.shape)\n",
        "\n",
        "print(\"\\n---testX_1d---\")\n",
        "print(\"最大値：\", testX_1d.max())\n",
        "print(\"最小値：\", testX_1d.min())\n",
        "print(\"Shape：\", testX_1d.shape)"
      ],
      "execution_count": 7,
      "outputs": [
        {
          "output_type": "stream",
          "text": [
            "---trainX_1d---\n",
            "最大値： 1.0\n",
            "最小値： 0.0\n",
            "Shape： (60000, 784)\n",
            "\n",
            "---testX_1d---\n",
            "最大値： 1.0\n",
            "最小値： 0.0\n",
            "Shape： (10000, 784)\n"
          ],
          "name": "stdout"
        }
      ]
    },
    {
      "cell_type": "markdown",
      "metadata": {
        "id": "g1lKPAfTyKV7"
      },
      "source": [
        "### 出力データ（trainY, testY）のフォーマットを変更する\n",
        "\n",
        "出力データも学習に合うようにフォーマットを変更します。trainY, testYにはもともとtrainX, testXの画像データに対応する整数（0, 1, 2, 3, 4 ...）が入っていますが，これをOne-hotベクトルと呼ばれる以下のような長さが10の配列に変換します。例えば，もともとの数値が3であれば，3番目の要素が1でその他が0となっていることに注目してください。\n",
        "\n",
        "```\n",
        "0 -> [1, 0, 0, 0, 0, 0, 0, 0, 0, 0]\n",
        "1 -> [0, 1, 0, 0, 0, 0, 0, 0, 0, 0]\n",
        "2 -> [0, 0, 1, 0, 0, 0, 0, 0, 0, 0]\n",
        "3 -> [0, 0, 0, 1, 0, 0, 0, 0, 0, 0]\n",
        "4 -> [0, 0, 0, 0, 1, 0, 0, 0, 0, 0]\n",
        "5 -> [0, 0, 0, 0, 0, 1, 0, 0, 0, 0]\n",
        "6 -> [0, 0, 0, 0, 0, 0, 1, 0, 0, 0]\n",
        "7 -> [0, 0, 0, 0, 0, 0, 0, 1, 0, 0]\n",
        "8 -> [0, 0, 0, 0, 0, 0, 0, 0, 1, 0]\n",
        "9 -> [0, 0, 0, 0, 0, 0, 0, 0, 0, 1]\n",
        "```"
      ]
    },
    {
      "cell_type": "markdown",
      "metadata": {
        "id": "VM-uc2MCsE8V"
      },
      "source": [
        "整数をOne-hotベクトルに変更するには```to_categorical()```を使用します。"
      ]
    },
    {
      "cell_type": "code",
      "metadata": {
        "id": "PFIKynNSyKV7",
        "colab": {
          "base_uri": "https://localhost:8080/",
          "height": 204
        },
        "outputId": "13eb6436-d2f0-4b5d-ef5a-2290fa508552"
      },
      "source": [
        "# One-hotベクトルに変更する\n",
        "trainY_onehot = to_categorical(trainY)\n",
        "testY_onehot = to_categorical(testY)\n",
        "\n",
        "# trainYの最初の5個を表示して確認\n",
        "pd.DataFrame(trainY_onehot).head(5)"
      ],
      "execution_count": 8,
      "outputs": [
        {
          "output_type": "execute_result",
          "data": {
            "text/html": [
              "<div>\n",
              "<style scoped>\n",
              "    .dataframe tbody tr th:only-of-type {\n",
              "        vertical-align: middle;\n",
              "    }\n",
              "\n",
              "    .dataframe tbody tr th {\n",
              "        vertical-align: top;\n",
              "    }\n",
              "\n",
              "    .dataframe thead th {\n",
              "        text-align: right;\n",
              "    }\n",
              "</style>\n",
              "<table border=\"1\" class=\"dataframe\">\n",
              "  <thead>\n",
              "    <tr style=\"text-align: right;\">\n",
              "      <th></th>\n",
              "      <th>0</th>\n",
              "      <th>1</th>\n",
              "      <th>2</th>\n",
              "      <th>3</th>\n",
              "      <th>4</th>\n",
              "      <th>5</th>\n",
              "      <th>6</th>\n",
              "      <th>7</th>\n",
              "      <th>8</th>\n",
              "      <th>9</th>\n",
              "    </tr>\n",
              "  </thead>\n",
              "  <tbody>\n",
              "    <tr>\n",
              "      <th>0</th>\n",
              "      <td>0.0</td>\n",
              "      <td>0.0</td>\n",
              "      <td>0.0</td>\n",
              "      <td>0.0</td>\n",
              "      <td>0.0</td>\n",
              "      <td>1.0</td>\n",
              "      <td>0.0</td>\n",
              "      <td>0.0</td>\n",
              "      <td>0.0</td>\n",
              "      <td>0.0</td>\n",
              "    </tr>\n",
              "    <tr>\n",
              "      <th>1</th>\n",
              "      <td>1.0</td>\n",
              "      <td>0.0</td>\n",
              "      <td>0.0</td>\n",
              "      <td>0.0</td>\n",
              "      <td>0.0</td>\n",
              "      <td>0.0</td>\n",
              "      <td>0.0</td>\n",
              "      <td>0.0</td>\n",
              "      <td>0.0</td>\n",
              "      <td>0.0</td>\n",
              "    </tr>\n",
              "    <tr>\n",
              "      <th>2</th>\n",
              "      <td>0.0</td>\n",
              "      <td>0.0</td>\n",
              "      <td>0.0</td>\n",
              "      <td>0.0</td>\n",
              "      <td>1.0</td>\n",
              "      <td>0.0</td>\n",
              "      <td>0.0</td>\n",
              "      <td>0.0</td>\n",
              "      <td>0.0</td>\n",
              "      <td>0.0</td>\n",
              "    </tr>\n",
              "    <tr>\n",
              "      <th>3</th>\n",
              "      <td>0.0</td>\n",
              "      <td>1.0</td>\n",
              "      <td>0.0</td>\n",
              "      <td>0.0</td>\n",
              "      <td>0.0</td>\n",
              "      <td>0.0</td>\n",
              "      <td>0.0</td>\n",
              "      <td>0.0</td>\n",
              "      <td>0.0</td>\n",
              "      <td>0.0</td>\n",
              "    </tr>\n",
              "    <tr>\n",
              "      <th>4</th>\n",
              "      <td>0.0</td>\n",
              "      <td>0.0</td>\n",
              "      <td>0.0</td>\n",
              "      <td>0.0</td>\n",
              "      <td>0.0</td>\n",
              "      <td>0.0</td>\n",
              "      <td>0.0</td>\n",
              "      <td>0.0</td>\n",
              "      <td>0.0</td>\n",
              "      <td>1.0</td>\n",
              "    </tr>\n",
              "  </tbody>\n",
              "</table>\n",
              "</div>"
            ],
            "text/plain": [
              "     0    1    2    3    4    5    6    7    8    9\n",
              "0  0.0  0.0  0.0  0.0  0.0  1.0  0.0  0.0  0.0  0.0\n",
              "1  1.0  0.0  0.0  0.0  0.0  0.0  0.0  0.0  0.0  0.0\n",
              "2  0.0  0.0  0.0  0.0  1.0  0.0  0.0  0.0  0.0  0.0\n",
              "3  0.0  1.0  0.0  0.0  0.0  0.0  0.0  0.0  0.0  0.0\n",
              "4  0.0  0.0  0.0  0.0  0.0  0.0  0.0  0.0  0.0  1.0"
            ]
          },
          "metadata": {
            "tags": []
          },
          "execution_count": 8
        }
      ]
    },
    {
      "cell_type": "markdown",
      "metadata": {
        "id": "AM66_hSwfLrP"
      },
      "source": [
        "### validX, validYを生成\n",
        "trainX, trainYを分離して検証用データ（validX, validY）を生成します。```test_size=0.2```とした場合は，trainX, trainYの2割を検証用データとして使用することになります。"
      ]
    },
    {
      "cell_type": "code",
      "metadata": {
        "id": "yK1UhG2ofM1a"
      },
      "source": [
        "trainX_1d, validX_1d, trainY_onehot, validY_onehot = train_test_split(trainX_1d, trainY_onehot, test_size=0.2)"
      ],
      "execution_count": 9,
      "outputs": []
    },
    {
      "cell_type": "markdown",
      "metadata": {
        "id": "MqUQr3RgfPz2"
      },
      "source": [
        "### 学習に使用するデータのshapeを確認\n",
        "今回使用するデータはtrainX_1d, trainY_onehot, validX_1D, validY_onehot, testX_1d, testY_onehotです。shapeを確認しておきましょう。"
      ]
    },
    {
      "cell_type": "code",
      "metadata": {
        "id": "vJwp8PsDfPK1",
        "colab": {
          "base_uri": "https://localhost:8080/",
          "height": 0
        },
        "outputId": "777e9264-5dfb-4e2c-9b58-6dfd2f6065c5"
      },
      "source": [
        "print(\"Data shapes\")\n",
        "print(\"trainX_1d:\", trainX_1d.shape)\n",
        "print(\"trainY_onehot:\", trainY_onehot.shape)\n",
        "print(\"validX_1d:\", validX_1d.shape)\n",
        "print(\"validY_onehot:\", validY_onehot.shape)\n",
        "print(\"testX_1d:\", testX_1d.shape)\n",
        "print(\"testY_onehot:\", testY_onehot.shape)"
      ],
      "execution_count": 10,
      "outputs": [
        {
          "output_type": "stream",
          "text": [
            "Data shapes\n",
            "trainX_1d: (48000, 784)\n",
            "trainY_onehot: (48000, 10)\n",
            "validX_1d: (12000, 784)\n",
            "validY_onehot: (12000, 10)\n",
            "testX_1d: (10000, 784)\n",
            "testY_onehot: (10000, 10)\n"
          ],
          "name": "stdout"
        }
      ]
    },
    {
      "cell_type": "markdown",
      "metadata": {
        "id": "8ioghqiHyKV9"
      },
      "source": [
        "## 学習"
      ]
    },
    {
      "cell_type": "markdown",
      "metadata": {
        "id": "G99hEgQRyKV-"
      },
      "source": [
        "### モデルの構築\n",
        "ここからいよいよモデル（DNN, Deep Neural Network）を構築します。以下は全結合層の中間層が2層あるシンプルなモデルの例です。入力データのサイズは長さが784(28x28)の一次元配列になっています。出力データのサイズ長さが10(数字のOne-hotベクトル)の一次元配列になっています。最後に可視化することで意図したモデルが構築できているか確認しましょう。"
      ]
    },
    {
      "cell_type": "code",
      "metadata": {
        "id": "rRHEb_qlyKV_",
        "colab": {
          "base_uri": "https://localhost:8080/",
          "height": 422
        },
        "outputId": "75e06d5c-76c0-4326-b879-1a67b457e7b2"
      },
      "source": [
        "# モデルの初期化\n",
        "model = Sequential()\n",
        "\n",
        "# 入力層\n",
        "model.add(InputLayer(input_shape=(784,)))\n",
        "\n",
        "# 中間層（１層目）\n",
        "model.add(Dense(units=32, activation=\"relu\"))\n",
        "\n",
        "# 中間層（２層目）\n",
        "model.add(Dense(units= 32, activation=\"relu\"))\n",
        "\n",
        "# 出力層\n",
        "model.add(Dense(units=10, activation=\"softmax\"))\n",
        "\n",
        "# 構築したモデルを可視化して確認\n",
        "plot_model(model, show_shapes=True)"
      ],
      "execution_count": 11,
      "outputs": [
        {
          "output_type": "execute_result",
          "data": {
            "image/png": "[encoded data removed]",
            "text/plain": [
              "<IPython.core.display.Image object>"
            ]
          },
          "metadata": {
            "tags": []
          },
          "execution_count": 11
        }
      ]
    },
    {
      "cell_type": "markdown",
      "metadata": {
        "id": "V3shxQCitilu"
      },
      "source": [
        "構築したモデルは次の方法でも確認できます。この方法では，学習させるパラメータの数を確認することもできます。"
      ]
    },
    {
      "cell_type": "code",
      "metadata": {
        "id": "xZjZGGWbxrTv",
        "colab": {
          "base_uri": "https://localhost:8080/",
          "height": 0
        },
        "outputId": "634620bd-bee0-4829-9e4f-c5c1c4f98d8c"
      },
      "source": [
        "# 構築したモデルを別の方法で可視化して確認\n",
        "model.summary()"
      ],
      "execution_count": 12,
      "outputs": [
        {
          "output_type": "stream",
          "text": [
            "Model: \"sequential\"\n",
            "_________________________________________________________________\n",
            "Layer (type)                 Output Shape              Param #   \n",
            "=================================================================\n",
            "dense (Dense)                (None, 32)                25120     \n",
            "_________________________________________________________________\n",
            "dense_1 (Dense)              (None, 32)                1056      \n",
            "_________________________________________________________________\n",
            "dense_2 (Dense)              (None, 10)                330       \n",
            "=================================================================\n",
            "Total params: 26,506\n",
            "Trainable params: 26,506\n",
            "Non-trainable params: 0\n",
            "_________________________________________________________________\n"
          ],
          "name": "stdout"
        }
      ]
    },
    {
      "cell_type": "markdown",
      "metadata": {
        "id": "ZR3s04STyKWA"
      },
      "source": [
        "### モデルのコンパイル\n",
        "\n",
        "モデルを学習させるためにコンパイルします。指定する主なパラメータは以下の通りです。\n",
        "\n",
        "* **loss** 損失関数は何を使うか？分類問題の場合は，\"categorical_crossentropy\"がほとんど。\n",
        "* **optimizer** 最適化関数は何を使うか？\"adam\"のほかに，\"sgd\", \"RMSprop\"などが使える\n",
        "* **metrics** 評価関数。パラメータの最適化には用いられない。"
      ]
    },
    {
      "cell_type": "code",
      "metadata": {
        "id": "5TJIChznyKWB"
      },
      "source": [
        "# モデルをコンパイルする\n",
        "model.compile(\n",
        "                loss=\"categorical_crossentropy\",\n",
        "                optimizer=\"adam\", \n",
        "                metrics=[\"accuracy\"]\n",
        "              )"
      ],
      "execution_count": 13,
      "outputs": []
    },
    {
      "cell_type": "markdown",
      "metadata": {
        "id": "jQuEv2X3yKWE"
      },
      "source": [
        "### モデルの学習（トレーニング）\n",
        "\n",
        "モデルを学習させます。```model.fit()```だけでも学習できますが，```history=model.fit()```としておくことで後から学習経過を可視化できます。指定する主なパラメータは以下の通りです。\n",
        "\n",
        "* **trainX** 学習用データの入力データ，今回の場合は長さが784の一次元配列\n",
        "* **trainY** 学習用データの出力データ，今回の場合は0~9のone-hot表現）\n",
        "* **batch_size** 何個のデータごとにパラメータを更新するか？1バッチあたりのデータ数\n",
        "* **epochs** すべての学習用データを何回通りみるか？\n",
        "* **validation_data** 検証用データ\n",
        "* **shuffle** 学習用データを見る順番をシャッフルするか？\n",
        "* **verbose** 学習経過の表示方法。0,1,2が選択可能。"
      ]
    },
    {
      "cell_type": "code",
      "metadata": {
        "id": "uuy6MwFEyKWF",
        "colab": {
          "base_uri": "https://localhost:8080/",
          "height": 0
        },
        "outputId": "ca828612-dd8d-48ea-a76b-90cf41aa64fb"
      },
      "source": [
        "history = model.fit(\n",
        "                    trainX_1d, trainY_onehot,\n",
        "                    batch_size=64,\n",
        "                    epochs=10,\n",
        "                    validation_data=(validX_1d, validY_onehot),\n",
        "                    shuffle=True,\n",
        "                    verbose=1\n",
        "                   )"
      ],
      "execution_count": 14,
      "outputs": [
        {
          "output_type": "stream",
          "text": [
            "Epoch 1/10\n",
            "750/750 [==============================] - 3s 3ms/step - loss: 0.4522 - accuracy: 0.8691 - val_loss: 0.2288 - val_accuracy: 0.9330\n",
            "Epoch 2/10\n",
            "750/750 [==============================] - 2s 2ms/step - loss: 0.2087 - accuracy: 0.9384 - val_loss: 0.1776 - val_accuracy: 0.9473\n",
            "Epoch 3/10\n",
            "750/750 [==============================] - 2s 2ms/step - loss: 0.1637 - accuracy: 0.9523 - val_loss: 0.1489 - val_accuracy: 0.9582\n",
            "Epoch 4/10\n",
            "750/750 [==============================] - 2s 2ms/step - loss: 0.1381 - accuracy: 0.9586 - val_loss: 0.1430 - val_accuracy: 0.9565\n",
            "Epoch 5/10\n",
            "750/750 [==============================] - 2s 2ms/step - loss: 0.1194 - accuracy: 0.9637 - val_loss: 0.1265 - val_accuracy: 0.9626\n",
            "Epoch 6/10\n",
            "750/750 [==============================] - 2s 2ms/step - loss: 0.1055 - accuracy: 0.9681 - val_loss: 0.1212 - val_accuracy: 0.9632\n",
            "Epoch 7/10\n",
            "750/750 [==============================] - 2s 2ms/step - loss: 0.0929 - accuracy: 0.9718 - val_loss: 0.1172 - val_accuracy: 0.9635\n",
            "Epoch 8/10\n",
            "750/750 [==============================] - 2s 2ms/step - loss: 0.0843 - accuracy: 0.9743 - val_loss: 0.1129 - val_accuracy: 0.9648\n",
            "Epoch 9/10\n",
            "750/750 [==============================] - 2s 2ms/step - loss: 0.0760 - accuracy: 0.9760 - val_loss: 0.1131 - val_accuracy: 0.9654\n",
            "Epoch 10/10\n",
            "750/750 [==============================] - 2s 2ms/step - loss: 0.0695 - accuracy: 0.9781 - val_loss: 0.1087 - val_accuracy: 0.9689\n"
          ],
          "name": "stdout"
        }
      ]
    },
    {
      "cell_type": "markdown",
      "metadata": {
        "id": "HsecjUx2yKWI"
      },
      "source": [
        "### 学習経過の確認\n",
        "学習経過を可視化して上手く学習できているか？過学習などが起こっていないかを確認しましょう。"
      ]
    },
    {
      "cell_type": "code",
      "metadata": {
        "id": "KwgOLiPpyKWI",
        "colab": {
          "base_uri": "https://localhost:8080/",
          "height": 364
        },
        "outputId": "2d48642c-3e5c-47f4-b88c-e67848d0ef0c"
      },
      "source": [
        "plt.figure(figsize=(8,5))\n",
        "plt.rcParams[\"font.size\"]=14\n",
        "\n",
        "epoch = history.epoch\n",
        "train_acc = history.history[\"accuracy\"]\n",
        "train_loss = history.history[\"loss\"]\n",
        "val_acc = history.history[\"val_accuracy\"]\n",
        "val_loss = history.history[\"val_loss\"]\n",
        "\n",
        "plt.plot(epoch, train_acc, label=\"train acc\", c=\"#ff7f0e\")\n",
        "plt.plot(epoch, val_acc, marker=\"o\", lw=0, label=\"val acc\", c=\"#ff7f0e\")\n",
        "\n",
        "plt.plot(epoch, train_loss, label=\"train loss\", c=\"#1f77b4\")\n",
        "plt.plot(epoch, val_loss, marker=\"o\", lw=0, label=\"val loss\", c=\"#1f77b4\")\n",
        "\n",
        "plt.ylim(0, 1)\n",
        "#plt.xlim(-10, 210)\n",
        "plt.legend()\n",
        "plt.grid()\n",
        "\n",
        "plt.xlabel(\"Epochs\")\n",
        "plt.ylabel(\"Accuracy & Loss\")"
      ],
      "execution_count": 15,
      "outputs": [
        {
          "output_type": "execute_result",
          "data": {
            "text/plain": [
              "Text(0, 0.5, 'Accuracy & Loss')"
            ]
          },
          "metadata": {
            "tags": []
          },
          "execution_count": 15
        },
        {
          "output_type": "display_data",
          "data": {
            "image/png": "[encoded data removed]",
            "text/plain": [
              "<Figure size 576x360 with 1 Axes>"
            ]
          },
          "metadata": {
            "tags": [],
            "needs_background": "light"
          }
        }
      ]
    },
    {
      "cell_type": "markdown",
      "metadata": {
        "id": "cJKBDcvAyKWL"
      },
      "source": [
        "## 学習済みモデルの評価"
      ]
    },
    {
      "cell_type": "markdown",
      "metadata": {
        "id": "vWFAziwEyKWM"
      },
      "source": [
        "### 学習済みモデルを使ってテスト用データ（testX）から数字を推論\n",
        "次の1行でテスト用データに対して推論を行います。"
      ]
    },
    {
      "cell_type": "code",
      "metadata": {
        "id": "vklukDUrw99a"
      },
      "source": [
        "# 推論\n",
        "predY_onehot = model.predict(testX_1d)"
      ],
      "execution_count": 16,
      "outputs": []
    },
    {
      "cell_type": "markdown",
      "metadata": {
        "id": "mVSsetDNxAuh"
      },
      "source": [
        "N番目のtestXに対する推論結果を確認してみましょう。推論結果の```predY```も長さが10の一次元配列になっています。"
      ]
    },
    {
      "cell_type": "code",
      "metadata": {
        "id": "SYw_zaPDxGsp",
        "colab": {
          "base_uri": "https://localhost:8080/",
          "height": 305
        },
        "outputId": "fa734d04-5849-452a-c19a-b4da4821d211"
      },
      "source": [
        "# N番目を指定\n",
        "N = 500\n",
        "\n",
        "# N番目の画像データを表示\n",
        "plt.imshow(testX[N], cmap=\"gray\")\n",
        "\n",
        "# N番目の推論結果を表示\n",
        "print(f\"{N}番目の画像データに対する推論結果\")\n",
        "print(predY_onehot[N])"
      ],
      "execution_count": 17,
      "outputs": [
        {
          "output_type": "stream",
          "text": [
            "500番目の画像データに対する推論結果\n",
            "[0. 0. 0. 1. 0. 0. 0. 0. 0. 0.]\n"
          ],
          "name": "stdout"
        },
        {
          "output_type": "display_data",
          "data": {
            "image/png": "[encoded data removed]",
            "text/plain": [
              "<Figure size 432x288 with 1 Axes>"
            ]
          },
          "metadata": {
            "tags": [],
            "needs_background": "light"
          }
        }
      ]
    },
    {
      "cell_type": "markdown",
      "metadata": {
        "id": "w-aoK3MTyoaK"
      },
      "source": [
        "推論結果である```predY```の10個の数値は，入力された画像データが0~9のどの数字であるかという確率を表しています。したがって，最も高い確率を示す要素の指標（順番）が元の画像データの数字だと言えます。以下のコードで```predY```から実際の数字を求めます。"
      ]
    },
    {
      "cell_type": "code",
      "metadata": {
        "id": "fewekEWbE_WI",
        "colab": {
          "base_uri": "https://localhost:8080/",
          "height": 0
        },
        "outputId": "ce1b2283-e597-49e3-9dae-6ee6a8e5496d"
      },
      "source": [
        "# 推論結果（確率）が最大となる指標を求める\n",
        "predY = np.argmax(predY_onehot, axis=1)\n",
        "\n",
        "# N番目の数字を確認する\n",
        "print(predY[N])"
      ],
      "execution_count": 18,
      "outputs": [
        {
          "output_type": "stream",
          "text": [
            "3\n"
          ],
          "name": "stdout"
        }
      ]
    },
    {
      "cell_type": "markdown",
      "metadata": {
        "id": "nfLsj1ndHRRk"
      },
      "source": [
        "### 推論結果の一部を可視化\n",
        "学習済みモデルを使ってtestXのデータから推論した結果の一部を表示してみましょう。Truthが正解値，Predが推論結果です。"
      ]
    },
    {
      "cell_type": "code",
      "metadata": {
        "id": "d_LHxcp2yKWP",
        "colab": {
          "base_uri": "https://localhost:8080/",
          "height": 265
        },
        "outputId": "9fd69209-169c-463b-aef2-2b0dd0080287"
      },
      "source": [
        "plt.figure(figsize=(12,4))\n",
        "plt.rcParams[\"font.size\"]=12\n",
        "\n",
        "for i in range(10):\n",
        "    plt.subplot(2,5,i+1)\n",
        "    plt.imshow(testX[i], cmap='gray')\n",
        "    plt.axis(\"off\")\n",
        "    true_index = testY[i]\n",
        "    pred_index = predY[i]\n",
        "    if true_index == pred_index:\n",
        "        color = \"green\"\n",
        "    else:\n",
        "        color = \"red\"\n",
        "    title = f\"true: {true_index} pred: {pred_index}\"\n",
        "    plt.title(title, color=color)"
      ],
      "execution_count": 19,
      "outputs": [
        {
          "output_type": "display_data",
          "data": {
            "image/png": "[encoded data removed]",
            "text/plain": [
              "<Figure size 864x288 with 10 Axes>"
            ]
          },
          "metadata": {
            "tags": [],
            "needs_background": "light"
          }
        }
      ]
    },
    {
      "cell_type": "markdown",
      "metadata": {
        "id": "e-CdLbbKoWfI"
      },
      "source": [
        "### モデルの精度を検証\n",
        "全てのテスト用データに対するモデルの精度を検証します。"
      ]
    },
    {
      "cell_type": "code",
      "metadata": {
        "id": "QYFAVcSHMm3g",
        "colab": {
          "base_uri": "https://localhost:8080/",
          "height": 0
        },
        "outputId": "b86c28e5-6d33-4285-dc77-babc2ff7eb7e"
      },
      "source": [
        "score = model.evaluate(testX_1d, testY_onehot)\n",
        "print(\"Test Accuracy = {:.2f}\".format(score[1]))"
      ],
      "execution_count": 20,
      "outputs": [
        {
          "output_type": "stream",
          "text": [
            "313/313 [==============================] - 0s 1ms/step - loss: 0.1174 - accuracy: 0.9656\n",
            "Test Accuracy = 0.97\n"
          ],
          "name": "stdout"
        }
      ]
    },
    {
      "cell_type": "markdown",
      "metadata": {
        "id": "0u8ze6RAjwsu"
      },
      "source": [
        "### 混同行列\n",
        "モデルの精度をより詳しく検証するためには混同行列を使います。"
      ]
    },
    {
      "cell_type": "code",
      "metadata": {
        "id": "PsJ-G1lmj0Uu",
        "colab": {
          "base_uri": "https://localhost:8080/",
          "height": 473
        },
        "outputId": "459deb48-5f15-4a84-bc28-d9c0bc51919a"
      },
      "source": [
        "cmx = np.array(confusion_matrix(testY, predY))\n",
        "\n",
        "cmx_pct = np.zeros(cmx.shape)\n",
        "\n",
        "for i in range(cmx.shape[0]):\n",
        "    for j in range(cmx.shape[1]):\n",
        "        cmx_pct[i, j] = cmx[i, j]/cmx[i, :].sum()\n",
        "\n",
        "plt.rcParams[\"font.size\"]=14\n",
        "plt.figure(figsize=(8,7))\n",
        "sns.heatmap(cmx_pct, annot=True, fmt=\".2f\", cmap=\"Blues\", vmin=0, vmax=1)\n",
        "plt.ylabel(\"Truth\")\n",
        "plt.xlabel(\"Prediction\")"
      ],
      "execution_count": 21,
      "outputs": [
        {
          "output_type": "execute_result",
          "data": {
            "text/plain": [
              "Text(0.5, 38.0, 'Prediction')"
            ]
          },
          "metadata": {
            "tags": []
          },
          "execution_count": 21
        },
        {
          "output_type": "display_data",
          "data": {
            "image/png": "[encoded data removed]",
            "text/plain": [
              "<Figure size 576x504 with 2 Axes>"
            ]
          },
          "metadata": {
            "tags": [],
            "needs_background": "light"
          }
        }
      ]
    }
  ]
}