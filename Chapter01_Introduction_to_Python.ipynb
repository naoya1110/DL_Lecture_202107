{
  "nbformat": 4,
  "nbformat_minor": 0,
  "metadata": {
    "colab": {
      "name": "Chapter01_Introduction_to_Python.ipynb",
      "provenance": [],
      "collapsed_sections": [],
      "include_colab_link": true
    },
    "kernelspec": {
      "display_name": "Python 3",
      "language": "python",
      "name": "python3"
    }
  },
  "cells": [
    {
      "cell_type": "markdown",
      "metadata": {
        "id": "view-in-github",
        "colab_type": "text"
      },
      "source": [
        "<a href=\"https://colab.research.google.com/github/naoya1110/DL_Lecture_202107/blob/main/Chapter01_Introduction_to_Python.ipynb\" target=\"_parent\"><img src=\"https://colab.research.google.com/assets/colab-badge.svg\" alt=\"Open In Colab\"/></a>"
      ]
    },
    {
      "cell_type": "markdown",
      "metadata": {
        "id": "JNzFO1buk1T7"
      },
      "source": [
        "# Chapter 01: Introduction to Python "
      ]
    },
    {
      "cell_type": "markdown",
      "metadata": {
        "id": "NpilGf1fJSqe"
      },
      "source": [
        "## はじめに\n",
        "この講座では，Google Colaboratory (通称：グーグルコラボ, Google Colab)を使ってPythonのプログラミングをしながら，ディープラーニングに超入門します。まずは，Google Colabの基本的な使い方とPythonの簡単なプログラミングに慣れていきましょう。"
      ]
    },
    {
      "cell_type": "markdown",
      "metadata": {
        "id": "SR028J03NNup"
      },
      "source": [
        "## Google Colabの設定\n",
        "初めに次の項目について設定しておきましょう。\n",
        "\n",
        "\n",
        "*   行番号の表示\n",
        "*   インデント量（半角スペース4個）の設定\n",
        "*   インデントガイドの表示\n",
        "\n",
        "\n"
      ]
    },
    {
      "cell_type": "markdown",
      "metadata": {
        "id": "4MJE2J2Jk1T8"
      },
      "source": [
        "## なにはともあれ \"Hello, world!!\"\n",
        "プログラミングの第一歩，\"Hello world!\"を表示するに，次のセルを実行してみましょう。（ shift + enter でもセル内のコードを実行できます） Pythonで文字を表示したい場合は，```print(\"表示したい文字\")```を使います。"
      ]
    },
    {
      "cell_type": "code",
      "metadata": {
        "id": "Y7GG6HGGk1T9",
        "colab": {
          "base_uri": "https://localhost:8080/",
          "height": 0
        },
        "outputId": "a022e541-a12e-4e2c-c159-3b7684e4ad8b"
      },
      "source": [
        "print(\"Hello, world!!\")"
      ],
      "execution_count": 1,
      "outputs": [
        {
          "output_type": "stream",
          "text": [
            "Hello, world!!\n"
          ],
          "name": "stdout"
        }
      ]
    },
    {
      "cell_type": "markdown",
      "metadata": {
        "id": "b_wMDwy5Mw0q"
      },
      "source": [
        "Pythonでコメントアウトするときは```#```を使います。プログラムの行頭に```#```を付けておくとその行のプログラムは実行されません。"
      ]
    },
    {
      "cell_type": "code",
      "metadata": {
        "id": "JwuZi2ymk1UJ"
      },
      "source": [
        "# これはコメント\n",
        "# print(\"Hello, world!!\")"
      ],
      "execution_count": 2,
      "outputs": []
    },
    {
      "cell_type": "markdown",
      "metadata": {
        "id": "PeJVM_t3pACm"
      },
      "source": [
        "これらの他にも，セルの追加・削除・移動の方法。行番号の表示方法等を知っておきましょう。 \n",
        "セルに関する操作は，選択したセルの右上に表示されているツールバーを使って行うことができます。行番号などの設定はブラウザ左上にある **ツール → 設定** から設定できます。\n"
      ]
    },
    {
      "cell_type": "markdown",
      "metadata": {
        "id": "LXxSXRodk1UB"
      },
      "source": [
        "## 文字を表示してみよう"
      ]
    },
    {
      "cell_type": "markdown",
      "metadata": {
        "id": "mwbPFJ5sJ1Cy"
      },
      "source": [
        "```firstname```, ```lastname```の変数に自分の名前（または適当な名前）を入れてセルを実行してみましょう。\n",
        "\n",
        "Hello, world!! との違いは， 変数には ” ” （ダブルクオーテーション）を前後につけないことです。"
      ]
    },
    {
      "cell_type": "code",
      "metadata": {
        "id": "KaCPxKLvk1UC",
        "colab": {
          "base_uri": "https://localhost:8080/",
          "height": 0
        },
        "outputId": "0647f55e-b8ac-4d0b-aaa6-f0634606e240"
      },
      "source": [
        "firstname = \"Shohei\"\n",
        "lastname = \"Ohtani\"\n",
        "\n",
        "print(\"My name is\", firstname, lastname, \".\")"
      ],
      "execution_count": 3,
      "outputs": [
        {
          "output_type": "stream",
          "text": [
            "My name is Shohei Ohtani .\n"
          ],
          "name": "stdout"
        }
      ]
    },
    {
      "cell_type": "markdown",
      "metadata": {
        "id": "rnLtM3J9KWYu"
      },
      "source": [
        "変数を使った文字列を表示する場合，Pythonのf文字列（f-strings）という機能を使って次のように書くこともできます。このとき，変数である`firstname`, `lastname`はすぐ上のセルで既に定義, 実行されているので，再度定義する必要はありません。"
      ]
    },
    {
      "cell_type": "code",
      "metadata": {
        "id": "pFMnSLUAffTa",
        "colab": {
          "base_uri": "https://localhost:8080/",
          "height": 0
        },
        "outputId": "b20eab86-9d96-456d-e809-3f642de8ab5f"
      },
      "source": [
        "#f-stringsを使った別の書き方\n",
        "text = f\"My name is {firstname} {lastname}\"\n",
        "print(text)"
      ],
      "execution_count": 4,
      "outputs": [
        {
          "output_type": "stream",
          "text": [
            "My name is Shohei Ohtani\n"
          ],
          "name": "stdout"
        }
      ]
    },
    {
      "cell_type": "markdown",
      "metadata": {
        "id": "pYmdb9Y8MnWa"
      },
      "source": [
        "日本語を表示することもできます。"
      ]
    },
    {
      "cell_type": "code",
      "metadata": {
        "id": "em0rb5rGk1UH",
        "colab": {
          "base_uri": "https://localhost:8080/",
          "height": 0
        },
        "outputId": "82bf6755-5122-47c3-c37b-542f2018be42"
      },
      "source": [
        "myouji = \"大谷\"\n",
        "namae = \"翔平\"\n",
        "\n",
        "print(\"私の名前は\", myouji, namae, \"です。\")\n",
        "print(f\"私の名前は{myouji}{namae}です。\")"
      ],
      "execution_count": 5,
      "outputs": [
        {
          "output_type": "stream",
          "text": [
            "私の名前は 大谷 翔平 です。\n",
            "私の名前は大谷翔平です。\n"
          ],
          "name": "stdout"
        }
      ]
    },
    {
      "cell_type": "markdown",
      "metadata": {
        "id": "kd66KGL5LBzA"
      },
      "source": [
        "f-stringsは数字を表示する際に表記方法や有効数字を設定できるので便利です。"
      ]
    },
    {
      "cell_type": "code",
      "metadata": {
        "id": "TDKrnUlCk1UE",
        "colab": {
          "base_uri": "https://localhost:8080/",
          "height": 0
        },
        "outputId": "ca4d5fa0-974f-4fa1-ab44-9ef4067cd6db"
      },
      "source": [
        "pi = 3.141592\n",
        "\n",
        "print(f\"pi={pi:.0f}\")     # 小数点以下0桁まで表示\n",
        "print(f\"pi={pi:.2f}\")     # 小数点以下2桁まで表示\n",
        "print(f\"pi={pi:.4f}\")     # 小数点以下4桁まで表示"
      ],
      "execution_count": 6,
      "outputs": [
        {
          "output_type": "stream",
          "text": [
            "pi=3\n",
            "pi=3.14\n",
            "pi=3.1416\n"
          ],
          "name": "stdout"
        }
      ]
    },
    {
      "cell_type": "code",
      "metadata": {
        "id": "WiYJMDjzKm6i",
        "colab": {
          "base_uri": "https://localhost:8080/",
          "height": 0
        },
        "outputId": "a79f4d9e-90b8-4014-ede5-3860a7edb785"
      },
      "source": [
        "x = 123456789\n",
        "\n",
        "# 指数形式で表示\n",
        "print(f\"x={x:.1e}\")\n",
        "print(f\"x={x:.3e}\")\n",
        "print(f\"x={x:.5e}\")"
      ],
      "execution_count": 7,
      "outputs": [
        {
          "output_type": "stream",
          "text": [
            "x=1.2e+08\n",
            "x=1.235e+08\n",
            "x=1.23457e+08\n"
          ],
          "name": "stdout"
        }
      ]
    },
    {
      "cell_type": "code",
      "metadata": {
        "id": "bDtBx8TuKNnQ",
        "colab": {
          "base_uri": "https://localhost:8080/",
          "height": 0
        },
        "outputId": "a196f448-0bea-4b0e-f268-606c866a9013"
      },
      "source": [
        "x = 0.3124\n",
        "\n",
        "# パーセンテージで表示\n",
        "print(f\"降水確率={x:.0%}\")\n",
        "print(f\"降水確率={x:.1%}\")\n",
        "print(f\"降水確率={x:.2%}\")"
      ],
      "execution_count": 8,
      "outputs": [
        {
          "output_type": "stream",
          "text": [
            "降水確率=31%\n",
            "降水確率=31.2%\n",
            "降水確率=31.24%\n"
          ],
          "name": "stdout"
        }
      ]
    },
    {
      "cell_type": "markdown",
      "metadata": {
        "id": "1T0LdaVtk1UL"
      },
      "source": [
        "## 簡単な計算をしてみよう"
      ]
    },
    {
      "cell_type": "markdown",
      "metadata": {
        "id": "jRWMsbYWk1UM"
      },
      "source": [
        "Google Colabは電卓としても使用可能です。まずは```a```と```b```の変数に適当な数値を入力してください。"
      ]
    },
    {
      "cell_type": "code",
      "metadata": {
        "id": "niwR0qTlk1UM",
        "colab": {
          "base_uri": "https://localhost:8080/",
          "height": 0
        },
        "outputId": "a6867e93-d162-453a-82da-9dca8b14a75f"
      },
      "source": [
        "a = 5\n",
        "b = 2\n",
        "print(\"a=\", a)\n",
        "print(\"b=\", b)"
      ],
      "execution_count": 9,
      "outputs": [
        {
          "output_type": "stream",
          "text": [
            "a= 5\n",
            "b= 2\n"
          ],
          "name": "stdout"
        }
      ]
    },
    {
      "cell_type": "markdown",
      "metadata": {
        "id": "dyZ5TXWCk1UO"
      },
      "source": [
        "足し算。演算記号は```+```。"
      ]
    },
    {
      "cell_type": "code",
      "metadata": {
        "id": "3Ti7QCJak1UP",
        "colab": {
          "base_uri": "https://localhost:8080/",
          "height": 0
        },
        "outputId": "4fc401fb-3945-44c6-a927-038f246350d8"
      },
      "source": [
        "a+b"
      ],
      "execution_count": 10,
      "outputs": [
        {
          "output_type": "execute_result",
          "data": {
            "text/plain": [
              "7"
            ]
          },
          "metadata": {
            "tags": []
          },
          "execution_count": 10
        }
      ]
    },
    {
      "cell_type": "markdown",
      "metadata": {
        "id": "13n6nfBjNV1J"
      },
      "source": [
        "上のように，実はGoogle Colabでは```print(a+b)```としなくても```a+b```の結果を表示することができます。"
      ]
    },
    {
      "cell_type": "markdown",
      "metadata": {
        "id": "g4PfQYKRk1US"
      },
      "source": [
        "引き算。演算記号は```-```。"
      ]
    },
    {
      "cell_type": "code",
      "metadata": {
        "id": "lQaUOQeRk1US",
        "colab": {
          "base_uri": "https://localhost:8080/",
          "height": 0
        },
        "outputId": "e089df4b-c4bc-4cf4-e3d9-57c4f99d4d4f"
      },
      "source": [
        "a-b"
      ],
      "execution_count": 11,
      "outputs": [
        {
          "output_type": "execute_result",
          "data": {
            "text/plain": [
              "3"
            ]
          },
          "metadata": {
            "tags": []
          },
          "execution_count": 11
        }
      ]
    },
    {
      "cell_type": "markdown",
      "metadata": {
        "id": "1PiUN096k1UV"
      },
      "source": [
        "掛け算。演算記号は```*```。"
      ]
    },
    {
      "cell_type": "code",
      "metadata": {
        "id": "m0w-0cgzk1UV",
        "colab": {
          "base_uri": "https://localhost:8080/",
          "height": 0
        },
        "outputId": "fdb743a6-9ad6-49b4-c64c-4f3f933df4d4"
      },
      "source": [
        "a*b"
      ],
      "execution_count": 12,
      "outputs": [
        {
          "output_type": "execute_result",
          "data": {
            "text/plain": [
              "10"
            ]
          },
          "metadata": {
            "tags": []
          },
          "execution_count": 12
        }
      ]
    },
    {
      "cell_type": "markdown",
      "metadata": {
        "id": "h0h1Vf0pk1UY"
      },
      "source": [
        "割り算。演算記号は```/```。"
      ]
    },
    {
      "cell_type": "code",
      "metadata": {
        "id": "kM12v54Ak1UY",
        "colab": {
          "base_uri": "https://localhost:8080/",
          "height": 0
        },
        "outputId": "0e2e1de9-d3e4-4482-b5de-00fc8f648e33"
      },
      "source": [
        "a/b"
      ],
      "execution_count": 13,
      "outputs": [
        {
          "output_type": "execute_result",
          "data": {
            "text/plain": [
              "2.5"
            ]
          },
          "metadata": {
            "tags": []
          },
          "execution_count": 13
        }
      ]
    },
    {
      "cell_type": "markdown",
      "metadata": {
        "id": "RmsJ7Obdk1Ub"
      },
      "source": [
        "切り捨て割り算。演算記号は```//```。"
      ]
    },
    {
      "cell_type": "code",
      "metadata": {
        "id": "tCnI7A2Bk1Ub",
        "colab": {
          "base_uri": "https://localhost:8080/",
          "height": 0
        },
        "outputId": "7f758dec-6d7f-4d33-bd2a-06ce06cd32b2"
      },
      "source": [
        "a//b"
      ],
      "execution_count": 14,
      "outputs": [
        {
          "output_type": "execute_result",
          "data": {
            "text/plain": [
              "2"
            ]
          },
          "metadata": {
            "tags": []
          },
          "execution_count": 14
        }
      ]
    },
    {
      "cell_type": "markdown",
      "metadata": {
        "id": "pZFdlXOJk1Ue"
      },
      "source": [
        "割り算の余り。演算記号は```%```。"
      ]
    },
    {
      "cell_type": "code",
      "metadata": {
        "id": "T1q-1R3gk1Uf",
        "colab": {
          "base_uri": "https://localhost:8080/",
          "height": 0
        },
        "outputId": "4b17dc28-7c9b-4ed7-a6d0-21126ee7a66d"
      },
      "source": [
        "a%b"
      ],
      "execution_count": 15,
      "outputs": [
        {
          "output_type": "execute_result",
          "data": {
            "text/plain": [
              "1"
            ]
          },
          "metadata": {
            "tags": []
          },
          "execution_count": 15
        }
      ]
    },
    {
      "cell_type": "markdown",
      "metadata": {
        "id": "y12KE9hsk1Ui"
      },
      "source": [
        "aのb乗。演算記号は```**```。"
      ]
    },
    {
      "cell_type": "code",
      "metadata": {
        "id": "6Nvqxy32k1Uj",
        "colab": {
          "base_uri": "https://localhost:8080/",
          "height": 0
        },
        "outputId": "f0bcb858-aa33-4822-e895-dd200d37a1fb"
      },
      "source": [
        "a**b"
      ],
      "execution_count": 16,
      "outputs": [
        {
          "output_type": "execute_result",
          "data": {
            "text/plain": [
              "25"
            ]
          },
          "metadata": {
            "tags": []
          },
          "execution_count": 16
        }
      ]
    },
    {
      "cell_type": "markdown",
      "metadata": {
        "id": "iU-IG-nlk1Um"
      },
      "source": [
        "## 論理演算をしてみよう\n",
        "論理演算（ブール代数）も計算できます。"
      ]
    },
    {
      "cell_type": "code",
      "metadata": {
        "id": "GtF9drZ7k1Un",
        "colab": {
          "base_uri": "https://localhost:8080/",
          "height": 0
        },
        "outputId": "f72115d6-981b-4414-90e2-02eebe27762c"
      },
      "source": [
        "a = True\n",
        "b = False\n",
        "\n",
        "print(\"a=\", a)\n",
        "print(\"b=\", b)"
      ],
      "execution_count": 17,
      "outputs": [
        {
          "output_type": "stream",
          "text": [
            "a= True\n",
            "b= False\n"
          ],
          "name": "stdout"
        }
      ]
    },
    {
      "cell_type": "markdown",
      "metadata": {
        "id": "UL2rgEJyk1Up"
      },
      "source": [
        "論理和（OR）"
      ]
    },
    {
      "cell_type": "code",
      "metadata": {
        "id": "jiSunTe4k1Uq",
        "colab": {
          "base_uri": "https://localhost:8080/",
          "height": 0
        },
        "outputId": "7458ae05-bc7f-4542-d69c-43835ce70359"
      },
      "source": [
        "a or b"
      ],
      "execution_count": 18,
      "outputs": [
        {
          "output_type": "execute_result",
          "data": {
            "text/plain": [
              "True"
            ]
          },
          "metadata": {
            "tags": []
          },
          "execution_count": 18
        }
      ]
    },
    {
      "cell_type": "markdown",
      "metadata": {
        "id": "kwXbadark1Us"
      },
      "source": [
        "論理積（AND）"
      ]
    },
    {
      "cell_type": "code",
      "metadata": {
        "id": "9gx_gN1Jk1Ut",
        "colab": {
          "base_uri": "https://localhost:8080/",
          "height": 0
        },
        "outputId": "c2bc0ff6-82a8-4503-830a-6ef48f9fb075"
      },
      "source": [
        "a and b"
      ],
      "execution_count": 19,
      "outputs": [
        {
          "output_type": "execute_result",
          "data": {
            "text/plain": [
              "False"
            ]
          },
          "metadata": {
            "tags": []
          },
          "execution_count": 19
        }
      ]
    },
    {
      "cell_type": "markdown",
      "metadata": {
        "id": "xfi2I0pTk1Uw"
      },
      "source": [
        "否定（NOT）"
      ]
    },
    {
      "cell_type": "code",
      "metadata": {
        "id": "1P435QWIk1Uw",
        "colab": {
          "base_uri": "https://localhost:8080/",
          "height": 0
        },
        "outputId": "7bae37c6-93ba-41a0-e0e4-3ece2c13d2cb"
      },
      "source": [
        "not a"
      ],
      "execution_count": 20,
      "outputs": [
        {
          "output_type": "execute_result",
          "data": {
            "text/plain": [
              "False"
            ]
          },
          "metadata": {
            "tags": []
          },
          "execution_count": 20
        }
      ]
    },
    {
      "cell_type": "markdown",
      "metadata": {
        "id": "OTVgQ3PoOptS"
      },
      "source": [
        "（参考）NOR, NAND, XOR等は標準では備わっていないようですが，ライブラリを使うか，自分で関数を作ればよいと思います。 \n",
        "\n",
        "関数は，次のように ``` def 関数名（引数）:``` で作り始めます。最後の：をよく忘れるため注意してください。また関数の中身は必ず行の先頭から，インデント（字下げ）して記述します。Tabキーを押せばインデントされます。"
      ]
    },
    {
      "cell_type": "code",
      "metadata": {
        "id": "sq1DrtqxOnGO",
        "colab": {
          "base_uri": "https://localhost:8080/",
          "height": 0
        },
        "outputId": "f1403563-fa1f-45e6-bef0-594e78e7806a"
      },
      "source": [
        "def NOR(a, b):\n",
        "    x = not (a or b)\n",
        "    return x\n",
        "\n",
        "NOR(a, b)"
      ],
      "execution_count": 21,
      "outputs": [
        {
          "output_type": "execute_result",
          "data": {
            "text/plain": [
              "False"
            ]
          },
          "metadata": {
            "tags": []
          },
          "execution_count": 21
        }
      ]
    },
    {
      "cell_type": "markdown",
      "metadata": {
        "id": "Kb7RoeZiOGjB"
      },
      "source": [
        "## 比較演算をしてみよう\n",
        "比較演算はif分などで条件分岐をするためによく利用します。"
      ]
    },
    {
      "cell_type": "markdown",
      "metadata": {
        "id": "Xg7huL7XQE0S"
      },
      "source": [
        "等しい？演算記号は`==`"
      ]
    },
    {
      "cell_type": "code",
      "metadata": {
        "colab": {
          "base_uri": "https://localhost:8080/",
          "height": 0
        },
        "id": "rd4_23gRPDAp",
        "outputId": "2ba4bc26-2fb0-4fca-8cfb-c5304052fc99"
      },
      "source": [
        "a = 2\n",
        "b = 3\n",
        "\n",
        "a == b"
      ],
      "execution_count": 22,
      "outputs": [
        {
          "output_type": "execute_result",
          "data": {
            "text/plain": [
              "False"
            ]
          },
          "metadata": {
            "tags": []
          },
          "execution_count": 22
        }
      ]
    },
    {
      "cell_type": "markdown",
      "metadata": {
        "id": "QgbAn3HhOUAY"
      },
      "source": [
        "大なり？演算記号は`>`。"
      ]
    },
    {
      "cell_type": "code",
      "metadata": {
        "colab": {
          "base_uri": "https://localhost:8080/",
          "height": 0
        },
        "id": "0xJUIJNjODny",
        "outputId": "e0983667-f364-48ab-bed9-cbff9cfb02af"
      },
      "source": [
        "a > b"
      ],
      "execution_count": 23,
      "outputs": [
        {
          "output_type": "execute_result",
          "data": {
            "text/plain": [
              "False"
            ]
          },
          "metadata": {
            "tags": []
          },
          "execution_count": 23
        }
      ]
    },
    {
      "cell_type": "markdown",
      "metadata": {
        "id": "Q_2jRqcWOXCQ"
      },
      "source": [
        "小なり？演算記号は`<`。"
      ]
    },
    {
      "cell_type": "code",
      "metadata": {
        "colab": {
          "base_uri": "https://localhost:8080/",
          "height": 0
        },
        "id": "9lw4efqPOpdQ",
        "outputId": "9aab3c8d-e1e5-4e9a-daec-00d0b42c77ab"
      },
      "source": [
        "a < b"
      ],
      "execution_count": 24,
      "outputs": [
        {
          "output_type": "execute_result",
          "data": {
            "text/plain": [
              "True"
            ]
          },
          "metadata": {
            "tags": []
          },
          "execution_count": 24
        }
      ]
    },
    {
      "cell_type": "markdown",
      "metadata": {
        "id": "eF8Ohn_6Pdkb"
      },
      "source": [
        "以上？演算記号は`>=`。\n",
        "\n",
        "注意：`=<`は使えません。"
      ]
    },
    {
      "cell_type": "code",
      "metadata": {
        "colab": {
          "base_uri": "https://localhost:8080/",
          "height": 0
        },
        "id": "YSK4CAlHOpXo",
        "outputId": "74a75e9f-0508-4831-a617-ff62a7de7791"
      },
      "source": [
        "a >= b"
      ],
      "execution_count": 25,
      "outputs": [
        {
          "output_type": "execute_result",
          "data": {
            "text/plain": [
              "False"
            ]
          },
          "metadata": {
            "tags": []
          },
          "execution_count": 25
        }
      ]
    },
    {
      "cell_type": "markdown",
      "metadata": {
        "id": "p50VbpmWPOhf"
      },
      "source": [
        "以下？演算記号は`<=`。\n",
        "\n",
        "注意：`=<`は使えません。"
      ]
    },
    {
      "cell_type": "code",
      "metadata": {
        "colab": {
          "base_uri": "https://localhost:8080/",
          "height": 0
        },
        "id": "iQZPg-jPQBR5",
        "outputId": "f02411e6-3df5-46a9-93b7-db6878f959da"
      },
      "source": [
        "a <= b"
      ],
      "execution_count": 26,
      "outputs": [
        {
          "output_type": "execute_result",
          "data": {
            "text/plain": [
              "True"
            ]
          },
          "metadata": {
            "tags": []
          },
          "execution_count": 26
        }
      ]
    },
    {
      "cell_type": "markdown",
      "metadata": {
        "id": "eRq51NTqk1Uy"
      },
      "source": [
        "## forループの書き方"
      ]
    },
    {
      "cell_type": "markdown",
      "metadata": {
        "id": "9Cr8lSEWk1Uz"
      },
      "source": [
        "繰り返し処理を行う場合，forループを使います。0から4の5つの数字を出力するプログラムを作ってみましよう。\n",
        "C言語では，次のように書きます。 for (最初の数，終了条件，1ループで増える数)です。\n",
        "```\n",
        "for (int i=0; i<5; i++){\n",
        "    printf(i);\n",
        "}　\n",
        "```\n",
        "同じプログラムをPythonでも作ってみましよう。\n",
        "Pythonでは，```range(開始,終了,増加量)``` を使って連続する数字を表現します。 開始と増加量は省略可能で，省略した場合は，```range(0,終了,1)``` と同じです。\n",
        "\n",
        "次の例では0から5未満，つまり0から4までを1つずつ表示しています。"
      ]
    },
    {
      "cell_type": "code",
      "metadata": {
        "id": "-QZWV2luk1U0",
        "colab": {
          "base_uri": "https://localhost:8080/",
          "height": 0
        },
        "outputId": "fad7582a-a992-4ac4-bf67-c52d6fcec70f"
      },
      "source": [
        "for i in range(5):\n",
        "    print(i)"
      ],
      "execution_count": 27,
      "outputs": [
        {
          "output_type": "stream",
          "text": [
            "0\n",
            "1\n",
            "2\n",
            "3\n",
            "4\n"
          ],
          "name": "stdout"
        }
      ]
    },
    {
      "cell_type": "markdown",
      "metadata": {
        "id": "paxT1kq6k1U3"
      },
      "source": [
        "数字を使わずに，配列（リスト）を使ってforループを書くこともできます。ここでは，```noodle_list```がリストになっています。"
      ]
    },
    {
      "cell_type": "code",
      "metadata": {
        "id": "UoIofdekk1U4",
        "colab": {
          "base_uri": "https://localhost:8080/",
          "height": 0
        },
        "outputId": "3cb73c51-4a98-4546-d9f6-f686480cfbb0"
      },
      "source": [
        "noodle_list = [\"うどん\", \"ラーメン\", \"スパゲッティ\"]\n",
        "\n",
        "for noodle in noodle_list:\n",
        "    print(noodle)"
      ],
      "execution_count": 28,
      "outputs": [
        {
          "output_type": "stream",
          "text": [
            "うどん\n",
            "ラーメン\n",
            "スパゲッティ\n"
          ],
          "name": "stdout"
        }
      ]
    },
    {
      "cell_type": "markdown",
      "metadata": {
        "id": "PHdruFxBk1U7"
      },
      "source": [
        "配列に指標を付け加えたforループ"
      ]
    },
    {
      "cell_type": "code",
      "metadata": {
        "id": "acDP-MWbk1U7",
        "colab": {
          "base_uri": "https://localhost:8080/",
          "height": 0
        },
        "outputId": "dcaf64f6-c878-4019-e18e-20c0b02200f7"
      },
      "source": [
        "for i, noodle in enumerate(noodle_list):\n",
        "    print(i, noodle)"
      ],
      "execution_count": 29,
      "outputs": [
        {
          "output_type": "stream",
          "text": [
            "0 うどん\n",
            "1 ラーメン\n",
            "2 スパゲッティ\n"
          ],
          "name": "stdout"
        }
      ]
    },
    {
      "cell_type": "markdown",
      "metadata": {
        "id": "mTw7-PSdk1U-"
      },
      "source": [
        "## whileループの書き方"
      ]
    },
    {
      "cell_type": "markdown",
      "metadata": {
        "id": "RnPLoP9dVllB"
      },
      "source": [
        "whileループは，終了条件のみを指定してループさせることが可能です。\n",
        "\n",
        "次の例では， iの値が5よりも小さい間，ループを繰り返しiの値を表示します。"
      ]
    },
    {
      "cell_type": "code",
      "metadata": {
        "id": "IIyTYNVbk1U-",
        "colab": {
          "base_uri": "https://localhost:8080/",
          "height": 0
        },
        "outputId": "f1e14ac0-7375-4fe4-dea6-30f0389b2c2e"
      },
      "source": [
        "i = 0\n",
        "\n",
        "while i < 5:\n",
        "    print(i)\n",
        "    i = i + 1"
      ],
      "execution_count": 30,
      "outputs": [
        {
          "output_type": "stream",
          "text": [
            "0\n",
            "1\n",
            "2\n",
            "3\n",
            "4\n"
          ],
          "name": "stdout"
        }
      ]
    },
    {
      "cell_type": "markdown",
      "metadata": {
        "id": "2OcTD58dk1VD"
      },
      "source": [
        "## if文の書き方\n",
        "変数```n```に入っている数値（整数）が偶数か奇数かを判定するプログラム。"
      ]
    },
    {
      "cell_type": "code",
      "metadata": {
        "id": "gCNR7avCk1VD",
        "colab": {
          "base_uri": "https://localhost:8080/",
          "height": 0
        },
        "outputId": "5356f62b-a012-4f5a-e4d2-44bcf72c1b23"
      },
      "source": [
        "n = 5\n",
        "\n",
        "if n%2 == 0:  # ｎを2で割ったあまりが0と等しいならば，偶数である\n",
        "    print(n, \"は偶数です\")\n",
        "else:  # それ以外は奇数である\n",
        "    print(n, \"は奇数です\")"
      ],
      "execution_count": 31,
      "outputs": [
        {
          "output_type": "stream",
          "text": [
            "5 は奇数です\n"
          ],
          "name": "stdout"
        }
      ]
    },
    {
      "cell_type": "markdown",
      "metadata": {
        "id": "gyUHR0nUQQ1U"
      },
      "source": [
        "変数```n```の数値は整数ではないかもしれないので，本当は以下のようにプログラムを書いた方が良いかもしれません。"
      ]
    },
    {
      "cell_type": "code",
      "metadata": {
        "id": "XjAQMd2ek1VF",
        "colab": {
          "base_uri": "https://localhost:8080/",
          "height": 0
        },
        "outputId": "2482f19f-702a-4584-abec-45653e5550c9"
      },
      "source": [
        "n = 5.2\n",
        "\n",
        "if n%2 == 0:\n",
        "    print(n, \"は偶数です\")\n",
        "elif n%2 == 1:\n",
        "    print(n, \"は奇数です\")\n",
        "else:\n",
        "    print(n, \"は整数ではありません\")"
      ],
      "execution_count": 32,
      "outputs": [
        {
          "output_type": "stream",
          "text": [
            "5.2 は整数ではありません\n"
          ],
          "name": "stdout"
        }
      ]
    }
  ]
}