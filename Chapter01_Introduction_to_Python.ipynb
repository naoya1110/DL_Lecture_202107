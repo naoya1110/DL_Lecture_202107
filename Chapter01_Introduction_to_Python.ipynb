{
  "nbformat": 4,
  "nbformat_minor": 0,
  "metadata": {
    "colab": {
      "name": "Chapter01_Introduction_to_Python.ipynb",
      "provenance": [],
      "collapsed_sections": [],
      "include_colab_link": true
    },
    "kernelspec": {
      "display_name": "Python 3",
      "language": "python",
      "name": "python3"
    }
  },
  "cells": [
    {
      "cell_type": "markdown",
      "metadata": {
        "id": "view-in-github",
        "colab_type": "text"
      },
      "source": [
        "<a href=\"https://colab.research.google.com/github/naoya1110/DL_Lecture_202107/blob/main/Chapter01_Introduction_to_Python.ipynb\" target=\"_parent\"><img src=\"https://colab.research.google.com/assets/colab-badge.svg\" alt=\"Open In Colab\"/></a>"
      ]
    },
    {
      "cell_type": "markdown",
      "metadata": {
        "id": "JNzFO1buk1T7"
      },
      "source": [
        "# Chapter 01: Introduction to Python "
      ]
    },
    {
      "cell_type": "markdown",
      "metadata": {
        "id": "NpilGf1fJSqe"
      },
      "source": [
        "## はじめに\n",
        "この講座では，Google Colaboratory (通称：グーグルコラボ, Google Colab)を使ってPythonのプログラミングをしながら，ディープラーニングに超入門します。まずは，Google Colabの基本的な使い方とPythonの簡単なプログラミングに慣れていきましょう。"
      ]
    },
    {
      "cell_type": "markdown",
      "metadata": {
        "id": "SR028J03NNup"
      },
      "source": [
        "## Google Colabの設定\n",
        "初めに次の項目について設定しておきましょう。\n",
        "\n",
        "\n",
        "*   行番号の表示\n",
        "*   インデント量（半角スペース4個）の設定\n",
        "*   インデントガイドの表示\n",
        "\n",
        "\n"
      ]
    },
    {
      "cell_type": "markdown",
      "metadata": {
        "id": "4MJE2J2Jk1T8"
      },
      "source": [
        "## なにはともあれ \"Hello, world!!\"\n",
        "プログラミングの第一歩，\"Hello world!\"を表示するに，次のセルを実行してみましょう。（ shift + enter でもセル内のコードを実行できます） Pythonで文字を表示したい場合は，```print(\"表示したい文字\")```を使います。"
      ]
    },
    {
      "cell_type": "code",
      "metadata": {
        "id": "Y7GG6HGGk1T9",
        "colab": {
          "base_uri": "https://localhost:8080/"
        },
        "outputId": "a59b2bbc-2254-421e-deda-c5c497e06d4b"
      },
      "source": [
        "print(\"Hello, world!!\")"
      ],
      "execution_count": null,
      "outputs": [
        {
          "output_type": "stream",
          "text": [
            "Hello, world!!\n"
          ],
          "name": "stdout"
        }
      ]
    },
    {
      "cell_type": "markdown",
      "metadata": {
        "id": "b_wMDwy5Mw0q"
      },
      "source": [
        "Pythonでコメントアウトするときは```#```を使います。プログラムの行頭に```#```を付けておくとその行のプログラムは実行されません。"
      ]
    },
    {
      "cell_type": "code",
      "metadata": {
        "id": "JwuZi2ymk1UJ"
      },
      "source": [
        "# これはコメント\n",
        "# print(\"Hello, world!!\")"
      ],
      "execution_count": null,
      "outputs": []
    },
    {
      "cell_type": "markdown",
      "metadata": {
        "id": "PeJVM_t3pACm"
      },
      "source": [
        "これらの他にも，セルの追加・削除・移動の方法。行番号の表示方法等を知っておきましょう。 \n",
        "セルに関する操作は，選択したセルの右上に表示されているツールバーを使って行うことができます。行番号などの設定はブラウザ左上にある **ツール → 設定** から設定できます。\n"
      ]
    },
    {
      "cell_type": "markdown",
      "metadata": {
        "id": "LXxSXRodk1UB"
      },
      "source": [
        "## 文字を表示してみよう"
      ]
    },
    {
      "cell_type": "markdown",
      "metadata": {
        "id": "mwbPFJ5sJ1Cy"
      },
      "source": [
        "```firstname```, ```lastname```の変数に自分の名前（または適当な名前）を入れてセルを実行してみましょう。\n",
        "\n",
        "Hello, world!! との違いは， 変数には ” ” （ダブルクオーテーション）を前後につけないことです。"
      ]
    },
    {
      "cell_type": "code",
      "metadata": {
        "id": "KaCPxKLvk1UC",
        "colab": {
          "base_uri": "https://localhost:8080/"
        },
        "outputId": "52409fec-9752-41c1-d291-fbb3f4854682"
      },
      "source": [
        "firstname = \"Naoya\"\n",
        "lastname = \"Iwamoto\"\n",
        "\n",
        "print(\"My name is\", firstname, lastname, \".\")"
      ],
      "execution_count": null,
      "outputs": [
        {
          "output_type": "stream",
          "text": [
            "My name is Naoya Iwamoto .\n"
          ],
          "name": "stdout"
        }
      ]
    },
    {
      "cell_type": "markdown",
      "metadata": {
        "id": "rnLtM3J9KWYu"
      },
      "source": [
        "変数を使った文字列を表示する場合，Pythonのf文字列（f-strings）という機能を使って次のように書くこともできます。このとき，変数である`firstname`, `lastname`はすぐ上のセルで既に定義, 実行されているので，再度定義する必要はありません。"
      ]
    },
    {
      "cell_type": "code",
      "metadata": {
        "id": "pFMnSLUAffTa",
        "colab": {
          "base_uri": "https://localhost:8080/"
        },
        "outputId": "01ab8ca7-977d-4e85-d78a-d4b1b49b7f12"
      },
      "source": [
        "#f-stringsを使った別の書き方\n",
        "text = f\"My name is {firstname} {lastname}\"\n",
        "print(text)"
      ],
      "execution_count": null,
      "outputs": [
        {
          "output_type": "stream",
          "text": [
            "My name is Naoya Iwamoto\n"
          ],
          "name": "stdout"
        }
      ]
    },
    {
      "cell_type": "markdown",
      "metadata": {
        "id": "pYmdb9Y8MnWa"
      },
      "source": [
        "日本語を表示することもできます。"
      ]
    },
    {
      "cell_type": "code",
      "metadata": {
        "id": "em0rb5rGk1UH",
        "colab": {
          "base_uri": "https://localhost:8080/"
        },
        "outputId": "ed7cd157-d3a1-4c83-cd5b-43f860d929f2"
      },
      "source": [
        "myouji = \"岩本\"\n",
        "namae = \"直也\"\n",
        "\n",
        "print(\"私の名前は\", myouji, namae, \"です。\")\n",
        "print(f\"私の名前は{myouji}{namae}です。\")"
      ],
      "execution_count": null,
      "outputs": [
        {
          "output_type": "stream",
          "text": [
            "私の名前は 岩本 直也 です。\n",
            "私の名前は岩本直也です。\n"
          ],
          "name": "stdout"
        }
      ]
    },
    {
      "cell_type": "markdown",
      "metadata": {
        "id": "kd66KGL5LBzA"
      },
      "source": [
        "f-stringsは数字を表示する際に表記方法や有効数字を設定できるので便利です。"
      ]
    },
    {
      "cell_type": "code",
      "metadata": {
        "id": "TDKrnUlCk1UE",
        "colab": {
          "base_uri": "https://localhost:8080/"
        },
        "outputId": "da22376b-0dd7-42a9-fe5b-23621fa9be8d"
      },
      "source": [
        "pi = 3.141592\n",
        "\n",
        "print(f\"pi={pi:.0f}\")     # 小数点以下0桁まで表示\n",
        "print(f\"pi={pi:.2f}\")     # 小数点以下2桁まで表示\n",
        "print(f\"pi={pi:.4f}\")     # 小数点以下4桁まで表示"
      ],
      "execution_count": null,
      "outputs": [
        {
          "output_type": "stream",
          "text": [
            "pi=3\n",
            "pi=3.14\n",
            "pi=3.1416\n"
          ],
          "name": "stdout"
        }
      ]
    },
    {
      "cell_type": "code",
      "metadata": {
        "id": "WiYJMDjzKm6i",
        "colab": {
          "base_uri": "https://localhost:8080/"
        },
        "outputId": "1f43b565-3f78-4768-aa8d-0fc593c2dab3"
      },
      "source": [
        "x = 123456789\n",
        "\n",
        "# 指数形式で表示\n",
        "print(f\"x={x:.1e}\")\n",
        "print(f\"x={x:.3e}\")\n",
        "print(f\"x={x:.5e}\")"
      ],
      "execution_count": null,
      "outputs": [
        {
          "output_type": "stream",
          "text": [
            "x=1.2e+08\n",
            "x=1.235e+08\n",
            "x=1.23457e+08\n"
          ],
          "name": "stdout"
        }
      ]
    },
    {
      "cell_type": "code",
      "metadata": {
        "id": "bDtBx8TuKNnQ",
        "colab": {
          "base_uri": "https://localhost:8080/"
        },
        "outputId": "155b6a17-d320-49e8-f62b-8b7af1cda033"
      },
      "source": [
        "x = 0.3124\n",
        "\n",
        "# パーセンテージで表示\n",
        "print(f\"降水確率={x:.0%}\")\n",
        "print(f\"降水確率={x:.1%}\")\n",
        "print(f\"降水確率={x:.2%}\")"
      ],
      "execution_count": null,
      "outputs": [
        {
          "output_type": "stream",
          "text": [
            "降水確率=31%\n",
            "降水確率=31.2%\n",
            "降水確率=31.24%\n"
          ],
          "name": "stdout"
        }
      ]
    },
    {
      "cell_type": "markdown",
      "metadata": {
        "id": "1T0LdaVtk1UL"
      },
      "source": [
        "## 簡単な計算をしてみよう"
      ]
    },
    {
      "cell_type": "markdown",
      "metadata": {
        "id": "jRWMsbYWk1UM"
      },
      "source": [
        "Google Colabは電卓としても使用可能です。まずは```a```と```b```の変数に適当な数値を入力してください。"
      ]
    },
    {
      "cell_type": "code",
      "metadata": {
        "id": "niwR0qTlk1UM",
        "colab": {
          "base_uri": "https://localhost:8080/"
        },
        "outputId": "27962ee4-ba28-42bc-9b06-57a3467f290e"
      },
      "source": [
        "a = 5\n",
        "b = 2\n",
        "print(\"a=\", a)\n",
        "print(\"b=\", b)"
      ],
      "execution_count": null,
      "outputs": [
        {
          "output_type": "stream",
          "text": [
            "a= 5\n",
            "b= 2\n"
          ],
          "name": "stdout"
        }
      ]
    },
    {
      "cell_type": "markdown",
      "metadata": {
        "id": "dyZ5TXWCk1UO"
      },
      "source": [
        "足し算。演算記号は```+```。"
      ]
    },
    {
      "cell_type": "code",
      "metadata": {
        "id": "3Ti7QCJak1UP",
        "colab": {
          "base_uri": "https://localhost:8080/"
        },
        "outputId": "63957298-4cca-455f-838f-b747a47283a0"
      },
      "source": [
        "a+b"
      ],
      "execution_count": null,
      "outputs": [
        {
          "output_type": "execute_result",
          "data": {
            "text/plain": [
              "7"
            ]
          },
          "metadata": {
            "tags": []
          },
          "execution_count": 40
        }
      ]
    },
    {
      "cell_type": "markdown",
      "metadata": {
        "id": "13n6nfBjNV1J"
      },
      "source": [
        "上のように，実はGoogle Colabでは```print(a+b)```としなくても```a+b```の結果を表示することができます。"
      ]
    },
    {
      "cell_type": "markdown",
      "metadata": {
        "id": "g4PfQYKRk1US"
      },
      "source": [
        "引き算。演算記号は```-```。"
      ]
    },
    {
      "cell_type": "code",
      "metadata": {
        "id": "lQaUOQeRk1US",
        "colab": {
          "base_uri": "https://localhost:8080/"
        },
        "outputId": "8d527cae-6a1e-4e81-fd2a-7c7ad19cf20b"
      },
      "source": [
        "a-b"
      ],
      "execution_count": null,
      "outputs": [
        {
          "output_type": "execute_result",
          "data": {
            "text/plain": [
              "3"
            ]
          },
          "metadata": {
            "tags": []
          },
          "execution_count": 41
        }
      ]
    },
    {
      "cell_type": "markdown",
      "metadata": {
        "id": "1PiUN096k1UV"
      },
      "source": [
        "掛け算。演算記号は```*```。"
      ]
    },
    {
      "cell_type": "code",
      "metadata": {
        "id": "m0w-0cgzk1UV",
        "colab": {
          "base_uri": "https://localhost:8080/"
        },
        "outputId": "aaaec50c-f322-4471-edc5-e375eadc2f34"
      },
      "source": [
        "a*b"
      ],
      "execution_count": null,
      "outputs": [
        {
          "output_type": "execute_result",
          "data": {
            "text/plain": [
              "10"
            ]
          },
          "metadata": {
            "tags": []
          },
          "execution_count": 42
        }
      ]
    },
    {
      "cell_type": "markdown",
      "metadata": {
        "id": "h0h1Vf0pk1UY"
      },
      "source": [
        "割り算。演算記号は```/```。"
      ]
    },
    {
      "cell_type": "code",
      "metadata": {
        "id": "kM12v54Ak1UY",
        "colab": {
          "base_uri": "https://localhost:8080/"
        },
        "outputId": "040cbd0d-1706-4c5c-aa47-6dbf81703384"
      },
      "source": [
        "a/b"
      ],
      "execution_count": null,
      "outputs": [
        {
          "output_type": "execute_result",
          "data": {
            "text/plain": [
              "2.5"
            ]
          },
          "metadata": {
            "tags": []
          },
          "execution_count": 43
        }
      ]
    },
    {
      "cell_type": "markdown",
      "metadata": {
        "id": "RmsJ7Obdk1Ub"
      },
      "source": [
        "切り捨て割り算。演算記号は```//```。"
      ]
    },
    {
      "cell_type": "code",
      "metadata": {
        "id": "tCnI7A2Bk1Ub",
        "colab": {
          "base_uri": "https://localhost:8080/"
        },
        "outputId": "da7c9f2b-8b58-4441-89f1-d77ec5ec4afc"
      },
      "source": [
        "a//b"
      ],
      "execution_count": null,
      "outputs": [
        {
          "output_type": "execute_result",
          "data": {
            "text/plain": [
              "2"
            ]
          },
          "metadata": {
            "tags": []
          },
          "execution_count": 44
        }
      ]
    },
    {
      "cell_type": "markdown",
      "metadata": {
        "id": "pZFdlXOJk1Ue"
      },
      "source": [
        "割り算の余り。演算記号は```%```。"
      ]
    },
    {
      "cell_type": "code",
      "metadata": {
        "id": "T1q-1R3gk1Uf",
        "colab": {
          "base_uri": "https://localhost:8080/"
        },
        "outputId": "a0361ba4-27d4-4920-e865-7bd64f46c937"
      },
      "source": [
        "a%b"
      ],
      "execution_count": null,
      "outputs": [
        {
          "output_type": "execute_result",
          "data": {
            "text/plain": [
              "1"
            ]
          },
          "metadata": {
            "tags": []
          },
          "execution_count": 45
        }
      ]
    },
    {
      "cell_type": "markdown",
      "metadata": {
        "id": "y12KE9hsk1Ui"
      },
      "source": [
        "aのb乗。演算記号は```**```。"
      ]
    },
    {
      "cell_type": "code",
      "metadata": {
        "id": "6Nvqxy32k1Uj",
        "colab": {
          "base_uri": "https://localhost:8080/"
        },
        "outputId": "110bfcbb-2280-4df1-8683-87d2c70aaf65"
      },
      "source": [
        "a**b"
      ],
      "execution_count": null,
      "outputs": [
        {
          "output_type": "execute_result",
          "data": {
            "text/plain": [
              "25"
            ]
          },
          "metadata": {
            "tags": []
          },
          "execution_count": 46
        }
      ]
    },
    {
      "cell_type": "markdown",
      "metadata": {
        "id": "iU-IG-nlk1Um"
      },
      "source": [
        "## 論理演算をしてみよう\n",
        "論理演算（ブール代数）も計算できます。"
      ]
    },
    {
      "cell_type": "code",
      "metadata": {
        "id": "GtF9drZ7k1Un",
        "colab": {
          "base_uri": "https://localhost:8080/"
        },
        "outputId": "fe0dcc01-f974-475c-911d-4c0df15f0717"
      },
      "source": [
        "a = True\n",
        "b = False\n",
        "\n",
        "print(\"a=\", a)\n",
        "print(\"b=\", b)"
      ],
      "execution_count": null,
      "outputs": [
        {
          "output_type": "stream",
          "text": [
            "a= True\n",
            "b= False\n"
          ],
          "name": "stdout"
        }
      ]
    },
    {
      "cell_type": "markdown",
      "metadata": {
        "id": "UL2rgEJyk1Up"
      },
      "source": [
        "論理和（OR）"
      ]
    },
    {
      "cell_type": "code",
      "metadata": {
        "id": "jiSunTe4k1Uq",
        "colab": {
          "base_uri": "https://localhost:8080/"
        },
        "outputId": "603d699f-c320-4f7f-ece5-8456aae1fcf3"
      },
      "source": [
        "a or b"
      ],
      "execution_count": null,
      "outputs": [
        {
          "output_type": "execute_result",
          "data": {
            "text/plain": [
              "True"
            ]
          },
          "metadata": {
            "tags": []
          },
          "execution_count": 48
        }
      ]
    },
    {
      "cell_type": "markdown",
      "metadata": {
        "id": "kwXbadark1Us"
      },
      "source": [
        "論理積（AND）"
      ]
    },
    {
      "cell_type": "code",
      "metadata": {
        "id": "9gx_gN1Jk1Ut",
        "colab": {
          "base_uri": "https://localhost:8080/"
        },
        "outputId": "0c3ac499-04aa-49c6-ba86-25a7859004b5"
      },
      "source": [
        "a and b"
      ],
      "execution_count": null,
      "outputs": [
        {
          "output_type": "execute_result",
          "data": {
            "text/plain": [
              "False"
            ]
          },
          "metadata": {
            "tags": []
          },
          "execution_count": 49
        }
      ]
    },
    {
      "cell_type": "markdown",
      "metadata": {
        "id": "xfi2I0pTk1Uw"
      },
      "source": [
        "否定（NOT）"
      ]
    },
    {
      "cell_type": "code",
      "metadata": {
        "id": "1P435QWIk1Uw",
        "colab": {
          "base_uri": "https://localhost:8080/"
        },
        "outputId": "ea43301c-1271-4e7a-b99b-0fd6d933f92a"
      },
      "source": [
        "not a"
      ],
      "execution_count": null,
      "outputs": [
        {
          "output_type": "execute_result",
          "data": {
            "text/plain": [
              "False"
            ]
          },
          "metadata": {
            "tags": []
          },
          "execution_count": 50
        }
      ]
    },
    {
      "cell_type": "markdown",
      "metadata": {
        "id": "OTVgQ3PoOptS"
      },
      "source": [
        "（参考）NOR, NAND, XOR等は標準では備わっていないようですが，ライブラリを使うか，自分で関数を作ればよいと思います。 \n",
        "\n",
        "関数は，次のように ``` def 関数名（引数）:``` で作り始めます。最後の：をよく忘れるため注意してください。また関数の中身は必ず行の先頭から，インデント（字下げ）して記述します。Tabキーを押せばインデントされます。"
      ]
    },
    {
      "cell_type": "code",
      "metadata": {
        "id": "sq1DrtqxOnGO",
        "colab": {
          "base_uri": "https://localhost:8080/"
        },
        "outputId": "608f4989-4063-4996-a64f-d11462cf77f7"
      },
      "source": [
        "def NOR(a, b):\n",
        "    x = not (a or b)\n",
        "    return x\n",
        "\n",
        "NOR(a, b)"
      ],
      "execution_count": null,
      "outputs": [
        {
          "output_type": "execute_result",
          "data": {
            "text/plain": [
              "False"
            ]
          },
          "metadata": {
            "tags": []
          },
          "execution_count": 52
        }
      ]
    },
    {
      "cell_type": "markdown",
      "metadata": {
        "id": "Kb7RoeZiOGjB"
      },
      "source": [
        "## 比較演算をしてみよう\n",
        "比較演算はif分などで条件分岐をするためによく利用します。"
      ]
    },
    {
      "cell_type": "markdown",
      "metadata": {
        "id": "Xg7huL7XQE0S"
      },
      "source": [
        "等しい？演算記号は`==`"
      ]
    },
    {
      "cell_type": "code",
      "metadata": {
        "colab": {
          "base_uri": "https://localhost:8080/"
        },
        "id": "rd4_23gRPDAp",
        "outputId": "bbc134fc-73fa-41e5-db0d-eb72120d1d8d"
      },
      "source": [
        "a = 2\n",
        "b = 3\n",
        "\n",
        "a == b"
      ],
      "execution_count": null,
      "outputs": [
        {
          "output_type": "execute_result",
          "data": {
            "text/plain": [
              "False"
            ]
          },
          "metadata": {
            "tags": []
          },
          "execution_count": 60
        }
      ]
    },
    {
      "cell_type": "markdown",
      "metadata": {
        "id": "QgbAn3HhOUAY"
      },
      "source": [
        "大なり？演算記号は`>`。"
      ]
    },
    {
      "cell_type": "code",
      "metadata": {
        "colab": {
          "base_uri": "https://localhost:8080/"
        },
        "id": "0xJUIJNjODny",
        "outputId": "99051dfd-f368-415e-9ac3-fcbf30b99d19"
      },
      "source": [
        "a > b"
      ],
      "execution_count": null,
      "outputs": [
        {
          "output_type": "execute_result",
          "data": {
            "text/plain": [
              "False"
            ]
          },
          "metadata": {
            "tags": []
          },
          "execution_count": 61
        }
      ]
    },
    {
      "cell_type": "markdown",
      "metadata": {
        "id": "Q_2jRqcWOXCQ"
      },
      "source": [
        "小なり？演算記号は`<`。"
      ]
    },
    {
      "cell_type": "code",
      "metadata": {
        "colab": {
          "base_uri": "https://localhost:8080/"
        },
        "id": "9lw4efqPOpdQ",
        "outputId": "6920a991-2a7f-4e15-d3a1-dc4532d0a921"
      },
      "source": [
        "a < b"
      ],
      "execution_count": null,
      "outputs": [
        {
          "output_type": "execute_result",
          "data": {
            "text/plain": [
              "True"
            ]
          },
          "metadata": {
            "tags": []
          },
          "execution_count": 62
        }
      ]
    },
    {
      "cell_type": "markdown",
      "metadata": {
        "id": "eF8Ohn_6Pdkb"
      },
      "source": [
        "以上？演算記号は`>=`。\n",
        "\n",
        "注意：`=<`は使えません。"
      ]
    },
    {
      "cell_type": "code",
      "metadata": {
        "colab": {
          "base_uri": "https://localhost:8080/"
        },
        "id": "YSK4CAlHOpXo",
        "outputId": "b7f3b49a-eb80-4c29-a945-dc8bd1739eb6"
      },
      "source": [
        "a >= b"
      ],
      "execution_count": null,
      "outputs": [
        {
          "output_type": "execute_result",
          "data": {
            "text/plain": [
              "False"
            ]
          },
          "metadata": {
            "tags": []
          },
          "execution_count": 66
        }
      ]
    },
    {
      "cell_type": "markdown",
      "metadata": {
        "id": "p50VbpmWPOhf"
      },
      "source": [
        "以下？演算記号は`<=`。\n",
        "\n",
        "注意：`=<`は使えません。"
      ]
    },
    {
      "cell_type": "code",
      "metadata": {
        "colab": {
          "base_uri": "https://localhost:8080/"
        },
        "id": "iQZPg-jPQBR5",
        "outputId": "ef93b43d-ee59-425a-a091-4d00919f6af6"
      },
      "source": [
        "a <= b"
      ],
      "execution_count": null,
      "outputs": [
        {
          "output_type": "execute_result",
          "data": {
            "text/plain": [
              "True"
            ]
          },
          "metadata": {
            "tags": []
          },
          "execution_count": 67
        }
      ]
    },
    {
      "cell_type": "markdown",
      "metadata": {
        "id": "eRq51NTqk1Uy"
      },
      "source": [
        "## forループの書き方"
      ]
    },
    {
      "cell_type": "markdown",
      "metadata": {
        "id": "9Cr8lSEWk1Uz"
      },
      "source": [
        "繰り返し処理を行う場合，forループを使います。0から4の5つの数字を出力するプログラムを作ってみましよう。\n",
        "C言語では，次のように書きます。 for (最初の数，終了条件，1ループで増える数)です。\n",
        "```\n",
        "for (int i=0; i<5; i++){\n",
        "    printf(i);\n",
        "}　\n",
        "```\n",
        "同じプログラムをPythonでも作ってみましよう。\n",
        "Pythonでは，```range(開始,終了,増加量)``` を使って連続する数字を表現します。 開始と増加量は省略可能で，省略した場合は，```range(0,終了,1)``` と同じです。\n",
        "\n",
        "次の例では0から5未満，つまり0から4までを1つずつ表示しています。"
      ]
    },
    {
      "cell_type": "code",
      "metadata": {
        "id": "-QZWV2luk1U0",
        "colab": {
          "base_uri": "https://localhost:8080/"
        },
        "outputId": "06ba67e7-9cfd-49b4-ffb9-c1a6d8858976"
      },
      "source": [
        "for i in range(5):\n",
        "    print(i)"
      ],
      "execution_count": null,
      "outputs": [
        {
          "output_type": "stream",
          "text": [
            "0\n",
            "1\n",
            "2\n",
            "3\n",
            "4\n"
          ],
          "name": "stdout"
        }
      ]
    },
    {
      "cell_type": "markdown",
      "metadata": {
        "id": "paxT1kq6k1U3"
      },
      "source": [
        "数字を使わずに，配列（リスト）を使ってforループを書くこともできます。ここでは，```noodle_list```がリストになっています。"
      ]
    },
    {
      "cell_type": "code",
      "metadata": {
        "id": "UoIofdekk1U4",
        "colab": {
          "base_uri": "https://localhost:8080/"
        },
        "outputId": "04661b59-1e23-42d3-e83f-fbb956cbdd3c"
      },
      "source": [
        "noodle_list = [\"うどん\", \"ラーメン\", \"スパゲッティ\"]\n",
        "\n",
        "for noodle in noodle_list:\n",
        "    print(noodle)"
      ],
      "execution_count": null,
      "outputs": [
        {
          "output_type": "stream",
          "text": [
            "うどん\n",
            "ラーメン\n",
            "スパゲッティ\n"
          ],
          "name": "stdout"
        }
      ]
    },
    {
      "cell_type": "markdown",
      "metadata": {
        "id": "PHdruFxBk1U7"
      },
      "source": [
        "配列に指標を付け加えたforループ"
      ]
    },
    {
      "cell_type": "code",
      "metadata": {
        "id": "acDP-MWbk1U7",
        "colab": {
          "base_uri": "https://localhost:8080/"
        },
        "outputId": "8e1f2273-f093-4db3-de4e-2abae6ac3ebf"
      },
      "source": [
        "for i, noodle in enumerate(noodle_list):\n",
        "    print(i, noodle)"
      ],
      "execution_count": null,
      "outputs": [
        {
          "output_type": "stream",
          "text": [
            "0 うどん\n",
            "1 ラーメン\n",
            "2 スパゲッティ\n"
          ],
          "name": "stdout"
        }
      ]
    },
    {
      "cell_type": "markdown",
      "metadata": {
        "id": "mTw7-PSdk1U-"
      },
      "source": [
        "## whileループの書き方"
      ]
    },
    {
      "cell_type": "markdown",
      "metadata": {
        "id": "RnPLoP9dVllB"
      },
      "source": [
        "whileループは，終了条件のみを指定してループさせることが可能です。\n",
        "\n",
        "次の例では， iの値が5よりも小さい間，ループを繰り返しiの値を表示します。"
      ]
    },
    {
      "cell_type": "code",
      "metadata": {
        "id": "IIyTYNVbk1U-",
        "colab": {
          "base_uri": "https://localhost:8080/"
        },
        "outputId": "da1a553d-260b-4527-fe0b-8f93d464ba8c"
      },
      "source": [
        "i = 0\n",
        "\n",
        "while i < 5:\n",
        "    print(i)\n",
        "    i = i + 1"
      ],
      "execution_count": null,
      "outputs": [
        {
          "output_type": "stream",
          "text": [
            "0\n",
            "1\n",
            "2\n",
            "3\n",
            "4\n"
          ],
          "name": "stdout"
        }
      ]
    },
    {
      "cell_type": "markdown",
      "metadata": {
        "id": "2OcTD58dk1VD"
      },
      "source": [
        "## if文の書き方\n",
        "変数```n```に入っている数値（整数）が偶数か奇数かを判定するプログラム。"
      ]
    },
    {
      "cell_type": "code",
      "metadata": {
        "id": "gCNR7avCk1VD",
        "colab": {
          "base_uri": "https://localhost:8080/"
        },
        "outputId": "06f5bd51-72d5-4772-9734-a80ac810f130"
      },
      "source": [
        "n = 5\n",
        "\n",
        "if n%2 == 0:  # ｎを2で割ったあまりが0と等しいならば，偶数である\n",
        "    print(n, \"は偶数です\")\n",
        "else:  # それ以外は奇数である\n",
        "    print(n, \"は奇数です\")"
      ],
      "execution_count": null,
      "outputs": [
        {
          "output_type": "stream",
          "text": [
            "5 は奇数です\n"
          ],
          "name": "stdout"
        }
      ]
    },
    {
      "cell_type": "markdown",
      "metadata": {
        "id": "gyUHR0nUQQ1U"
      },
      "source": [
        "変数```n```の数値は整数ではないかもしれないので，本当は以下のようにプログラムを書いた方が良いかもしれません。"
      ]
    },
    {
      "cell_type": "code",
      "metadata": {
        "id": "XjAQMd2ek1VF",
        "colab": {
          "base_uri": "https://localhost:8080/"
        },
        "outputId": "383ca6d1-80ec-404f-a486-f7a7e2ce9692"
      },
      "source": [
        "n = 5.2\n",
        "\n",
        "if n%2 == 0:\n",
        "    print(n, \"は偶数です\")\n",
        "elif n%2 == 1:\n",
        "    print(n, \"は奇数です\")\n",
        "else:\n",
        "    print(n, \"は整数ではありません\")"
      ],
      "execution_count": null,
      "outputs": [
        {
          "output_type": "stream",
          "text": [
            "5.2 は整数ではありません\n"
          ],
          "name": "stdout"
        }
      ]
    }
  ]
}