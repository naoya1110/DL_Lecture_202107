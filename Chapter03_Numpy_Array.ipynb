{
  "nbformat": 4,
  "nbformat_minor": 0,
  "metadata": {
    "colab": {
      "name": "Chapter03_Numpy_Array.ipynb",
      "provenance": [],
      "collapsed_sections": [],
      "include_colab_link": true
    },
    "kernelspec": {
      "display_name": "Python 3",
      "language": "python",
      "name": "python3"
    }
  },
  "cells": [
    {
      "cell_type": "markdown",
      "metadata": {
        "id": "view-in-github",
        "colab_type": "text"
      },
      "source": [
        "<a href=\"https://colab.research.google.com/github/naoya1110/DL_Lecture_202107/blob/main/Chapter03_Numpy_Array.ipynb\" target=\"_parent\"><img src=\"https://colab.research.google.com/assets/colab-badge.svg\" alt=\"Open In Colab\"/></a>"
      ]
    },
    {
      "cell_type": "markdown",
      "metadata": {
        "id": "P2CO0MSbq_R_"
      },
      "source": [
        "# Chapter 03 Numpy Array"
      ]
    },
    {
      "cell_type": "markdown",
      "metadata": {
        "id": "SiRkoRZ6q_SA"
      },
      "source": [
        "画像処理や深層学習で必須となるNumpy配列の扱いに慣れていきましょう。"
      ]
    },
    {
      "cell_type": "markdown",
      "metadata": {
        "id": "_9hZO30Oq_SA"
      },
      "source": [
        "まずはNumpyパッケージをインポートします。"
      ]
    },
    {
      "cell_type": "code",
      "metadata": {
        "id": "9s11ZzKWq_SB"
      },
      "source": [
        "import numpy as np"
      ],
      "execution_count": 1,
      "outputs": []
    },
    {
      "cell_type": "markdown",
      "metadata": {
        "id": "KsYNzx-vq_SE"
      },
      "source": [
        "## Numpy配列（1D）のスライス"
      ]
    },
    {
      "cell_type": "markdown",
      "metadata": {
        "id": "L9k-zbXUq_SE"
      },
      "source": [
        "配列から一部の要素を取り出すことをスライスと言います。\n",
        "まず，0から9まで１ずつ増加するNumpy配列`a`を作成します。"
      ]
    },
    {
      "cell_type": "code",
      "metadata": {
        "id": "q5PlXbhrq_SF",
        "colab": {
          "base_uri": "https://localhost:8080/",
          "height": 0
        },
        "outputId": "68f6bb61-3304-4ec2-d380-c3747470b2a3"
      },
      "source": [
        "a = np.arange(10)\n",
        "a"
      ],
      "execution_count": 2,
      "outputs": [
        {
          "output_type": "execute_result",
          "data": {
            "text/plain": [
              "array([0, 1, 2, 3, 4, 5, 6, 7, 8, 9])"
            ]
          },
          "metadata": {
            "tags": []
          },
          "execution_count": 2
        }
      ]
    },
    {
      "cell_type": "markdown",
      "metadata": {
        "id": "29Qb1Pmlq_SJ"
      },
      "source": [
        "作成した配列aの2番目の要素，つまり2を取り出してみます。このとき配列の要素は0番目から始まることに注意しましょう。"
      ]
    },
    {
      "cell_type": "code",
      "metadata": {
        "id": "hC-A0Je4q_SK",
        "colab": {
          "base_uri": "https://localhost:8080/",
          "height": 0
        },
        "outputId": "06d9b78b-37d1-4881-9907-f6509501586d"
      },
      "source": [
        "a[2]"
      ],
      "execution_count": 3,
      "outputs": [
        {
          "output_type": "execute_result",
          "data": {
            "text/plain": [
              "2"
            ]
          },
          "metadata": {
            "tags": []
          },
          "execution_count": 3
        }
      ]
    },
    {
      "cell_type": "markdown",
      "metadata": {
        "id": "qH2u42tsq_SM"
      },
      "source": [
        "スライスに変数を使うこともできます。aのn番目の要素を取り出します。"
      ]
    },
    {
      "cell_type": "code",
      "metadata": {
        "id": "5muCPcw1q_SN",
        "colab": {
          "base_uri": "https://localhost:8080/",
          "height": 0
        },
        "outputId": "96034219-f2bd-4b9a-a3b4-81d2159ed37b"
      },
      "source": [
        "n=8\n",
        "a[n]"
      ],
      "execution_count": 4,
      "outputs": [
        {
          "output_type": "execute_result",
          "data": {
            "text/plain": [
              "8"
            ]
          },
          "metadata": {
            "tags": []
          },
          "execution_count": 4
        }
      ]
    },
    {
      "cell_type": "markdown",
      "metadata": {
        "id": "VX92FI-Eq_SP"
      },
      "source": [
        "長い配列の場合，後ろから数えたほうが早い場合もあります。\n",
        "\n",
        "次の例では，aの最後から2番目の要素（先頭から8番目の要素）を取り出します。最後から数える場合はマイナスをつけます。"
      ]
    },
    {
      "cell_type": "code",
      "metadata": {
        "id": "b0NXayYDq_SQ",
        "colab": {
          "base_uri": "https://localhost:8080/",
          "height": 0
        },
        "outputId": "020e5c07-519e-450e-fbb8-7be65ebcd04b"
      },
      "source": [
        "a[-2]"
      ],
      "execution_count": 5,
      "outputs": [
        {
          "output_type": "execute_result",
          "data": {
            "text/plain": [
              "8"
            ]
          },
          "metadata": {
            "tags": []
          },
          "execution_count": 5
        }
      ]
    },
    {
      "cell_type": "markdown",
      "metadata": {
        "id": "fd1BmjCwq_SS"
      },
      "source": [
        "スライス操作では，1つの要素だけではなく，複数の要素を取り出すことも可能です。\n",
        "\n",
        "次の例ではaの3番目から7番目までの要素を取り出します。このとき``` a[開始：終了］ ``` の終了部分には8を入力します。これは，終了条件が『n番目の要素未満で終了』を表しているためです。"
      ]
    },
    {
      "cell_type": "code",
      "metadata": {
        "id": "YCtHQaKOq_ST",
        "colab": {
          "base_uri": "https://localhost:8080/",
          "height": 0
        },
        "outputId": "7dc7543a-8c5a-4a75-b6de-2b475ebbaba3"
      },
      "source": [
        "a[3:8]"
      ],
      "execution_count": 6,
      "outputs": [
        {
          "output_type": "execute_result",
          "data": {
            "text/plain": [
              "array([3, 4, 5, 6, 7])"
            ]
          },
          "metadata": {
            "tags": []
          },
          "execution_count": 6
        }
      ]
    },
    {
      "cell_type": "markdown",
      "metadata": {
        "id": "BqybvN-Eq_SW"
      },
      "source": [
        "## Numpy配列の変形"
      ]
    },
    {
      "cell_type": "markdown",
      "metadata": {
        "id": "Us4iAFQFq_SW"
      },
      "source": [
        "まず，0から14まで１ずつ増加する一次元の配列bを作成します。"
      ]
    },
    {
      "cell_type": "code",
      "metadata": {
        "id": "fKH7Y8DGq_SX",
        "colab": {
          "base_uri": "https://localhost:8080/",
          "height": 0
        },
        "outputId": "37cf25ae-479c-4648-914f-bf7ed547f1bb"
      },
      "source": [
        "b = np.arange(15)\n",
        "b"
      ],
      "execution_count": 7,
      "outputs": [
        {
          "output_type": "execute_result",
          "data": {
            "text/plain": [
              "array([ 0,  1,  2,  3,  4,  5,  6,  7,  8,  9, 10, 11, 12, 13, 14])"
            ]
          },
          "metadata": {
            "tags": []
          },
          "execution_count": 7
        }
      ]
    },
    {
      "cell_type": "markdown",
      "metadata": {
        "id": "TvVriz6aq_SZ"
      },
      "source": [
        "作成した一次元配列bを3行x5列の二次元配列cに変形してみましょう。配列の変形には```元の配列名.reshape(行，列)```を使用します。"
      ]
    },
    {
      "cell_type": "code",
      "metadata": {
        "id": "MDFSnC4kq_Sa",
        "colab": {
          "base_uri": "https://localhost:8080/",
          "height": 0
        },
        "outputId": "340bfd13-d239-4f23-c316-0cac4c7da721"
      },
      "source": [
        "c = b.reshape(3, 5)\n",
        "c"
      ],
      "execution_count": 8,
      "outputs": [
        {
          "output_type": "execute_result",
          "data": {
            "text/plain": [
              "array([[ 0,  1,  2,  3,  4],\n",
              "       [ 5,  6,  7,  8,  9],\n",
              "       [10, 11, 12, 13, 14]])"
            ]
          },
          "metadata": {
            "tags": []
          },
          "execution_count": 8
        }
      ]
    },
    {
      "cell_type": "markdown",
      "metadata": {
        "id": "eSRC7tSsq_Sc"
      },
      "source": [
        "今度は一次元配列bを5行x3列の二次元配列dに変形します。"
      ]
    },
    {
      "cell_type": "code",
      "metadata": {
        "id": "KmIKeWQxq_Sc",
        "colab": {
          "base_uri": "https://localhost:8080/",
          "height": 0
        },
        "outputId": "33cd753c-35a1-4fc0-dedb-3ffab7e46077"
      },
      "source": [
        "d = b.reshape(5, -1)\n",
        "d"
      ],
      "execution_count": 9,
      "outputs": [
        {
          "output_type": "execute_result",
          "data": {
            "text/plain": [
              "array([[ 0,  1,  2],\n",
              "       [ 3,  4,  5],\n",
              "       [ 6,  7,  8],\n",
              "       [ 9, 10, 11],\n",
              "       [12, 13, 14]])"
            ]
          },
          "metadata": {
            "tags": []
          },
          "execution_count": 9
        }
      ]
    },
    {
      "cell_type": "markdown",
      "metadata": {
        "id": "Vg65FzHxq_Sf"
      },
      "source": [
        "もちろん，配列Dを元の１次元配列に変形することも可能です。この場合は（）の中に要素数を記述します。"
      ]
    },
    {
      "cell_type": "code",
      "metadata": {
        "id": "wTWEQpnKq_Sg",
        "colab": {
          "base_uri": "https://localhost:8080/",
          "height": 0
        },
        "outputId": "a124f9fd-085d-47e1-ce2e-5c68d8ca09a6"
      },
      "source": [
        "e = d.reshape(15)\n",
        "e"
      ],
      "execution_count": 10,
      "outputs": [
        {
          "output_type": "execute_result",
          "data": {
            "text/plain": [
              "array([ 0,  1,  2,  3,  4,  5,  6,  7,  8,  9, 10, 11, 12, 13, 14])"
            ]
          },
          "metadata": {
            "tags": []
          },
          "execution_count": 10
        }
      ]
    },
    {
      "cell_type": "markdown",
      "metadata": {
        "id": "VsH5YAAxeyki"
      },
      "source": [
        "配列の要素数がわからない場合，（）内に-1を記述すると適切に変換可能です。"
      ]
    },
    {
      "cell_type": "code",
      "metadata": {
        "id": "FsOBsZZZesPm",
        "colab": {
          "base_uri": "https://localhost:8080/",
          "height": 0
        },
        "outputId": "7177a263-8206-4365-c188-53ac8f937fab"
      },
      "source": [
        "e2 = d.reshape(-1)\n",
        "e2"
      ],
      "execution_count": 11,
      "outputs": [
        {
          "output_type": "execute_result",
          "data": {
            "text/plain": [
              "array([ 0,  1,  2,  3,  4,  5,  6,  7,  8,  9, 10, 11, 12, 13, 14])"
            ]
          },
          "metadata": {
            "tags": []
          },
          "execution_count": 11
        }
      ]
    },
    {
      "cell_type": "markdown",
      "metadata": {
        "id": "XxWbNYzTq_Si"
      },
      "source": [
        "## Numpy配列（2D）のスライス"
      ]
    },
    {
      "cell_type": "markdown",
      "metadata": {
        "id": "T0f8IPuJq_Sk"
      },
      "source": [
        "２次元配列でもスライス操作が行えます。\n",
        "\n",
        "まずは10行x10列の配列fを作成します。arange().reshape()は繋げて１行に書くことができます。"
      ]
    },
    {
      "cell_type": "code",
      "metadata": {
        "id": "6v-dNaqMq_Sk",
        "colab": {
          "base_uri": "https://localhost:8080/",
          "height": 0
        },
        "outputId": "beddc94e-c3bd-4769-a6ae-19236566882b"
      },
      "source": [
        "f = np.arange(100).reshape(10,10)\n",
        "f"
      ],
      "execution_count": 12,
      "outputs": [
        {
          "output_type": "execute_result",
          "data": {
            "text/plain": [
              "array([[ 0,  1,  2,  3,  4,  5,  6,  7,  8,  9],\n",
              "       [10, 11, 12, 13, 14, 15, 16, 17, 18, 19],\n",
              "       [20, 21, 22, 23, 24, 25, 26, 27, 28, 29],\n",
              "       [30, 31, 32, 33, 34, 35, 36, 37, 38, 39],\n",
              "       [40, 41, 42, 43, 44, 45, 46, 47, 48, 49],\n",
              "       [50, 51, 52, 53, 54, 55, 56, 57, 58, 59],\n",
              "       [60, 61, 62, 63, 64, 65, 66, 67, 68, 69],\n",
              "       [70, 71, 72, 73, 74, 75, 76, 77, 78, 79],\n",
              "       [80, 81, 82, 83, 84, 85, 86, 87, 88, 89],\n",
              "       [90, 91, 92, 93, 94, 95, 96, 97, 98, 99]])"
            ]
          },
          "metadata": {
            "tags": []
          },
          "execution_count": 12
        }
      ]
    },
    {
      "cell_type": "markdown",
      "metadata": {
        "id": "HV1ZriPdq_Sp"
      },
      "source": [
        "二次元配列fの0行目（一次元配列）を取り出します。列はすべて取り出すので：を入力します。"
      ]
    },
    {
      "cell_type": "code",
      "metadata": {
        "id": "rsrEicN8q_Sq",
        "colab": {
          "base_uri": "https://localhost:8080/",
          "height": 0
        },
        "outputId": "a0ab0a5e-0ee1-4b4f-c2f9-e34cc6dec618"
      },
      "source": [
        "f[0, :]"
      ],
      "execution_count": 13,
      "outputs": [
        {
          "output_type": "execute_result",
          "data": {
            "text/plain": [
              "array([0, 1, 2, 3, 4, 5, 6, 7, 8, 9])"
            ]
          },
          "metadata": {
            "tags": []
          },
          "execution_count": 13
        }
      ]
    },
    {
      "cell_type": "markdown",
      "metadata": {
        "id": "TVA5nNcqq_St"
      },
      "source": [
        "二次元配列fの2列目（一次元配列）を取り出します。"
      ]
    },
    {
      "cell_type": "code",
      "metadata": {
        "id": "KPKO0NELq_Su",
        "colab": {
          "base_uri": "https://localhost:8080/",
          "height": 0
        },
        "outputId": "3310d085-66a2-43a2-c1b0-6b829d124173"
      },
      "source": [
        "f[:, 2]"
      ],
      "execution_count": 14,
      "outputs": [
        {
          "output_type": "execute_result",
          "data": {
            "text/plain": [
              "array([ 2, 12, 22, 32, 42, 52, 62, 72, 82, 92])"
            ]
          },
          "metadata": {
            "tags": []
          },
          "execution_count": 14
        }
      ]
    },
    {
      "cell_type": "markdown",
      "metadata": {
        "id": "9Rfkp1vlq_Sw"
      },
      "source": [
        "二次元配列fの一部（二次元配列）を取り出します。\n",
        "次の例では，１行目から４行目未満（１から３行目），３列目から９列目未満（３から８列目）をとりだしています。"
      ]
    },
    {
      "cell_type": "code",
      "metadata": {
        "id": "UWMbSiBJq_Sw",
        "colab": {
          "base_uri": "https://localhost:8080/",
          "height": 0
        },
        "outputId": "c9e86e3a-0bf9-4029-9966-33371b5b9f58"
      },
      "source": [
        "f[1:4,3:9]"
      ],
      "execution_count": 15,
      "outputs": [
        {
          "output_type": "execute_result",
          "data": {
            "text/plain": [
              "array([[13, 14, 15, 16, 17, 18],\n",
              "       [23, 24, 25, 26, 27, 28],\n",
              "       [33, 34, 35, 36, 37, 38]])"
            ]
          },
          "metadata": {
            "tags": []
          },
          "execution_count": 15
        }
      ]
    },
    {
      "cell_type": "markdown",
      "metadata": {
        "id": "KpSK1wzKY8Oo"
      },
      "source": [
        "## Numpy配列に対する比較演算"
      ]
    },
    {
      "cell_type": "code",
      "metadata": {
        "colab": {
          "base_uri": "https://localhost:8080/",
          "height": 0
        },
        "id": "j0cQQ-leYqem",
        "outputId": "4c4b7c44-b45b-4bb9-f37f-61c9eebeec77"
      },
      "source": [
        "g = np.arange(10)\n",
        "g"
      ],
      "execution_count": 16,
      "outputs": [
        {
          "output_type": "execute_result",
          "data": {
            "text/plain": [
              "array([0, 1, 2, 3, 4, 5, 6, 7, 8, 9])"
            ]
          },
          "metadata": {
            "tags": []
          },
          "execution_count": 16
        }
      ]
    },
    {
      "cell_type": "markdown",
      "metadata": {
        "id": "7haWwLY_ZLMf"
      },
      "source": [
        "配列gに対して比較演算をすると，各要素に対する演算結果の配列が出力されます。"
      ]
    },
    {
      "cell_type": "code",
      "metadata": {
        "colab": {
          "base_uri": "https://localhost:8080/",
          "height": 0
        },
        "id": "7F1TcY1-ZCsH",
        "outputId": "177b4078-ad66-4302-a4af-3f3a31935dba"
      },
      "source": [
        "g > 5"
      ],
      "execution_count": 17,
      "outputs": [
        {
          "output_type": "execute_result",
          "data": {
            "text/plain": [
              "array([False, False, False, False, False, False,  True,  True,  True,\n",
              "        True])"
            ]
          },
          "metadata": {
            "tags": []
          },
          "execution_count": 17
        }
      ]
    },
    {
      "cell_type": "markdown",
      "metadata": {
        "id": "Gs9AelQ1ZUNQ"
      },
      "source": [
        "これを用いれば配列gから条件を満たす要素のみをまとめた配列を生成することができます。"
      ]
    },
    {
      "cell_type": "code",
      "metadata": {
        "colab": {
          "base_uri": "https://localhost:8080/",
          "height": 0
        },
        "id": "4ULMERzzZFY4",
        "outputId": "b6d81751-aea1-4eb9-9e9d-dae43d6c5624"
      },
      "source": [
        "# gのうち要素が5より大きいものをまとめた配列\n",
        "g[g>5]"
      ],
      "execution_count": 18,
      "outputs": [
        {
          "output_type": "execute_result",
          "data": {
            "text/plain": [
              "array([6, 7, 8, 9])"
            ]
          },
          "metadata": {
            "tags": []
          },
          "execution_count": 18
        }
      ]
    },
    {
      "cell_type": "code",
      "metadata": {
        "colab": {
          "base_uri": "https://localhost:8080/",
          "height": 0
        },
        "id": "PBSzdNrGZdmg",
        "outputId": "4aa30900-ad5a-43dc-ee5c-cc344dfc8e8d"
      },
      "source": [
        "# gのうち偶数のみをまとめた配列\n",
        "g[g%2==0]"
      ],
      "execution_count": 19,
      "outputs": [
        {
          "output_type": "execute_result",
          "data": {
            "text/plain": [
              "array([0, 2, 4, 6, 8])"
            ]
          },
          "metadata": {
            "tags": []
          },
          "execution_count": 19
        }
      ]
    },
    {
      "cell_type": "markdown",
      "metadata": {
        "id": "km2Sul4FXtIx"
      },
      "source": [
        "## その他のNumpy配列"
      ]
    },
    {
      "cell_type": "markdown",
      "metadata": {
        "id": "FyZ2-42iX_Df"
      },
      "source": [
        "要素が全て0の配列"
      ]
    },
    {
      "cell_type": "code",
      "metadata": {
        "colab": {
          "base_uri": "https://localhost:8080/",
          "height": 0
        },
        "id": "YvFw6kzsXzbp",
        "outputId": "f656c407-2496-43b3-d953-888e9d7f3bc5"
      },
      "source": [
        "np.zeros(3)"
      ],
      "execution_count": 20,
      "outputs": [
        {
          "output_type": "execute_result",
          "data": {
            "text/plain": [
              "array([0., 0., 0.])"
            ]
          },
          "metadata": {
            "tags": []
          },
          "execution_count": 20
        }
      ]
    },
    {
      "cell_type": "markdown",
      "metadata": {
        "id": "-9YQVfKTYH5I"
      },
      "source": [
        "要素が全て1の配列"
      ]
    },
    {
      "cell_type": "code",
      "metadata": {
        "colab": {
          "base_uri": "https://localhost:8080/",
          "height": 0
        },
        "id": "KxqaGFDZX1sf",
        "outputId": "5a6c28ef-726a-4b33-dcda-b53b4576a278"
      },
      "source": [
        "np.ones(4)"
      ],
      "execution_count": 21,
      "outputs": [
        {
          "output_type": "execute_result",
          "data": {
            "text/plain": [
              "array([1., 1., 1., 1.])"
            ]
          },
          "metadata": {
            "tags": []
          },
          "execution_count": 21
        }
      ]
    },
    {
      "cell_type": "markdown",
      "metadata": {
        "id": "QqBEWHnpYKPv"
      },
      "source": [
        "乱数の配列"
      ]
    },
    {
      "cell_type": "code",
      "metadata": {
        "colab": {
          "base_uri": "https://localhost:8080/",
          "height": 0
        },
        "id": "YZPmEK3uX4D_",
        "outputId": "ba8fcbb2-f038-4958-95ea-72ebd1d3485a"
      },
      "source": [
        "np.random.rand(5)"
      ],
      "execution_count": 22,
      "outputs": [
        {
          "output_type": "execute_result",
          "data": {
            "text/plain": [
              "array([0.57536209, 0.53985536, 0.60054808, 0.32371998, 0.53714725])"
            ]
          },
          "metadata": {
            "tags": []
          },
          "execution_count": 22
        }
      ]
    },
    {
      "cell_type": "markdown",
      "metadata": {
        "id": "XOIqzW4cYRkf"
      },
      "source": [
        "単位行列"
      ]
    },
    {
      "cell_type": "code",
      "metadata": {
        "colab": {
          "base_uri": "https://localhost:8080/",
          "height": 0
        },
        "id": "gQ61Tdw4X6sv",
        "outputId": "ca2beef7-d271-4241-f8a8-24b4c2b70d78"
      },
      "source": [
        "np.eye(3)"
      ],
      "execution_count": 23,
      "outputs": [
        {
          "output_type": "execute_result",
          "data": {
            "text/plain": [
              "array([[1., 0., 0.],\n",
              "       [0., 1., 0.],\n",
              "       [0., 0., 1.]])"
            ]
          },
          "metadata": {
            "tags": []
          },
          "execution_count": 23
        }
      ]
    }
  ]
}