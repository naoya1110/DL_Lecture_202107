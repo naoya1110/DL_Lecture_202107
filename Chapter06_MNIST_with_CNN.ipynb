{
  "nbformat": 4,
  "nbformat_minor": 0,
  "metadata": {
    "colab": {
      "name": "Chapter06_MNIST_with_CNN.ipynb",
      "provenance": [],
      "collapsed_sections": [],
      "include_colab_link": true
    },
    "kernelspec": {
      "name": "python3",
      "display_name": "Python 3"
    },
    "accelerator": "GPU"
  },
  "cells": [
    {
      "cell_type": "markdown",
      "metadata": {
        "id": "view-in-github",
        "colab_type": "text"
      },
      "source": [
        "<a href=\"https://colab.research.google.com/github/naoya1110/DL_Lecture_202107/blob/main/Chapter06_MNIST_with_CNN.ipynb\" target=\"_parent\"><img src=\"https://colab.research.google.com/assets/colab-badge.svg\" alt=\"Open In Colab\"/></a>"
      ]
    },
    {
      "cell_type": "markdown",
      "metadata": {
        "id": "Ds8doJG8yKVh"
      },
      "source": [
        "# Chapter 06: MNIST with CNN"
      ]
    },
    {
      "cell_type": "markdown",
      "metadata": {
        "id": "wXb5Wc0LyKVi"
      },
      "source": [
        "Chapter 05では，ディープラーニングの最初の一歩として非常にシンプルなモデルを構築し学習させました。ここで使用したのは一次元のデータしか扱うことのできない全結合層（Dense Layer）だったため，もともと二次元配列の画像データを一次元配列に変更する必要がありました。実は，この方法ではピクセル間の位置の関係性が崩れてしまい画像データを取り扱う上で，あまり良い手段とは言えません。\n",
        "\n",
        "この問題を解決するために，今日の画像認識においては畳み込み層（Convolutional Layer）と呼ばれる層を用いたモデル（Convolutional Neural Network）が使用されることがほとんどです。ここでは，簡単なCNNを構築して手書き数字の画像分類に取り組んでみましょう。"
      ]
    },
    {
      "cell_type": "markdown",
      "metadata": {
        "id": "hfLNJDf75iAl"
      },
      "source": [
        "## 準備"
      ]
    },
    {
      "cell_type": "markdown",
      "metadata": {
        "id": "pNhW1Dg1yKVj"
      },
      "source": [
        "### パッケージのインポート\n",
        "基本的にはChapter 05と同じですが，```Conv2D```, ```MaxPooling2D```, ```Flatten```というモジュール（レイヤー）を新しく読み込みます。"
      ]
    },
    {
      "cell_type": "code",
      "metadata": {
        "id": "3g1tq1rayKVk",
        "colab": {
          "base_uri": "https://localhost:8080/",
          "height": 0
        },
        "outputId": "950b4b8c-76ce-4b7a-9443-98975d90856f"
      },
      "source": [
        "import matplotlib.pyplot as plt\n",
        "import pandas as pd\n",
        "import numpy as np\n",
        "np.set_printoptions(precision=3,  suppress=True)\n",
        "import seaborn as sns\n",
        "\n",
        "import tensorflow as tf\n",
        "from tensorflow.keras.datasets import mnist\n",
        "from tensorflow.keras.models import Sequential\n",
        "from tensorflow.keras.layers import Dense, Dropout, Activation, InputLayer\n",
        "from tensorflow.keras.layers import Conv2D, MaxPooling2D, Flatten\n",
        "from tensorflow.keras.utils import to_categorical\n",
        "from tensorflow.keras.utils import plot_model\n",
        "from tensorflow.math import confusion_matrix\n",
        "\n",
        "# trainX, trainYをさらに分離するために使用\n",
        "from sklearn.model_selection import train_test_split\n",
        "\n",
        "# TensorFlowのバージョンを確認\n",
        "print(\"TensorFlow version: \" + tf.__version__)"
      ],
      "execution_count": 1,
      "outputs": [
        {
          "output_type": "stream",
          "text": [
            "TensorFlow version: 2.5.0\n"
          ],
          "name": "stdout"
        }
      ]
    },
    {
      "cell_type": "markdown",
      "metadata": {
        "id": "anB9fpI_Ca8X"
      },
      "source": [
        "### ランタイムの確認\n",
        "ランタイムがGPUになっていることを確認しましょう。"
      ]
    },
    {
      "cell_type": "markdown",
      "metadata": {
        "id": "7pVE4Sm8yKVj"
      },
      "source": [
        "## データの準備"
      ]
    },
    {
      "cell_type": "markdown",
      "metadata": {
        "id": "xf5GHN90yKVo"
      },
      "source": [
        "### MNISTデータセットの読み込み\n",
        "MNISTデータセットは\n",
        "TensorFlowのコード1行でネット上から簡単に読み込むことができます。中身は以下の4種類になっています。\n",
        "\n",
        "* **trainX** 学習用の入力データ\n",
        "* **trainY** 学習用の出力データ\n",
        "* **testX** テスト用の入力データ\n",
        "* **testY** テスト用の出力データ\n",
        "\n",
        "続けて，データの形やタイプを確認しておきましょう。"
      ]
    },
    {
      "cell_type": "code",
      "metadata": {
        "id": "A3syFUhQyKVo",
        "colab": {
          "base_uri": "https://localhost:8080/",
          "height": 0
        },
        "outputId": "327d961e-ffa9-46bb-e934-7ac871ecb1f3"
      },
      "source": [
        "#自動的にネット上からデータがダウンロードする\n",
        "(trainX, trainY), (testX, testY) = mnist.load_data()\n",
        "\n",
        "# データの形とタイプを確認\n",
        "print(f\"trainX: Type {type(trainX)}, Shape {trainX.shape}\")\n",
        "print(f\"trainY: Type {type(trainY)}, Shape {trainY.shape}\")\n",
        "print(f\"testX: Type {type(testX)}, Shape {testX.shape}\")\n",
        "print(f\"testY: Type {type(testY)}, Shape {testY.shape}\")"
      ],
      "execution_count": 2,
      "outputs": [
        {
          "output_type": "stream",
          "text": [
            "Downloading data from https://storage.googleapis.com/tensorflow/tf-keras-datasets/mnist.npz\n",
            "11493376/11490434 [==============================] - 0s 0us/step\n",
            "trainX: Type <class 'numpy.ndarray'>, Shape (60000, 28, 28)\n",
            "trainY: Type <class 'numpy.ndarray'>, Shape (60000,)\n",
            "testX: Type <class 'numpy.ndarray'>, Shape (10000, 28, 28)\n",
            "testY: Type <class 'numpy.ndarray'>, Shape (10000,)\n"
          ],
          "name": "stdout"
        }
      ]
    },
    {
      "cell_type": "markdown",
      "metadata": {
        "id": "_WeVM1gjyKV4"
      },
      "source": [
        "### 入力データ（trainX, testX）のフォーマットを変更する\n",
        "今回構築するモデルは畳み込み層（Convolutional Layer）を使用するため，それに合うように入力データの次元を変更しておく必要が必要があります。```np.expand_dims()```というところで，次元を変更しています。また，すべての値を255で割ることで最大値が1.0, 最小値が0.0とする規格化も行っておきましょう。"
      ]
    },
    {
      "cell_type": "code",
      "metadata": {
        "id": "R6902I9fhvOD",
        "colab": {
          "base_uri": "https://localhost:8080/",
          "height": 0
        },
        "outputId": "571a6032-cf50-423d-cd64-9e5c2e738d7e"
      },
      "source": [
        "# 畳み込み層に入力できるように次元を拡張する\n",
        "trainX = np.expand_dims(trainX, axis=-1)\n",
        "testX = np.expand_dims(testX, axis=-1)\n",
        "\n",
        "#最大が1.0となるように規格化する\n",
        "trainX = trainX/trainX.max()\n",
        "testX = testX/testX.max()\n",
        "\n",
        "#表示して確認する\n",
        "print(\"---trainX---\")\n",
        "print(\"最大値：\", trainX.max())\n",
        "print(\"最小値：\", trainX.min())\n",
        "print(\"Shape：\", trainX.shape)\n",
        "\n",
        "print(\"\\n---testX---\")\n",
        "print(\"最大値：\", testX.max())\n",
        "print(\"最小値：\", testX.min())\n",
        "print(\"Shape：\", testX.shape)"
      ],
      "execution_count": 3,
      "outputs": [
        {
          "output_type": "stream",
          "text": [
            "---trainX---\n",
            "最大値： 1.0\n",
            "最小値： 0.0\n",
            "Shape： (60000, 28, 28, 1)\n",
            "\n",
            "---testX---\n",
            "最大値： 1.0\n",
            "最小値： 0.0\n",
            "Shape： (10000, 28, 28, 1)\n"
          ],
          "name": "stdout"
        }
      ]
    },
    {
      "cell_type": "markdown",
      "metadata": {
        "id": "g1lKPAfTyKV7"
      },
      "source": [
        "### 出力データ（trainY, testY）のフォーマットを変更する\n",
        "\n",
        "出力データも学習に合うようにフォーマットを変更します。trainY, testYにはもともとtrainX, testXの画像データに対応する整数（0, 1, 2, 3, 4 ...）が入っていますが，これをOne-hotベクトルと呼ばれる以下のような長さが10の配列に変換します。例えば，もともとの数値が3であれば，3番目の要素が1でその他が0となっていることに注目してください。\n",
        "\n",
        "```\n",
        "0 -> [1, 0, 0, 0, 0, 0, 0, 0, 0, 0]\n",
        "1 -> [0, 1, 0, 0, 0, 0, 0, 0, 0, 0]\n",
        "2 -> [0, 0, 1, 0, 0, 0, 0, 0, 0, 0]\n",
        "3 -> [0, 0, 0, 1, 0, 0, 0, 0, 0, 0]\n",
        "4 -> [0, 0, 0, 0, 1, 0, 0, 0, 0, 0]\n",
        "5 -> [0, 0, 0, 0, 0, 1, 0, 0, 0, 0]\n",
        "6 -> [0, 0, 0, 0, 0, 0, 1, 0, 0, 0]\n",
        "7 -> [0, 0, 0, 0, 0, 0, 0, 1, 0, 0]\n",
        "8 -> [0, 0, 0, 0, 0, 0, 0, 0, 1, 0]\n",
        "9 -> [0, 0, 0, 0, 0, 0, 0, 0, 0, 1]\n",
        "```"
      ]
    },
    {
      "cell_type": "code",
      "metadata": {
        "id": "PFIKynNSyKV7",
        "colab": {
          "base_uri": "https://localhost:8080/",
          "height": 204
        },
        "outputId": "3900446e-723c-4256-a4ed-6da36d277ba0"
      },
      "source": [
        "# One-hotベクトルに変更する\n",
        "trainY_onehot = to_categorical(trainY)\n",
        "testY_onehot = to_categorical(testY)\n",
        "\n",
        "# trainYの最初の5個を表示して確認\n",
        "pd.DataFrame(trainY_onehot).head(5)"
      ],
      "execution_count": 4,
      "outputs": [
        {
          "output_type": "execute_result",
          "data": {
            "text/html": [
              "<div>\n",
              "<style scoped>\n",
              "    .dataframe tbody tr th:only-of-type {\n",
              "        vertical-align: middle;\n",
              "    }\n",
              "\n",
              "    .dataframe tbody tr th {\n",
              "        vertical-align: top;\n",
              "    }\n",
              "\n",
              "    .dataframe thead th {\n",
              "        text-align: right;\n",
              "    }\n",
              "</style>\n",
              "<table border=\"1\" class=\"dataframe\">\n",
              "  <thead>\n",
              "    <tr style=\"text-align: right;\">\n",
              "      <th></th>\n",
              "      <th>0</th>\n",
              "      <th>1</th>\n",
              "      <th>2</th>\n",
              "      <th>3</th>\n",
              "      <th>4</th>\n",
              "      <th>5</th>\n",
              "      <th>6</th>\n",
              "      <th>7</th>\n",
              "      <th>8</th>\n",
              "      <th>9</th>\n",
              "    </tr>\n",
              "  </thead>\n",
              "  <tbody>\n",
              "    <tr>\n",
              "      <th>0</th>\n",
              "      <td>0.0</td>\n",
              "      <td>0.0</td>\n",
              "      <td>0.0</td>\n",
              "      <td>0.0</td>\n",
              "      <td>0.0</td>\n",
              "      <td>1.0</td>\n",
              "      <td>0.0</td>\n",
              "      <td>0.0</td>\n",
              "      <td>0.0</td>\n",
              "      <td>0.0</td>\n",
              "    </tr>\n",
              "    <tr>\n",
              "      <th>1</th>\n",
              "      <td>1.0</td>\n",
              "      <td>0.0</td>\n",
              "      <td>0.0</td>\n",
              "      <td>0.0</td>\n",
              "      <td>0.0</td>\n",
              "      <td>0.0</td>\n",
              "      <td>0.0</td>\n",
              "      <td>0.0</td>\n",
              "      <td>0.0</td>\n",
              "      <td>0.0</td>\n",
              "    </tr>\n",
              "    <tr>\n",
              "      <th>2</th>\n",
              "      <td>0.0</td>\n",
              "      <td>0.0</td>\n",
              "      <td>0.0</td>\n",
              "      <td>0.0</td>\n",
              "      <td>1.0</td>\n",
              "      <td>0.0</td>\n",
              "      <td>0.0</td>\n",
              "      <td>0.0</td>\n",
              "      <td>0.0</td>\n",
              "      <td>0.0</td>\n",
              "    </tr>\n",
              "    <tr>\n",
              "      <th>3</th>\n",
              "      <td>0.0</td>\n",
              "      <td>1.0</td>\n",
              "      <td>0.0</td>\n",
              "      <td>0.0</td>\n",
              "      <td>0.0</td>\n",
              "      <td>0.0</td>\n",
              "      <td>0.0</td>\n",
              "      <td>0.0</td>\n",
              "      <td>0.0</td>\n",
              "      <td>0.0</td>\n",
              "    </tr>\n",
              "    <tr>\n",
              "      <th>4</th>\n",
              "      <td>0.0</td>\n",
              "      <td>0.0</td>\n",
              "      <td>0.0</td>\n",
              "      <td>0.0</td>\n",
              "      <td>0.0</td>\n",
              "      <td>0.0</td>\n",
              "      <td>0.0</td>\n",
              "      <td>0.0</td>\n",
              "      <td>0.0</td>\n",
              "      <td>1.0</td>\n",
              "    </tr>\n",
              "  </tbody>\n",
              "</table>\n",
              "</div>"
            ],
            "text/plain": [
              "     0    1    2    3    4    5    6    7    8    9\n",
              "0  0.0  0.0  0.0  0.0  0.0  1.0  0.0  0.0  0.0  0.0\n",
              "1  1.0  0.0  0.0  0.0  0.0  0.0  0.0  0.0  0.0  0.0\n",
              "2  0.0  0.0  0.0  0.0  1.0  0.0  0.0  0.0  0.0  0.0\n",
              "3  0.0  1.0  0.0  0.0  0.0  0.0  0.0  0.0  0.0  0.0\n",
              "4  0.0  0.0  0.0  0.0  0.0  0.0  0.0  0.0  0.0  1.0"
            ]
          },
          "metadata": {
            "tags": []
          },
          "execution_count": 4
        }
      ]
    },
    {
      "cell_type": "markdown",
      "metadata": {
        "id": "KkUVb2YMhQdo"
      },
      "source": [
        "### validX, validYを生成\n",
        "trainX, trainYを分離して検証用データ（validX, validY）を生成します。```test_size=0.2```とすれば，trainX, trainYの2割を検証用データとして使用することになります。"
      ]
    },
    {
      "cell_type": "code",
      "metadata": {
        "id": "BExsEuFzhYmB"
      },
      "source": [
        "trainX, validX, trainY_onehot, validY_onehot = train_test_split(trainX, trainY_onehot, train_size=0.8)"
      ],
      "execution_count": 5,
      "outputs": []
    },
    {
      "cell_type": "markdown",
      "metadata": {
        "id": "2ncGmsLGhb9g"
      },
      "source": [
        "### すべてのデータのshapeを確認\n",
        "もう一度，念のためtrainX, trainY, validX, validY, testX, testYのshapeを確認しておきましょう。"
      ]
    },
    {
      "cell_type": "code",
      "metadata": {
        "id": "6f7mj3ibhgY1",
        "colab": {
          "base_uri": "https://localhost:8080/",
          "height": 0
        },
        "outputId": "5067cb48-91e4-445e-f93f-2aff9f4c3ee9"
      },
      "source": [
        "# 念のため，trainX, trainY, testXのshapeを確認\n",
        "print(\"shape\")\n",
        "print(\"trainX:\", trainX.shape)\n",
        "print(\"trainY_onehot:\", trainY_onehot.shape)\n",
        "print(\"validX:\", validX.shape)\n",
        "print(\"validY_onehot:\", validY_onehot.shape)\n",
        "print(\"testX shape:\", testX.shape)\n",
        "print(\"testY_onehot:\", testY_onehot.shape)"
      ],
      "execution_count": 6,
      "outputs": [
        {
          "output_type": "stream",
          "text": [
            "shape\n",
            "trainX: (48000, 28, 28, 1)\n",
            "trainY_onehot: (48000, 10)\n",
            "validX: (12000, 28, 28, 1)\n",
            "validY_onehot: (12000, 10)\n",
            "testX shape: (10000, 28, 28, 1)\n",
            "testY_onehot: (10000, 10)\n"
          ],
          "name": "stdout"
        }
      ]
    },
    {
      "cell_type": "markdown",
      "metadata": {
        "id": "8ioghqiHyKV9"
      },
      "source": [
        "## 学習"
      ]
    },
    {
      "cell_type": "markdown",
      "metadata": {
        "id": "G99hEgQRyKV-"
      },
      "source": [
        "### モデルの構築\n",
        "ここでは畳み込み層を使ったモデル（CNN）を構築します。実際は二次元の畳み込み層（Conv2D）と二次元のプーリング層（MaxPooling2D），全結合層（Dense）が組み合わされています。\n",
        "\n",
        "* **参考**　https://deepage.net/deep_learning/2016/11/07/convolutional_neural_network.html"
      ]
    },
    {
      "cell_type": "code",
      "metadata": {
        "id": "dRmJA18mZAtd"
      },
      "source": [
        "# モデルの初期化\n",
        "model = Sequential()\n",
        "\n",
        "# 入力層\n",
        "model.add(InputLayer(input_shape=(28,28,1)))\n",
        "\n",
        "# 中間層（１層目），畳み込み層\n",
        "model.add(Conv2D(filters=16, kernel_size=(3,3), padding=\"same\", activation=\"relu\"))\n",
        "\n",
        "# 中間層（2層目）プーリング層\n",
        "model.add(MaxPooling2D(pool_size=(2, 2)))\n",
        "\n",
        "# 中間層（3層目），畳み込み層\n",
        "model.add(Conv2D(filters=32, kernel_size=(3,3), padding=\"same\", activation=\"relu\"))\n",
        "\n",
        "# 中間層（4層目），プーリング層\n",
        "model.add(MaxPooling2D(pool_size=(2, 2)))\n",
        "\n",
        "# 中間層（5層目）, ここで三次元配列を一次元配列に変更\n",
        "model.add(Flatten())\n",
        "\n",
        "\n",
        "# 中間層（6層目），全結合層\n",
        "model.add(Dense(units=32, activation=\"relu\"))\n",
        "\n",
        "# 出力層，全結合層\n",
        "model.add(Dense(units=10, activation=\"softmax\"))\n",
        "\n",
        "# 構築したモデルを可視化して確認\n",
        "# plot_model(model, show_shapes=True)"
      ],
      "execution_count": 7,
      "outputs": []
    },
    {
      "cell_type": "markdown",
      "metadata": {
        "id": "IE8KrJ1eGwvd"
      },
      "source": [
        "構築したモデルは次の方法でも確認できます。この方法では，学習させるパラメータの数を確認することもできます。"
      ]
    },
    {
      "cell_type": "code",
      "metadata": {
        "id": "rffiKH3qGy1E",
        "colab": {
          "base_uri": "https://localhost:8080/",
          "height": 0
        },
        "outputId": "a6ced5be-d771-48f6-c590-3d9c7291dd3e"
      },
      "source": [
        "# 構築したモデルを別の方法で可視化して確認\n",
        "model.summary()"
      ],
      "execution_count": 8,
      "outputs": [
        {
          "output_type": "stream",
          "text": [
            "Model: \"sequential\"\n",
            "_________________________________________________________________\n",
            "Layer (type)                 Output Shape              Param #   \n",
            "=================================================================\n",
            "conv2d (Conv2D)              (None, 28, 28, 16)        160       \n",
            "_________________________________________________________________\n",
            "max_pooling2d (MaxPooling2D) (None, 14, 14, 16)        0         \n",
            "_________________________________________________________________\n",
            "conv2d_1 (Conv2D)            (None, 14, 14, 32)        4640      \n",
            "_________________________________________________________________\n",
            "max_pooling2d_1 (MaxPooling2 (None, 7, 7, 32)          0         \n",
            "_________________________________________________________________\n",
            "flatten (Flatten)            (None, 1568)              0         \n",
            "_________________________________________________________________\n",
            "dense (Dense)                (None, 32)                50208     \n",
            "_________________________________________________________________\n",
            "dense_1 (Dense)              (None, 10)                330       \n",
            "=================================================================\n",
            "Total params: 55,338\n",
            "Trainable params: 55,338\n",
            "Non-trainable params: 0\n",
            "_________________________________________________________________\n"
          ],
          "name": "stdout"
        }
      ]
    },
    {
      "cell_type": "markdown",
      "metadata": {
        "id": "ZR3s04STyKWA"
      },
      "source": [
        "### モデルのコンパイル\n",
        "\n",
        "モデルを学習させるためにコンパイルします。指定する主なパラメータは以下の通りです。\n",
        "\n",
        "* **loss** 損失関数は何を使うか？分類問題の場合は，\"categorical_crossentropy\"がほとんど。\n",
        "* **optimizer** 最適化関数は何を使うか？\"adam\"のほかに，\"sgd\", \"RMSprop\"などが使える\n",
        "* **metrics** 評価関数。パラメータの最適化には用いられない。"
      ]
    },
    {
      "cell_type": "code",
      "metadata": {
        "id": "5TJIChznyKWB"
      },
      "source": [
        "# モデルをコンパイルする\n",
        "model.compile(\n",
        "                loss=\"categorical_crossentropy\",\n",
        "                optimizer=\"adam\", \n",
        "                metrics=[\"accuracy\"]\n",
        "              )"
      ],
      "execution_count": 9,
      "outputs": []
    },
    {
      "cell_type": "markdown",
      "metadata": {
        "id": "jQuEv2X3yKWE"
      },
      "source": [
        "### モデルの学習（トレーニング）\n",
        "\n",
        "モデルを学習させます。```model.fit()```だけでも学習できますが，```history=model.fit()```としておくことで後から学習経過を可視化できます。指定する主なパラメータは以下の通りです。\n",
        "\n",
        "* **trainX** 学習用データの入力データ\n",
        "* **trainY** 学習用データの出力データ\n",
        "* **batch_size** 何個のデータごとにパラメータを更新するか？1バッチあたりのデータ数\n",
        "* **epochs** すべての学習用データを何回通りみるか？\n",
        "* **validation_data** 検証用データ\n",
        "* **shuffle** 学習用データを見る順番をシャッフルするか？\n",
        "* **verbose** 学習経過の表示方法。0,1,2が選択可能。"
      ]
    },
    {
      "cell_type": "code",
      "metadata": {
        "id": "uuy6MwFEyKWF",
        "colab": {
          "base_uri": "https://localhost:8080/",
          "height": 0
        },
        "outputId": "81303385-4522-4af7-bc12-ae4f2ae1a0fa"
      },
      "source": [
        "history = model.fit(\n",
        "                    trainX, trainY_onehot,\n",
        "                    batch_size=64,\n",
        "                    epochs=10,\n",
        "                    validation_data=(validX, validY_onehot),\n",
        "                    shuffle=True,\n",
        "                    verbose=1\n",
        "                   )"
      ],
      "execution_count": 10,
      "outputs": [
        {
          "output_type": "stream",
          "text": [
            "Epoch 1/10\n",
            "750/750 [==============================] - 34s 4ms/step - loss: 0.2827 - accuracy: 0.9146 - val_loss: 0.0882 - val_accuracy: 0.9742\n",
            "Epoch 2/10\n",
            "750/750 [==============================] - 3s 4ms/step - loss: 0.0785 - accuracy: 0.9758 - val_loss: 0.0612 - val_accuracy: 0.9823\n",
            "Epoch 3/10\n",
            "750/750 [==============================] - 3s 4ms/step - loss: 0.0554 - accuracy: 0.9835 - val_loss: 0.0623 - val_accuracy: 0.9806\n",
            "Epoch 4/10\n",
            "750/750 [==============================] - 3s 4ms/step - loss: 0.0432 - accuracy: 0.9863 - val_loss: 0.0434 - val_accuracy: 0.9868\n",
            "Epoch 5/10\n",
            "750/750 [==============================] - 3s 4ms/step - loss: 0.0362 - accuracy: 0.9888 - val_loss: 0.0443 - val_accuracy: 0.9867\n",
            "Epoch 6/10\n",
            "750/750 [==============================] - 2s 3ms/step - loss: 0.0292 - accuracy: 0.9910 - val_loss: 0.0408 - val_accuracy: 0.9872\n",
            "Epoch 7/10\n",
            "750/750 [==============================] - 3s 4ms/step - loss: 0.0239 - accuracy: 0.9926 - val_loss: 0.0424 - val_accuracy: 0.9878\n",
            "Epoch 8/10\n",
            "750/750 [==============================] - 2s 3ms/step - loss: 0.0218 - accuracy: 0.9931 - val_loss: 0.0487 - val_accuracy: 0.9861\n",
            "Epoch 9/10\n",
            "750/750 [==============================] - 2s 3ms/step - loss: 0.0177 - accuracy: 0.9943 - val_loss: 0.0404 - val_accuracy: 0.9888\n",
            "Epoch 10/10\n",
            "750/750 [==============================] - 3s 4ms/step - loss: 0.0137 - accuracy: 0.9957 - val_loss: 0.0413 - val_accuracy: 0.9888\n"
          ],
          "name": "stdout"
        }
      ]
    },
    {
      "cell_type": "markdown",
      "metadata": {
        "id": "HsecjUx2yKWI"
      },
      "source": [
        "### 学習経過の確認\n",
        "学習経過を可視化して上手く学習できているか，過学習などが起こっていないかを確認しましょう。"
      ]
    },
    {
      "cell_type": "code",
      "metadata": {
        "id": "KwgOLiPpyKWI",
        "colab": {
          "base_uri": "https://localhost:8080/",
          "height": 364
        },
        "outputId": "45db0d10-c4f4-48f4-ecc6-553c2bf1724d"
      },
      "source": [
        "plt.figure(figsize=(8,5))\n",
        "plt.rcParams[\"font.size\"]=14\n",
        "\n",
        "epoch = history.epoch\n",
        "train_acc = history.history[\"accuracy\"]\n",
        "train_loss = history.history[\"loss\"]\n",
        "val_acc = history.history[\"val_accuracy\"]\n",
        "val_loss = history.history[\"val_loss\"]\n",
        "\n",
        "plt.plot(epoch, train_acc, label=\"train acc\", c=\"#ff7f0e\")\n",
        "plt.plot(epoch, val_acc, marker=\"o\", lw=0, label=\"val acc\", c=\"#ff7f0e\")\n",
        "\n",
        "plt.plot(epoch, train_loss, label=\"train loss\", c=\"#1f77b4\")\n",
        "plt.plot(epoch, val_loss, marker=\"o\", lw=0, label=\"val loss\", c=\"#1f77b4\")\n",
        "\n",
        "plt.ylim(0, 1)\n",
        "#plt.xlim(-10, 210)\n",
        "plt.legend()\n",
        "plt.grid()\n",
        "\n",
        "plt.xlabel(\"Epochs\")\n",
        "plt.ylabel(\"Accuracy & Loss\")"
      ],
      "execution_count": 11,
      "outputs": [
        {
          "output_type": "execute_result",
          "data": {
            "text/plain": [
              "Text(0, 0.5, 'Accuracy & Loss')"
            ]
          },
          "metadata": {
            "tags": []
          },
          "execution_count": 11
        },
        {
          "output_type": "display_data",
          "data": {
            "image/png": "[encoded data removed]",
            "text/plain": [
              "<Figure size 576x360 with 1 Axes>"
            ]
          },
          "metadata": {
            "tags": [],
            "needs_background": "light"
          }
        }
      ]
    },
    {
      "cell_type": "markdown",
      "metadata": {
        "id": "cJKBDcvAyKWL"
      },
      "source": [
        "## 学習済みモデルの評価"
      ]
    },
    {
      "cell_type": "markdown",
      "metadata": {
        "id": "vWFAziwEyKWM"
      },
      "source": [
        "### 学習済みモデルを使ってテスト用データ（testX）から数字を推論\n",
        "次の1行でテスト用データに対して推論を行います。"
      ]
    },
    {
      "cell_type": "code",
      "metadata": {
        "id": "fewekEWbE_WI"
      },
      "source": [
        "# 推論\n",
        "predY_onehot = model.predict(testX)"
      ],
      "execution_count": 12,
      "outputs": []
    },
    {
      "cell_type": "markdown",
      "metadata": {
        "id": "OIq6E4RtHu4V"
      },
      "source": [
        "N番目のtestXに対する推論結果を確認してみましょう。推論結果の```predY```も長さが10の一次元配列になっています。"
      ]
    },
    {
      "cell_type": "code",
      "metadata": {
        "id": "77_BmomwHwbU",
        "colab": {
          "base_uri": "https://localhost:8080/",
          "height": 305
        },
        "outputId": "97804ee2-615b-42e9-fbac-f43e2726ea1a"
      },
      "source": [
        "# N番目を指定\n",
        "N = 500\n",
        "\n",
        "# N番目の画像データを表示\n",
        "plt.imshow(testX[N].reshape(28,28), cmap=\"gray\")\n",
        "\n",
        "# N番目の推論結果を表示\n",
        "print(f\"{N}番目の画像データに対する推論結果\")\n",
        "print(predY_onehot[N])"
      ],
      "execution_count": 13,
      "outputs": [
        {
          "output_type": "stream",
          "text": [
            "500番目の画像データに対する推論結果\n",
            "[0. 0. 0. 1. 0. 0. 0. 0. 0. 0.]\n"
          ],
          "name": "stdout"
        },
        {
          "output_type": "display_data",
          "data": {
            "image/png": "[encoded data removed]",
            "text/plain": [
              "<Figure size 432x288 with 1 Axes>"
            ]
          },
          "metadata": {
            "tags": [],
            "needs_background": "light"
          }
        }
      ]
    },
    {
      "cell_type": "markdown",
      "metadata": {
        "id": "KytnsCY6H2Ls"
      },
      "source": [
        "推論結果である```predY```の10個の数値は，それぞれ0~9の数字である確率を表していて，最も高い確率を示す要素の指標（順番）が元の画像データの数字だと言えます。以下のコードで```predY```から実際の数字を求めます。"
      ]
    },
    {
      "cell_type": "code",
      "metadata": {
        "id": "71czIG4UH3hU",
        "colab": {
          "base_uri": "https://localhost:8080/",
          "height": 0
        },
        "outputId": "4c4dcace-4275-41a4-ead7-bc1c0ecc1281"
      },
      "source": [
        "# 推論結果（確率）が最大となる指標を求める\n",
        "predY = np.argmax(predY_onehot, axis=1)\n",
        "\n",
        "# N番目の数字を確認する\n",
        "print(predY[N])"
      ],
      "execution_count": 14,
      "outputs": [
        {
          "output_type": "stream",
          "text": [
            "3\n"
          ],
          "name": "stdout"
        }
      ]
    },
    {
      "cell_type": "markdown",
      "metadata": {
        "id": "nfLsj1ndHRRk"
      },
      "source": [
        "### 推論結果の一部を可視化\n",
        "学習済みモデルを使ってtestXのデータから推論した結果の一部を表示してみましょう。trueが正解値，predが推論結果です。"
      ]
    },
    {
      "cell_type": "code",
      "metadata": {
        "id": "d_LHxcp2yKWP",
        "colab": {
          "base_uri": "https://localhost:8080/",
          "height": 265
        },
        "outputId": "fe0e1551-6deb-4afb-e0d6-7999636ed0c2"
      },
      "source": [
        "plt.figure(figsize=(12,4))\n",
        "plt.rcParams[\"font.size\"]=12\n",
        "\n",
        "for i in range(10):\n",
        "    plt.subplot(2,5,i+1)\n",
        "    plt.imshow(testX[i].reshape(28, 28), cmap='gray')\n",
        "    plt.axis(\"off\")\n",
        "    true_index = testY[i]\n",
        "    pred_index = predY[i]\n",
        "    if true_index == pred_index:\n",
        "        color = \"green\"\n",
        "    else:\n",
        "        color = \"red\"\n",
        "    title = f\"true: {true_index} pred: {pred_index}\"\n",
        "    plt.title(title, color=color)"
      ],
      "execution_count": 19,
      "outputs": [
        {
          "output_type": "display_data",
          "data": {
            "image/png": "[encoded data removed]",
            "text/plain": [
              "<Figure size 864x288 with 10 Axes>"
            ]
          },
          "metadata": {
            "tags": [],
            "needs_background": "light"
          }
        }
      ]
    },
    {
      "cell_type": "markdown",
      "metadata": {
        "id": "e-CdLbbKoWfI"
      },
      "source": [
        "### モデルの精度を検証\n",
        "全てのテスト用データに対するモデルの精度を統計的に検証します。Chapter 05の結果と比べてみましょう。"
      ]
    },
    {
      "cell_type": "code",
      "metadata": {
        "id": "QYFAVcSHMm3g",
        "colab": {
          "base_uri": "https://localhost:8080/",
          "height": 0
        },
        "outputId": "84698571-3828-462c-d83a-a34a7ccc7750"
      },
      "source": [
        "score = model.evaluate(testX, testY_onehot)\n",
        "print(\"Test Accuracy = {:.2f}\".format(score[1]))"
      ],
      "execution_count": 20,
      "outputs": [
        {
          "output_type": "stream",
          "text": [
            "313/313 [==============================] - 1s 2ms/step - loss: 0.0328 - accuracy: 0.9899\n",
            "Test Accuracy = 0.99\n"
          ],
          "name": "stdout"
        }
      ]
    },
    {
      "cell_type": "markdown",
      "metadata": {
        "id": "WEegnBMuAf1L"
      },
      "source": [
        "### 混同行列\n",
        "モデルの精度をより詳しく検証するために混同行列を確認しましょう。"
      ]
    },
    {
      "cell_type": "code",
      "metadata": {
        "colab": {
          "base_uri": "https://localhost:8080/",
          "height": 473
        },
        "id": "t8ADrqezAZvM",
        "outputId": "adcb91d6-627e-41d1-891d-66fcecb48f91"
      },
      "source": [
        "cmx = np.array(confusion_matrix(testY, predY))\n",
        "\n",
        "cmx_pct = np.zeros(cmx.shape)\n",
        "\n",
        "for i in range(cmx.shape[0]):\n",
        "    for j in range(cmx.shape[1]):\n",
        "        cmx_pct[i, j] = cmx[i, j]/cmx[i, :].sum()\n",
        "\n",
        "plt.rcParams[\"font.size\"]=14\n",
        "plt.figure(figsize=(8,7))\n",
        "sns.heatmap(cmx_pct, annot=True, fmt=\".2f\", cmap=\"Blues\", vmin=0, vmax=1)\n",
        "plt.ylabel(\"Truth\")\n",
        "plt.xlabel(\"Prediction\")"
      ],
      "execution_count": 21,
      "outputs": [
        {
          "output_type": "execute_result",
          "data": {
            "text/plain": [
              "Text(0.5, 38.0, 'Prediction')"
            ]
          },
          "metadata": {
            "tags": []
          },
          "execution_count": 21
        },
        {
          "output_type": "display_data",
          "data": {
            "image/png": "[encoded data removed]",
            "text/plain": [
              "<Figure size 576x504 with 2 Axes>"
            ]
          },
          "metadata": {
            "tags": [],
            "needs_background": "light"
          }
        }
      ]
    }
  ]
}