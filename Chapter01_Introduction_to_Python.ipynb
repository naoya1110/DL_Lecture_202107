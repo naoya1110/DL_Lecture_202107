{
  "nbformat": 4,
  "nbformat_minor": 0,
  "metadata": {
    "colab": {
      "name": "Chapter01_Introduction_to_Python.ipynb",
      "provenance": [],
      "collapsed_sections": [],
      "include_colab_link": true
    },
    "kernelspec": {
      "display_name": "Python 3",
      "language": "python",
      "name": "python3"
    }
  },
  "cells": [
    {
      "cell_type": "markdown",
      "metadata": {
        "id": "view-in-github",
        "colab_type": "text"
      },
      "source": [
        "<a href=\"https://colab.research.google.com/github/naoya1110/DL_Lecture_202107/blob/main/Chapter01_Introduction_to_Python.ipynb\" target=\"_parent\"><img src=\"https://colab.research.google.com/assets/colab-badge.svg\" alt=\"Open In Colab\"/></a>"
      ]
    },
    {
      "cell_type": "markdown",
      "metadata": {
        "id": "JNzFO1buk1T7"
      },
      "source": [
        "# Chapter 01: Introduction to Python "
      ]
    },
    {
      "cell_type": "markdown",
      "metadata": {
        "id": "NpilGf1fJSqe"
      },
      "source": [
        "## はじめに\n",
        "この講座では，Google Colaboratory (通称：グーグルコラボ, Google Colab)を使ってPythonのプログラミングをしながら，ディープラーニングに超入門します。まずは，Google Colabの基本的な使い方とPythonの簡単なプログラミングに慣れていきましょう。"
      ]
    },
    {
      "cell_type": "markdown",
      "metadata": {
        "id": "SR028J03NNup"
      },
      "source": [
        "## Google Colabの設定\n",
        "初めに次の項目について設定しておきましょう。\n",
        "\n",
        "\n",
        "*   行番号の表示\n",
        "*   インデント量（半角スペース4個）の設定\n",
        "*   インデントガイドの表示\n",
        "\n",
        "\n"
      ]
    },
    {
      "cell_type": "markdown",
      "metadata": {
        "id": "4MJE2J2Jk1T8"
      },
      "source": [
        "## なにはともあれ \"Hello, world!!\"\n",
        "プログラミングの第一歩，\"Hello world!\"を表示するに，次のセルを実行してみましょう。（ shift + enter でもセル内のコードを実行できます） Pythonで文字を表示したい場合は，```print(\"表示したい文字\")```を使います。"
      ]
    },
    {
      "cell_type": "code",
      "metadata": {
        "id": "Y7GG6HGGk1T9",
        "colab": {
          "base_uri": "https://localhost:8080/"
        },
        "outputId": "672848a2-d6cc-43e8-9ff0-96fccfe3bcd9"
      },
      "source": [
        "print(\"Hello, world!!\")"
      ],
      "execution_count": 1,
      "outputs": [
        {
          "output_type": "stream",
          "text": [
            "Hello, world!!\n"
          ],
          "name": "stdout"
        }
      ]
    },
    {
      "cell_type": "markdown",
      "metadata": {
        "id": "b_wMDwy5Mw0q"
      },
      "source": [
        "Pythonでコメントアウトするときは```#```を使います。プログラムの行頭に```#```を付けておくとその行のプログラムは実行されません。"
      ]
    },
    {
      "cell_type": "code",
      "metadata": {
        "id": "JwuZi2ymk1UJ"
      },
      "source": [
        "# これはコメント\n",
        "# print(\"Hello, world!!\")"
      ],
      "execution_count": 2,
      "outputs": []
    },
    {
      "cell_type": "markdown",
      "metadata": {
        "id": "PeJVM_t3pACm"
      },
      "source": [
        "これらの他にも，セルの追加・削除・移動の方法。行番号の表示方法等を知っておきましょう。 \n",
        "セルに関する操作は，選択したセルの右上に表示されているツールバーを使って行うことができます。行番号などの設定はブラウザ左上にある **ツール → 設定** から設定できます。\n"
      ]
    },
    {
      "cell_type": "markdown",
      "metadata": {
        "id": "LXxSXRodk1UB"
      },
      "source": [
        "## 文字を表示してみよう"
      ]
    },
    {
      "cell_type": "markdown",
      "metadata": {
        "id": "mwbPFJ5sJ1Cy"
      },
      "source": [
        "```firstname```, ```lastname```の変数に自分の名前（または適当な名前）を入れてセルを実行してみましょう。\n",
        "\n",
        "Hello, world!! との違いは， 変数には ” ” （ダブルクオーテーション）を前後につけないことです。"
      ]
    },
    {
      "cell_type": "code",
      "metadata": {
        "id": "KaCPxKLvk1UC",
        "colab": {
          "base_uri": "https://localhost:8080/"
        },
        "outputId": "e73621ed-7ad4-4175-af88-a38c3fb326b6"
      },
      "source": [
        "firstname = \"Shohei\"\n",
        "lastname = \"Ohtani\"\n",
        "\n",
        "print(\"My name is\", firstname, lastname, \".\")"
      ],
      "execution_count": 14,
      "outputs": [
        {
          "output_type": "stream",
          "text": [
            "My name is Shohei Ohtani .\n"
          ],
          "name": "stdout"
        }
      ]
    },
    {
      "cell_type": "markdown",
      "metadata": {
        "id": "rnLtM3J9KWYu"
      },
      "source": [
        "変数を使った文字列を表示する場合，Pythonのf文字列（f-strings）という機能を使って次のように書くこともできます。このとき，変数である`firstname`, `lastname`はすぐ上のセルで既に定義, 実行されているので，再度定義する必要はありません。"
      ]
    },
    {
      "cell_type": "code",
      "metadata": {
        "id": "pFMnSLUAffTa",
        "colab": {
          "base_uri": "https://localhost:8080/"
        },
        "outputId": "eaea7233-ab33-4c88-a833-9da3de32fa84"
      },
      "source": [
        "#f-stringsを使った別の書き方\n",
        "text = f\"My name is {firstname} {lastname}\"\n",
        "print(text)"
      ],
      "execution_count": 15,
      "outputs": [
        {
          "output_type": "stream",
          "text": [
            "My name is Shohei Ohtani\n"
          ],
          "name": "stdout"
        }
      ]
    },
    {
      "cell_type": "markdown",
      "metadata": {
        "id": "pYmdb9Y8MnWa"
      },
      "source": [
        "日本語を表示することもできます。"
      ]
    },
    {
      "cell_type": "code",
      "metadata": {
        "id": "em0rb5rGk1UH",
        "colab": {
          "base_uri": "https://localhost:8080/"
        },
        "outputId": "e4c2d274-4008-4172-e9ac-f1f7e1e27d9a"
      },
      "source": [
        "myouji = \"大谷\"\n",
        "namae = \"翔平\"\n",
        "\n",
        "print(\"私の名前は\", myouji, namae, \"です。\")\n",
        "print(f\"私の名前は{myouji}{namae}です。\")"
      ],
      "execution_count": 16,
      "outputs": [
        {
          "output_type": "stream",
          "text": [
            "私の名前は 大谷 翔平 です。\n",
            "私の名前は大谷翔平です。\n"
          ],
          "name": "stdout"
        }
      ]
    },
    {
      "cell_type": "markdown",
      "metadata": {
        "id": "kd66KGL5LBzA"
      },
      "source": [
        "f-stringsは数字を表示する際に表記方法や有効数字を設定できるので便利です。"
      ]
    },
    {
      "cell_type": "code",
      "metadata": {
        "id": "TDKrnUlCk1UE",
        "colab": {
          "base_uri": "https://localhost:8080/"
        },
        "outputId": "f042ce66-b052-42c7-a41a-3ad4b31c8c81"
      },
      "source": [
        "pi = 3.141592\n",
        "\n",
        "print(f\"pi={pi:.0f}\")     # 小数点以下0桁まで表示\n",
        "print(f\"pi={pi:.2f}\")     # 小数点以下2桁まで表示\n",
        "print(f\"pi={pi:.4f}\")     # 小数点以下4桁まで表示"
      ],
      "execution_count": 17,
      "outputs": [
        {
          "output_type": "stream",
          "text": [
            "pi=3\n",
            "pi=3.14\n",
            "pi=3.1416\n"
          ],
          "name": "stdout"
        }
      ]
    },
    {
      "cell_type": "code",
      "metadata": {
        "id": "WiYJMDjzKm6i",
        "colab": {
          "base_uri": "https://localhost:8080/"
        },
        "outputId": "77423b85-6f73-494e-dd7f-234a9da88c41"
      },
      "source": [
        "x = 123456789\n",
        "\n",
        "# 指数形式で表示\n",
        "print(f\"x={x:.1e}\")\n",
        "print(f\"x={x:.3e}\")\n",
        "print(f\"x={x:.5e}\")"
      ],
      "execution_count": 18,
      "outputs": [
        {
          "output_type": "stream",
          "text": [
            "x=1.2e+08\n",
            "x=1.235e+08\n",
            "x=1.23457e+08\n"
          ],
          "name": "stdout"
        }
      ]
    },
    {
      "cell_type": "code",
      "metadata": {
        "id": "bDtBx8TuKNnQ",
        "colab": {
          "base_uri": "https://localhost:8080/"
        },
        "outputId": "4c8b7b5e-dfe3-4be9-9e33-d1e3b939e588"
      },
      "source": [
        "x = 0.3124\n",
        "\n",
        "# パーセンテージで表示\n",
        "print(f\"降水確率={x:.0%}\")\n",
        "print(f\"降水確率={x:.1%}\")\n",
        "print(f\"降水確率={x:.2%}\")"
      ],
      "execution_count": 19,
      "outputs": [
        {
          "output_type": "stream",
          "text": [
            "降水確率=31%\n",
            "降水確率=31.2%\n",
            "降水確率=31.24%\n"
          ],
          "name": "stdout"
        }
      ]
    },
    {
      "cell_type": "markdown",
      "metadata": {
        "id": "1T0LdaVtk1UL"
      },
      "source": [
        "## 簡単な計算をしてみよう"
      ]
    },
    {
      "cell_type": "markdown",
      "metadata": {
        "id": "jRWMsbYWk1UM"
      },
      "source": [
        "Google Colabは電卓としても使用可能です。まずは```a```と```b```の変数に適当な数値を入力してください。"
      ]
    },
    {
      "cell_type": "code",
      "metadata": {
        "id": "niwR0qTlk1UM",
        "colab": {
          "base_uri": "https://localhost:8080/"
        },
        "outputId": "83f30fad-241d-492f-d041-97f149bb8565"
      },
      "source": [
        "a = 5\n",
        "b = 2\n",
        "print(\"a=\", a)\n",
        "print(\"b=\", b)"
      ],
      "execution_count": 20,
      "outputs": [
        {
          "output_type": "stream",
          "text": [
            "a= 5\n",
            "b= 2\n"
          ],
          "name": "stdout"
        }
      ]
    },
    {
      "cell_type": "markdown",
      "metadata": {
        "id": "dyZ5TXWCk1UO"
      },
      "source": [
        "足し算。演算記号は```+```。"
      ]
    },
    {
      "cell_type": "code",
      "metadata": {
        "id": "3Ti7QCJak1UP",
        "colab": {
          "base_uri": "https://localhost:8080/"
        },
        "outputId": "a360d82e-12d7-4b42-c32f-cec436eb104e"
      },
      "source": [
        "a+b"
      ],
      "execution_count": 21,
      "outputs": [
        {
          "output_type": "execute_result",
          "data": {
            "text/plain": [
              "7"
            ]
          },
          "metadata": {
            "tags": []
          },
          "execution_count": 21
        }
      ]
    },
    {
      "cell_type": "markdown",
      "metadata": {
        "id": "13n6nfBjNV1J"
      },
      "source": [
        "上のように，実はGoogle Colabでは```print(a+b)```としなくても```a+b```の結果を表示することができます。"
      ]
    },
    {
      "cell_type": "markdown",
      "metadata": {
        "id": "g4PfQYKRk1US"
      },
      "source": [
        "引き算。演算記号は```-```。"
      ]
    },
    {
      "cell_type": "code",
      "metadata": {
        "id": "lQaUOQeRk1US",
        "colab": {
          "base_uri": "https://localhost:8080/"
        },
        "outputId": "b4458623-1ec8-4f06-f3e7-c6222bcdb365"
      },
      "source": [
        "a-b"
      ],
      "execution_count": 22,
      "outputs": [
        {
          "output_type": "execute_result",
          "data": {
            "text/plain": [
              "3"
            ]
          },
          "metadata": {
            "tags": []
          },
          "execution_count": 22
        }
      ]
    },
    {
      "cell_type": "markdown",
      "metadata": {
        "id": "1PiUN096k1UV"
      },
      "source": [
        "掛け算。演算記号は```*```。"
      ]
    },
    {
      "cell_type": "code",
      "metadata": {
        "id": "m0w-0cgzk1UV",
        "colab": {
          "base_uri": "https://localhost:8080/"
        },
        "outputId": "95138432-778b-48b8-a20d-7a204ac72007"
      },
      "source": [
        "a*b"
      ],
      "execution_count": 23,
      "outputs": [
        {
          "output_type": "execute_result",
          "data": {
            "text/plain": [
              "10"
            ]
          },
          "metadata": {
            "tags": []
          },
          "execution_count": 23
        }
      ]
    },
    {
      "cell_type": "markdown",
      "metadata": {
        "id": "h0h1Vf0pk1UY"
      },
      "source": [
        "割り算。演算記号は```/```。"
      ]
    },
    {
      "cell_type": "code",
      "metadata": {
        "id": "kM12v54Ak1UY",
        "colab": {
          "base_uri": "https://localhost:8080/"
        },
        "outputId": "c06a3e86-bafe-443b-c9f3-9987d62eff84"
      },
      "source": [
        "a/b"
      ],
      "execution_count": 24,
      "outputs": [
        {
          "output_type": "execute_result",
          "data": {
            "text/plain": [
              "2.5"
            ]
          },
          "metadata": {
            "tags": []
          },
          "execution_count": 24
        }
      ]
    },
    {
      "cell_type": "markdown",
      "metadata": {
        "id": "RmsJ7Obdk1Ub"
      },
      "source": [
        "切り捨て割り算。演算記号は```//```。"
      ]
    },
    {
      "cell_type": "code",
      "metadata": {
        "id": "tCnI7A2Bk1Ub",
        "colab": {
          "base_uri": "https://localhost:8080/"
        },
        "outputId": "db4bb663-838a-404c-bed5-d6b8a78456f5"
      },
      "source": [
        "a//b"
      ],
      "execution_count": 25,
      "outputs": [
        {
          "output_type": "execute_result",
          "data": {
            "text/plain": [
              "2"
            ]
          },
          "metadata": {
            "tags": []
          },
          "execution_count": 25
        }
      ]
    },
    {
      "cell_type": "markdown",
      "metadata": {
        "id": "pZFdlXOJk1Ue"
      },
      "source": [
        "割り算の余り。演算記号は```%```。"
      ]
    },
    {
      "cell_type": "code",
      "metadata": {
        "id": "T1q-1R3gk1Uf",
        "colab": {
          "base_uri": "https://localhost:8080/"
        },
        "outputId": "fcb82c8c-a4e8-495a-d109-5fc0ce3bbd9e"
      },
      "source": [
        "a%b"
      ],
      "execution_count": 26,
      "outputs": [
        {
          "output_type": "execute_result",
          "data": {
            "text/plain": [
              "1"
            ]
          },
          "metadata": {
            "tags": []
          },
          "execution_count": 26
        }
      ]
    },
    {
      "cell_type": "markdown",
      "metadata": {
        "id": "y12KE9hsk1Ui"
      },
      "source": [
        "aのb乗。演算記号は```**```。"
      ]
    },
    {
      "cell_type": "code",
      "metadata": {
        "id": "6Nvqxy32k1Uj",
        "colab": {
          "base_uri": "https://localhost:8080/"
        },
        "outputId": "0a6a3933-7fbf-45d0-f0d4-eb2eb83ce9ba"
      },
      "source": [
        "a**b"
      ],
      "execution_count": 27,
      "outputs": [
        {
          "output_type": "execute_result",
          "data": {
            "text/plain": [
              "25"
            ]
          },
          "metadata": {
            "tags": []
          },
          "execution_count": 27
        }
      ]
    },
    {
      "cell_type": "markdown",
      "metadata": {
        "id": "iU-IG-nlk1Um"
      },
      "source": [
        "## 論理演算をしてみよう\n",
        "論理演算（ブール代数）も計算できます。"
      ]
    },
    {
      "cell_type": "code",
      "metadata": {
        "id": "GtF9drZ7k1Un",
        "colab": {
          "base_uri": "https://localhost:8080/"
        },
        "outputId": "1650dc6e-5cb2-4171-e6b0-18b2a68d4ed3"
      },
      "source": [
        "a = True\n",
        "b = False\n",
        "\n",
        "print(\"a=\", a)\n",
        "print(\"b=\", b)"
      ],
      "execution_count": 28,
      "outputs": [
        {
          "output_type": "stream",
          "text": [
            "a= True\n",
            "b= False\n"
          ],
          "name": "stdout"
        }
      ]
    },
    {
      "cell_type": "markdown",
      "metadata": {
        "id": "UL2rgEJyk1Up"
      },
      "source": [
        "論理和（OR）"
      ]
    },
    {
      "cell_type": "code",
      "metadata": {
        "id": "jiSunTe4k1Uq",
        "colab": {
          "base_uri": "https://localhost:8080/"
        },
        "outputId": "89072bef-b99d-4b28-ef88-254b20439245"
      },
      "source": [
        "a or b"
      ],
      "execution_count": 29,
      "outputs": [
        {
          "output_type": "execute_result",
          "data": {
            "text/plain": [
              "True"
            ]
          },
          "metadata": {
            "tags": []
          },
          "execution_count": 29
        }
      ]
    },
    {
      "cell_type": "markdown",
      "metadata": {
        "id": "kwXbadark1Us"
      },
      "source": [
        "論理積（AND）"
      ]
    },
    {
      "cell_type": "code",
      "metadata": {
        "id": "9gx_gN1Jk1Ut",
        "colab": {
          "base_uri": "https://localhost:8080/"
        },
        "outputId": "b6e2da38-f8bc-4243-c07d-58081261e33b"
      },
      "source": [
        "a and b"
      ],
      "execution_count": 30,
      "outputs": [
        {
          "output_type": "execute_result",
          "data": {
            "text/plain": [
              "False"
            ]
          },
          "metadata": {
            "tags": []
          },
          "execution_count": 30
        }
      ]
    },
    {
      "cell_type": "markdown",
      "metadata": {
        "id": "xfi2I0pTk1Uw"
      },
      "source": [
        "否定（NOT）"
      ]
    },
    {
      "cell_type": "code",
      "metadata": {
        "id": "1P435QWIk1Uw",
        "colab": {
          "base_uri": "https://localhost:8080/"
        },
        "outputId": "deb42f00-8b4d-46e1-8495-7ee545af7c76"
      },
      "source": [
        "not a"
      ],
      "execution_count": 31,
      "outputs": [
        {
          "output_type": "execute_result",
          "data": {
            "text/plain": [
              "False"
            ]
          },
          "metadata": {
            "tags": []
          },
          "execution_count": 31
        }
      ]
    },
    {
      "cell_type": "markdown",
      "metadata": {
        "id": "OTVgQ3PoOptS"
      },
      "source": [
        "（参考）NOR, NAND, XOR等は標準では備わっていないようですが，ライブラリを使うか，自分で関数を作ればよいと思います。 \n",
        "\n",
        "関数は，次のように ``` def 関数名（引数）:``` で作り始めます。最後の：をよく忘れるため注意してください。また関数の中身は必ず行の先頭から，インデント（字下げ）して記述します。Tabキーを押せばインデントされます。"
      ]
    },
    {
      "cell_type": "code",
      "metadata": {
        "id": "sq1DrtqxOnGO",
        "colab": {
          "base_uri": "https://localhost:8080/"
        },
        "outputId": "c73897cd-d725-4654-93e1-48d09d7dbe34"
      },
      "source": [
        "def NOR(a, b):\n",
        "    x = not (a or b)\n",
        "    return x\n",
        "\n",
        "NOR(a, b)"
      ],
      "execution_count": 32,
      "outputs": [
        {
          "output_type": "execute_result",
          "data": {
            "text/plain": [
              "False"
            ]
          },
          "metadata": {
            "tags": []
          },
          "execution_count": 32
        }
      ]
    },
    {
      "cell_type": "markdown",
      "metadata": {
        "id": "Kb7RoeZiOGjB"
      },
      "source": [
        "## 比較演算をしてみよう\n",
        "比較演算はif分などで条件分岐をするためによく利用します。"
      ]
    },
    {
      "cell_type": "markdown",
      "metadata": {
        "id": "Xg7huL7XQE0S"
      },
      "source": [
        "等しい？演算記号は`==`"
      ]
    },
    {
      "cell_type": "code",
      "metadata": {
        "colab": {
          "base_uri": "https://localhost:8080/"
        },
        "id": "rd4_23gRPDAp",
        "outputId": "0a326f90-35c5-4195-aa4f-6949c7ed6f55"
      },
      "source": [
        "a = 2\n",
        "b = 3\n",
        "\n",
        "a == b"
      ],
      "execution_count": 33,
      "outputs": [
        {
          "output_type": "execute_result",
          "data": {
            "text/plain": [
              "False"
            ]
          },
          "metadata": {
            "tags": []
          },
          "execution_count": 33
        }
      ]
    },
    {
      "cell_type": "markdown",
      "metadata": {
        "id": "QgbAn3HhOUAY"
      },
      "source": [
        "大なり？演算記号は`>`。"
      ]
    },
    {
      "cell_type": "code",
      "metadata": {
        "colab": {
          "base_uri": "https://localhost:8080/"
        },
        "id": "0xJUIJNjODny",
        "outputId": "ed2523fb-ccc4-405b-85b6-51696bcf9a03"
      },
      "source": [
        "a > b"
      ],
      "execution_count": 34,
      "outputs": [
        {
          "output_type": "execute_result",
          "data": {
            "text/plain": [
              "False"
            ]
          },
          "metadata": {
            "tags": []
          },
          "execution_count": 34
        }
      ]
    },
    {
      "cell_type": "markdown",
      "metadata": {
        "id": "Q_2jRqcWOXCQ"
      },
      "source": [
        "小なり？演算記号は`<`。"
      ]
    },
    {
      "cell_type": "code",
      "metadata": {
        "colab": {
          "base_uri": "https://localhost:8080/"
        },
        "id": "9lw4efqPOpdQ",
        "outputId": "35890872-b469-4fdd-e2a6-6376a861bf1f"
      },
      "source": [
        "a < b"
      ],
      "execution_count": 35,
      "outputs": [
        {
          "output_type": "execute_result",
          "data": {
            "text/plain": [
              "True"
            ]
          },
          "metadata": {
            "tags": []
          },
          "execution_count": 35
        }
      ]
    },
    {
      "cell_type": "markdown",
      "metadata": {
        "id": "eF8Ohn_6Pdkb"
      },
      "source": [
        "以上？演算記号は`>=`。\n",
        "\n",
        "注意：`=<`は使えません。"
      ]
    },
    {
      "cell_type": "code",
      "metadata": {
        "colab": {
          "base_uri": "https://localhost:8080/"
        },
        "id": "YSK4CAlHOpXo",
        "outputId": "ed032562-ae5f-4883-a3fa-bf0845fc9057"
      },
      "source": [
        "a >= b"
      ],
      "execution_count": 36,
      "outputs": [
        {
          "output_type": "execute_result",
          "data": {
            "text/plain": [
              "False"
            ]
          },
          "metadata": {
            "tags": []
          },
          "execution_count": 36
        }
      ]
    },
    {
      "cell_type": "markdown",
      "metadata": {
        "id": "p50VbpmWPOhf"
      },
      "source": [
        "以下？演算記号は`<=`。\n",
        "\n",
        "注意：`=<`は使えません。"
      ]
    },
    {
      "cell_type": "code",
      "metadata": {
        "colab": {
          "base_uri": "https://localhost:8080/"
        },
        "id": "iQZPg-jPQBR5",
        "outputId": "675923b2-cc0b-4be9-b7c5-0e259b8bb116"
      },
      "source": [
        "a <= b"
      ],
      "execution_count": 37,
      "outputs": [
        {
          "output_type": "execute_result",
          "data": {
            "text/plain": [
              "True"
            ]
          },
          "metadata": {
            "tags": []
          },
          "execution_count": 37
        }
      ]
    },
    {
      "cell_type": "markdown",
      "metadata": {
        "id": "eRq51NTqk1Uy"
      },
      "source": [
        "## forループの書き方"
      ]
    },
    {
      "cell_type": "markdown",
      "metadata": {
        "id": "9Cr8lSEWk1Uz"
      },
      "source": [
        "繰り返し処理を行う場合，forループを使います。0から4の5つの数字を出力するプログラムを作ってみましよう。\n",
        "C言語では，次のように書きます。 for (最初の数，終了条件，1ループで増える数)です。\n",
        "```\n",
        "for (int i=0; i<5; i++){\n",
        "    printf(i);\n",
        "}　\n",
        "```\n",
        "同じプログラムをPythonでも作ってみましよう。\n",
        "Pythonでは，```range(開始,終了,増加量)``` を使って連続する数字を表現します。 開始と増加量は省略可能で，省略した場合は，```range(0,終了,1)``` と同じです。\n",
        "\n",
        "次の例では0から5未満，つまり0から4までを1つずつ表示しています。"
      ]
    },
    {
      "cell_type": "code",
      "metadata": {
        "id": "-QZWV2luk1U0",
        "colab": {
          "base_uri": "https://localhost:8080/"
        },
        "outputId": "fe9d1ccc-9607-4126-baa2-34725dbe51c5"
      },
      "source": [
        "for i in range(5):\n",
        "    print(i)"
      ],
      "execution_count": 38,
      "outputs": [
        {
          "output_type": "stream",
          "text": [
            "0\n",
            "1\n",
            "2\n",
            "3\n",
            "4\n"
          ],
          "name": "stdout"
        }
      ]
    },
    {
      "cell_type": "markdown",
      "metadata": {
        "id": "paxT1kq6k1U3"
      },
      "source": [
        "数字を使わずに，配列（リスト）を使ってforループを書くこともできます。ここでは，```noodle_list```がリストになっています。"
      ]
    },
    {
      "cell_type": "code",
      "metadata": {
        "id": "UoIofdekk1U4",
        "colab": {
          "base_uri": "https://localhost:8080/"
        },
        "outputId": "804ad5fb-15d5-4e3f-c220-c3f6a5725051"
      },
      "source": [
        "noodle_list = [\"うどん\", \"ラーメン\", \"スパゲッティ\"]\n",
        "\n",
        "for noodle in noodle_list:\n",
        "    print(noodle)"
      ],
      "execution_count": 39,
      "outputs": [
        {
          "output_type": "stream",
          "text": [
            "うどん\n",
            "ラーメン\n",
            "スパゲッティ\n"
          ],
          "name": "stdout"
        }
      ]
    },
    {
      "cell_type": "markdown",
      "metadata": {
        "id": "PHdruFxBk1U7"
      },
      "source": [
        "配列に指標を付け加えたforループ"
      ]
    },
    {
      "cell_type": "code",
      "metadata": {
        "id": "acDP-MWbk1U7",
        "colab": {
          "base_uri": "https://localhost:8080/"
        },
        "outputId": "471e85bc-240c-4b0c-caf9-aac5c1b01a0e"
      },
      "source": [
        "for i, noodle in enumerate(noodle_list):\n",
        "    print(i, noodle)"
      ],
      "execution_count": 40,
      "outputs": [
        {
          "output_type": "stream",
          "text": [
            "0 うどん\n",
            "1 ラーメン\n",
            "2 スパゲッティ\n"
          ],
          "name": "stdout"
        }
      ]
    },
    {
      "cell_type": "markdown",
      "metadata": {
        "id": "mTw7-PSdk1U-"
      },
      "source": [
        "## whileループの書き方"
      ]
    },
    {
      "cell_type": "markdown",
      "metadata": {
        "id": "RnPLoP9dVllB"
      },
      "source": [
        "whileループは，終了条件のみを指定してループさせることが可能です。\n",
        "\n",
        "次の例では， iの値が5よりも小さい間，ループを繰り返しiの値を表示します。"
      ]
    },
    {
      "cell_type": "code",
      "metadata": {
        "id": "IIyTYNVbk1U-",
        "colab": {
          "base_uri": "https://localhost:8080/"
        },
        "outputId": "3279fc43-fbce-43ce-ebe7-b3635df83485"
      },
      "source": [
        "i = 0\n",
        "\n",
        "while i < 5:\n",
        "    print(i)\n",
        "    i = i + 1"
      ],
      "execution_count": 41,
      "outputs": [
        {
          "output_type": "stream",
          "text": [
            "0\n",
            "1\n",
            "2\n",
            "3\n",
            "4\n"
          ],
          "name": "stdout"
        }
      ]
    },
    {
      "cell_type": "markdown",
      "metadata": {
        "id": "2OcTD58dk1VD"
      },
      "source": [
        "## if文の書き方\n",
        "変数```n```に入っている数値（整数）が偶数か奇数かを判定するプログラム。"
      ]
    },
    {
      "cell_type": "code",
      "metadata": {
        "id": "gCNR7avCk1VD",
        "colab": {
          "base_uri": "https://localhost:8080/"
        },
        "outputId": "2771fcc6-0fc5-4ac4-dbe9-672ef010874e"
      },
      "source": [
        "n = 5\n",
        "\n",
        "if n%2 == 0:  # ｎを2で割ったあまりが0と等しいならば，偶数である\n",
        "    print(n, \"は偶数です\")\n",
        "else:  # それ以外は奇数である\n",
        "    print(n, \"は奇数です\")"
      ],
      "execution_count": 42,
      "outputs": [
        {
          "output_type": "stream",
          "text": [
            "5 は奇数です\n"
          ],
          "name": "stdout"
        }
      ]
    },
    {
      "cell_type": "markdown",
      "metadata": {
        "id": "gyUHR0nUQQ1U"
      },
      "source": [
        "変数```n```の数値は整数ではないかもしれないので，本当は以下のようにプログラムを書いた方が良いかもしれません。"
      ]
    },
    {
      "cell_type": "code",
      "metadata": {
        "id": "XjAQMd2ek1VF",
        "colab": {
          "base_uri": "https://localhost:8080/"
        },
        "outputId": "cd382739-9ec2-4f5b-b3c4-fbc35d404093"
      },
      "source": [
        "n = 5.2\n",
        "\n",
        "if n%2 == 0:\n",
        "    print(n, \"は偶数です\")\n",
        "elif n%2 == 1:\n",
        "    print(n, \"は奇数です\")\n",
        "else:\n",
        "    print(n, \"は整数ではありません\")"
      ],
      "execution_count": 43,
      "outputs": [
        {
          "output_type": "stream",
          "text": [
            "5.2 は整数ではありません\n"
          ],
          "name": "stdout"
        }
      ]
    }
  ]
}