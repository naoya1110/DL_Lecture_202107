{
  "nbformat": 4,
  "nbformat_minor": 0,
  "metadata": {
    "colab": {
      "name": "Chapter02_Numpy_Matplotlib_Pandas.ipynb",
      "provenance": [],
      "collapsed_sections": [],
      "include_colab_link": true
    },
    "kernelspec": {
      "display_name": "Python 3",
      "language": "python",
      "name": "python3"
    }
  },
  "cells": [
    {
      "cell_type": "markdown",
      "metadata": {
        "id": "view-in-github",
        "colab_type": "text"
      },
      "source": [
        "<a href=\"https://colab.research.google.com/github/naoya1110/DL_Lecture_202107/blob/main/Chapter02_Numpy_Matplotlib_Pandas.ipynb\" target=\"_parent\"><img src=\"https://colab.research.google.com/assets/colab-badge.svg\" alt=\"Open In Colab\"/></a>"
      ]
    },
    {
      "cell_type": "markdown",
      "metadata": {
        "id": "S7gBaGiWmDrO"
      },
      "source": [
        "# Chapter 02: Numpy, Matplotlib & Pandas"
      ]
    },
    {
      "cell_type": "markdown",
      "metadata": {
        "id": "oZ5EKbWQmDrP"
      },
      "source": [
        "Pythonはディープラーニングだけではなく，科学計算や分析に適したプログラミング言語として知られています。その理由は，高度な数値計算のための[Numpy（ナムパイ）](https://numpy.org/) やデータを可視化するための[Matplotlib（マットプロットリブ）](https://matplotlib.org/)， データ分析のための[Pandas（パンダス）](https://pandas.pydata.org/)といった便利なパッケージ（ライブラリ）が豊富に存在するためだと考えられます。ここではこれらのパッケージを使ってデータを可視化したり解析する方法を学びましょう。"
      ]
    },
    {
      "cell_type": "markdown",
      "metadata": {
        "id": "ee0xgUcXR7MS"
      },
      "source": [
        "## ライブラリのインポート"
      ]
    },
    {
      "cell_type": "markdown",
      "metadata": {
        "id": "LvriBQARmDrQ"
      },
      "source": [
        "\n",
        "Pythonでパッケージをインポートするときは，```import パッケージ名```と書きます。パッケージの名前が長い場合は，```import パッケージ名 as xx```として省略することがあります。省略語は何でも構いませんが，ほとんどの場合でnumpyはnp，matplotlibはplt，pandasはpdと省略されます。\n",
        "\n",
        "また次の例では，matplotlibはmatplotlib.pyplotとすることで，matplotlibパッケージの中から，データプロットに必要なpyplotモジュールのみをインポートしています。"
      ]
    },
    {
      "cell_type": "code",
      "metadata": {
        "id": "R_ESUH0DmDrR"
      },
      "source": [
        "import numpy as np\n",
        "import matplotlib.pyplot as plt\n",
        "import pandas as pd"
      ],
      "execution_count": 1,
      "outputs": []
    },
    {
      "cell_type": "markdown",
      "metadata": {
        "id": "GlfkJHsemDrQ"
      },
      "source": [
        "##Numpy配列の作り方"
      ]
    },
    {
      "cell_type": "markdown",
      "metadata": {
        "id": "S8cy6N7umDrU"
      },
      "source": [
        "Numpyを使って0から4まで１ずつ増加する配列を作成してみましょう。"
      ]
    },
    {
      "cell_type": "code",
      "metadata": {
        "id": "L0bezE0kmDrU",
        "colab": {
          "base_uri": "https://localhost:8080/"
        },
        "outputId": "b4ac0c23-05b7-4bb0-f083-cb53e940a03f"
      },
      "source": [
        "np.arange(5)"
      ],
      "execution_count": 2,
      "outputs": [
        {
          "output_type": "execute_result",
          "data": {
            "text/plain": [
              "array([0, 1, 2, 3, 4])"
            ]
          },
          "metadata": {
            "tags": []
          },
          "execution_count": 2
        }
      ]
    },
    {
      "cell_type": "markdown",
      "metadata": {
        "id": "HaRzPW659cbv"
      },
      "source": [
        "増分を1ではなく，任意の大きさに指定することもできます。たとえば0から10まで2ずつ増加する配列を作成するには次のように書きます。"
      ]
    },
    {
      "cell_type": "code",
      "metadata": {
        "id": "kgDaXG219PQX",
        "colab": {
          "base_uri": "https://localhost:8080/"
        },
        "outputId": "040ee966-4c5b-4d38-e7c8-a93f0ddd9d49"
      },
      "source": [
        "np.arange(0,11,2)"
      ],
      "execution_count": 3,
      "outputs": [
        {
          "output_type": "execute_result",
          "data": {
            "text/plain": [
              "array([ 0,  2,  4,  6,  8, 10])"
            ]
          },
          "metadata": {
            "tags": []
          },
          "execution_count": 3
        }
      ]
    },
    {
      "cell_type": "markdown",
      "metadata": {
        "id": "7xyNIJ4gmDrY"
      },
      "source": [
        "増分を指定するのではなく，何分割するかを指定して配列を作ることもできます。0から1を等間隔で11個に分割するには次のように書きます。"
      ]
    },
    {
      "cell_type": "code",
      "metadata": {
        "id": "cDEz1meamDrZ",
        "colab": {
          "base_uri": "https://localhost:8080/"
        },
        "outputId": "805a2c5f-ca06-443d-9c51-3e10b5553260"
      },
      "source": [
        "np.linspace(0, 1, 11)"
      ],
      "execution_count": 4,
      "outputs": [
        {
          "output_type": "execute_result",
          "data": {
            "text/plain": [
              "array([0. , 0.1, 0.2, 0.3, 0.4, 0.5, 0.6, 0.7, 0.8, 0.9, 1. ])"
            ]
          },
          "metadata": {
            "tags": []
          },
          "execution_count": 4
        }
      ]
    },
    {
      "cell_type": "markdown",
      "metadata": {
        "id": "5wWP5O78mDrb"
      },
      "source": [
        "## Matplotlibを使ったデータプロット\n",
        "matplotlibを使ってy=sin(x)のグラフを表示してみましょう。"
      ]
    },
    {
      "cell_type": "markdown",
      "metadata": {
        "id": "TI0gBOPdmDrc"
      },
      "source": [
        "### データの作成\n",
        "はじめにnumpyを使ってxの配列とy=sin(x)の配列を作成します。"
      ]
    },
    {
      "cell_type": "code",
      "metadata": {
        "id": "8BHsrw6GmDrc",
        "colab": {
          "base_uri": "https://localhost:8080/"
        },
        "outputId": "5bb9f85a-1c3e-4607-f84b-d75d4889d331"
      },
      "source": [
        "# xの配列を適当に作成。ちなみにnp.pi = 3.141592.....\n",
        "x = np.arange(0, 2*np.pi, 0.2)\n",
        "\n",
        "# sin(x)を計算\n",
        "y = np.sin(x)\n",
        "\n",
        "# それぞれの配列を表示して確認\n",
        "print(\"x =\", x)\n",
        "print(\"y =\",y)"
      ],
      "execution_count": 5,
      "outputs": [
        {
          "output_type": "stream",
          "text": [
            "x = [0.  0.2 0.4 0.6 0.8 1.  1.2 1.4 1.6 1.8 2.  2.2 2.4 2.6 2.8 3.  3.2 3.4\n",
            " 3.6 3.8 4.  4.2 4.4 4.6 4.8 5.  5.2 5.4 5.6 5.8 6.  6.2]\n",
            "y = [ 0.          0.19866933  0.38941834  0.56464247  0.71735609  0.84147098\n",
            "  0.93203909  0.98544973  0.9995736   0.97384763  0.90929743  0.8084964\n",
            "  0.67546318  0.51550137  0.33498815  0.14112001 -0.05837414 -0.2555411\n",
            " -0.44252044 -0.61185789 -0.7568025  -0.87157577 -0.95160207 -0.993691\n",
            " -0.99616461 -0.95892427 -0.88345466 -0.77276449 -0.63126664 -0.46460218\n",
            " -0.2794155  -0.0830894 ]\n"
          ],
          "name": "stdout"
        }
      ]
    },
    {
      "cell_type": "markdown",
      "metadata": {
        "id": "7GFQdPuu3O5k"
      },
      "source": [
        "### プロット"
      ]
    },
    {
      "cell_type": "markdown",
      "metadata": {
        "id": "Bo6LbUbSmDri"
      },
      "source": [
        "すでに作成したxとyを```plt.plot()```を使ってグラフにプロットします。超簡単！"
      ]
    },
    {
      "cell_type": "code",
      "metadata": {
        "id": "krQjhyjzmDri",
        "colab": {
          "base_uri": "https://localhost:8080/",
          "height": 282
        },
        "outputId": "cb451b12-bd73-408d-d06c-805ea053e10c"
      },
      "source": [
        "plt.plot(x, y)"
      ],
      "execution_count": 6,
      "outputs": [
        {
          "output_type": "execute_result",
          "data": {
            "text/plain": [
              "[<matplotlib.lines.Line2D at 0x7ff1f7c8bd90>]"
            ]
          },
          "metadata": {
            "tags": []
          },
          "execution_count": 6
        },
        {
          "output_type": "display_data",
          "data": {
            "image/png": "[encoded data removed]",
            "text/plain": [
              "<Figure size 432x288 with 1 Axes>"
            ]
          },
          "metadata": {
            "tags": [],
            "needs_background": "light"
          }
        }
      ]
    },
    {
      "cell_type": "markdown",
      "metadata": {
        "id": "-2CrQg0LmDrl"
      },
      "source": [
        "matplotlibのグラフはいろいろとカスタマイズ可能です。多すぎてキリがないので，全部一通り覚えるのではなく，必要になったときにネットを検索して探すと良いと思います。"
      ]
    },
    {
      "cell_type": "code",
      "metadata": {
        "id": "1cyC8DiumDrl",
        "colab": {
          "base_uri": "https://localhost:8080/",
          "height": 295
        },
        "outputId": "99ce24ad-b422-4d04-b76e-cb9e24006881"
      },
      "source": [
        "# グラフの用紙サイズを指定（単位はインチ）\n",
        "plt.figure(figsize=(6,4))\n",
        "\n",
        "# フォントのサイズを指定\n",
        "plt.rcParams[\"font.size\"]=16\n",
        "\n",
        "# マーカーの種類，色等を指定\n",
        "plt.plot(x, y, marker=\"o\", color=\"red\", label=\"sin(x)\")\n",
        "\n",
        "# x軸，y軸の表示範囲を指定\n",
        "plt.xlim(0, 2*np.pi)\n",
        "plt.ylim(-1, 1)\n",
        "\n",
        "# x軸，y軸のラベル\n",
        "plt.xlabel(\"x [rad]\")\n",
        "plt.ylabel(\"sin(x)\")\n",
        "\n",
        "# グリッド線を表示\n",
        "plt.grid(True)\n",
        "\n",
        "# 凡例を表示\n",
        "plt.legend()\n",
        "\n",
        "# 画像をpdfファイルで保存\n",
        "plt.savefig(\"figure_sin.pdf\")"
      ],
      "execution_count": 7,
      "outputs": [
        {
          "output_type": "display_data",
          "data": {
            "image/png": "[encoded data removed]",
            "text/plain": [
              "<Figure size 432x288 with 1 Axes>"
            ]
          },
          "metadata": {
            "tags": [],
            "needs_background": "light"
          }
        }
      ]
    },
    {
      "cell_type": "markdown",
      "metadata": {
        "id": "N7U49p_emDro"
      },
      "source": [
        "## Pandasを使ったデータの読み込み"
      ]
    },
    {
      "cell_type": "markdown",
      "metadata": {
        "id": "yRaZ5nc2wnIU"
      },
      "source": [
        "### Googleドライブのマウント"
      ]
    },
    {
      "cell_type": "markdown",
      "metadata": {
        "id": "szsgh6_S9vBn"
      },
      "source": [
        "googleドライブ内にあるファイルをpandasで読み出します。\n",
        "\n",
        "まずは，以下の手順で自分のGoogleドライブにアクセスできるようにします。\n",
        "\n",
        "1.   以下のセルを実行します。\n",
        "1.   ```Go to this URL in browser:```の後に表示されるURLをクリックして，自分のアカウントにログインします。\n",
        "1.   アクセスのリクエストを許可し，表示されるコードをコピーします。\n",
        "1.   ```Enter your authorization code:```の後の空欄にコピーしたコードを貼り付け，エンターを押します。"
      ]
    },
    {
      "cell_type": "code",
      "metadata": {
        "colab": {
          "base_uri": "https://localhost:8080/"
        },
        "id": "H1_Z-mAlUr7a",
        "outputId": "0a2d6d46-b8d7-45c5-ca03-71b9badd3683"
      },
      "source": [
        "from google.colab import drive\n",
        "drive.mount('/content/drive')"
      ],
      "execution_count": 8,
      "outputs": [
        {
          "output_type": "stream",
          "text": [
            "Mounted at /content/drive\n"
          ],
          "name": "stdout"
        }
      ]
    },
    {
      "cell_type": "markdown",
      "metadata": {
        "id": "KfWaWT7e3xVn"
      },
      "source": [
        "```Mounted at /content/drive```と表示されればGoogleドライブがマウントでき，ファイルにアクセスできるようになっています。"
      ]
    },
    {
      "cell_type": "markdown",
      "metadata": {
        "id": "PCbfL5D13db1"
      },
      "source": [
        "### データの読み込み"
      ]
    },
    {
      "cell_type": "markdown",
      "metadata": {
        "id": "uqgsykj0mDrr"
      },
      "source": [
        "``DL_Lecture_202107``フォルダ内にある`xy_data.xlsx`のパスを以下のように指定します。"
      ]
    },
    {
      "cell_type": "code",
      "metadata": {
        "id": "vwBDazozmDrr"
      },
      "source": [
        "path = \"/content/drive/My Drive/DL_Lecture_202107/xy_data.xlsx\""
      ],
      "execution_count": 9,
      "outputs": []
    },
    {
      "cell_type": "markdown",
      "metadata": {
        "id": "FFGIPWZR-SOz"
      },
      "source": [
        "指定したパスのファイルをpandasで読み込むには以下のように書きます。pandasを使ってデータを読み込むと，DataFrameという形式でデータが取り扱われ，後々の処理がラクになります。"
      ]
    },
    {
      "cell_type": "code",
      "metadata": {
        "id": "U4eGEvnZ-KsW"
      },
      "source": [
        "df = pd.read_excel(path)"
      ],
      "execution_count": 10,
      "outputs": []
    },
    {
      "cell_type": "markdown",
      "metadata": {
        "id": "z_bqe85odwW5"
      },
      "source": [
        "読み込んだデータを表示して確認します。```df```だけならすべてのデータが表示されます。```df.head```なら最初の5行分だけ，```df.tail()```なら最後の5行分だけを表示することができます。"
      ]
    },
    {
      "cell_type": "code",
      "metadata": {
        "id": "MDZNcG7ydzf2",
        "colab": {
          "base_uri": "https://localhost:8080/",
          "height": 204
        },
        "outputId": "bea42485-83a2-4ca7-a0b2-ee5e05551892"
      },
      "source": [
        "df.head()"
      ],
      "execution_count": 11,
      "outputs": [
        {
          "output_type": "execute_result",
          "data": {
            "text/html": [
              "<div>\n",
              "<style scoped>\n",
              "    .dataframe tbody tr th:only-of-type {\n",
              "        vertical-align: middle;\n",
              "    }\n",
              "\n",
              "    .dataframe tbody tr th {\n",
              "        vertical-align: top;\n",
              "    }\n",
              "\n",
              "    .dataframe thead th {\n",
              "        text-align: right;\n",
              "    }\n",
              "</style>\n",
              "<table border=\"1\" class=\"dataframe\">\n",
              "  <thead>\n",
              "    <tr style=\"text-align: right;\">\n",
              "      <th></th>\n",
              "      <th>Unnamed: 0</th>\n",
              "      <th>x</th>\n",
              "      <th>y1</th>\n",
              "      <th>y2</th>\n",
              "    </tr>\n",
              "  </thead>\n",
              "  <tbody>\n",
              "    <tr>\n",
              "      <th>0</th>\n",
              "      <td>0</td>\n",
              "      <td>-10.0</td>\n",
              "      <td>-2.183307</td>\n",
              "      <td>5.738848</td>\n",
              "    </tr>\n",
              "    <tr>\n",
              "      <th>1</th>\n",
              "      <td>1</td>\n",
              "      <td>-9.5</td>\n",
              "      <td>-2.110337</td>\n",
              "      <td>5.254115</td>\n",
              "    </tr>\n",
              "    <tr>\n",
              "      <th>2</th>\n",
              "      <td>2</td>\n",
              "      <td>-9.0</td>\n",
              "      <td>-1.767745</td>\n",
              "      <td>3.630710</td>\n",
              "    </tr>\n",
              "    <tr>\n",
              "      <th>3</th>\n",
              "      <td>3</td>\n",
              "      <td>-8.5</td>\n",
              "      <td>-1.758005</td>\n",
              "      <td>3.747354</td>\n",
              "    </tr>\n",
              "    <tr>\n",
              "      <th>4</th>\n",
              "      <td>4</td>\n",
              "      <td>-8.0</td>\n",
              "      <td>-1.618263</td>\n",
              "      <td>2.441208</td>\n",
              "    </tr>\n",
              "  </tbody>\n",
              "</table>\n",
              "</div>"
            ],
            "text/plain": [
              "   Unnamed: 0     x        y1        y2\n",
              "0           0 -10.0 -2.183307  5.738848\n",
              "1           1  -9.5 -2.110337  5.254115\n",
              "2           2  -9.0 -1.767745  3.630710\n",
              "3           3  -8.5 -1.758005  3.747354\n",
              "4           4  -8.0 -1.618263  2.441208"
            ]
          },
          "metadata": {
            "tags": []
          },
          "execution_count": 11
        }
      ]
    },
    {
      "cell_type": "markdown",
      "metadata": {
        "id": "jFmiBjbC4UnC"
      },
      "source": [
        "### 読み込んだデータのプロット"
      ]
    },
    {
      "cell_type": "markdown",
      "metadata": {
        "id": "ki5sRdqumDry"
      },
      "source": [
        "matplotlibを使って`x`と`y1`の関係をプロットします。"
      ]
    },
    {
      "cell_type": "code",
      "metadata": {
        "id": "9WkStDw0mDrz",
        "colab": {
          "base_uri": "https://localhost:8080/",
          "height": 312
        },
        "outputId": "514b5541-4463-4fd9-da31-50a149355eb5"
      },
      "source": [
        "plt.plot(df[\"x\"], df[\"y1\"], marker=\"o\", lw=0, label=\"y1\")     # xとy1をプロット，lw=0として線を表示しない\n",
        "plt.plot(df[\"x\"], df[\"y2\"], marker=\"*\", lw=0, label=\"y2\")     # xとy2をプロット，lw=0として線を表示しない\n",
        "\n",
        "plt.xlabel(\"x\")          # x軸のラベル\n",
        "plt.ylabel(\"y\")          # y軸のラベル\n",
        "plt.xlim(-10, 10)      # x軸の範囲を指定\n",
        "plt.ylim(-4, 4)         # y軸の範囲を指定\n",
        "plt.grid(True)          # グリッド線を表示\n",
        "plt.legend()             # 凡例を表示"
      ],
      "execution_count": 12,
      "outputs": [
        {
          "output_type": "execute_result",
          "data": {
            "text/plain": [
              "<matplotlib.legend.Legend at 0x7ff1f734f490>"
            ]
          },
          "metadata": {
            "tags": []
          },
          "execution_count": 12
        },
        {
          "output_type": "display_data",
          "data": {
            "image/png": "[encoded data removed]",
            "text/plain": [
              "<Figure size 432x288 with 1 Axes>"
            ]
          },
          "metadata": {
            "tags": [],
            "needs_background": "light"
          }
        }
      ]
    },
    {
      "cell_type": "markdown",
      "metadata": {
        "id": "YZkajgLsmDr3"
      },
      "source": [
        "### Numpyを使った近似直線（データのフィッティング）"
      ]
    },
    {
      "cell_type": "markdown",
      "metadata": {
        "id": "4AltsMW_mDr4"
      },
      "source": [
        "`x`と`y1`のデータに対して `y1 = a*x + b `の近似曲線を求めます。"
      ]
    },
    {
      "cell_type": "code",
      "metadata": {
        "id": "C9VLxZIUmDr4",
        "colab": {
          "base_uri": "https://localhost:8080/"
        },
        "outputId": "7e8f676e-8439-40ba-fe3b-bff0d804eb7d"
      },
      "source": [
        "x = df[\"x\"]\n",
        "y1 = df[\"y1\"]\n",
        "\n",
        "# xとyの関係を直線(一次関数)でフィッティングするために\n",
        "# np.polyfit（ｘ，ｙ，１）を使う\n",
        "# 最後の1は近似曲線の次数を指定しており１次式での近似になる\n",
        "# 2以上にすれば曲線としてフィッティングされる\n",
        "a, b = np.polyfit(x, y1, 1)\n",
        "\n",
        "# 求まった係数aとbを確認\n",
        "print(\"a=\", a)\n",
        "print(\"b=\", b)"
      ],
      "execution_count": 13,
      "outputs": [
        {
          "output_type": "stream",
          "text": [
            "a= 0.2035842002956472\n",
            "b= -0.022824683578311283\n"
          ],
          "name": "stdout"
        }
      ]
    },
    {
      "cell_type": "markdown",
      "metadata": {
        "id": "kxEF4YAumDr6"
      },
      "source": [
        "上のセルで`a`, `b`を求めたので，次に近似直線 `y1_fit` を求めます。"
      ]
    },
    {
      "cell_type": "code",
      "metadata": {
        "id": "rppkbfvGmDr7"
      },
      "source": [
        "y1_fit = a*x + b"
      ],
      "execution_count": 14,
      "outputs": []
    },
    {
      "cell_type": "markdown",
      "metadata": {
        "id": "7NA_ZnJHmDr8"
      },
      "source": [
        "### 実験データと近似曲線のプロット\n",
        "実験データと近似直線をプロットします。"
      ]
    },
    {
      "cell_type": "code",
      "metadata": {
        "id": "oyLIGHx7mDr9",
        "colab": {
          "base_uri": "https://localhost:8080/",
          "height": 289
        },
        "outputId": "a5e19c9e-2752-4e84-fdf4-d07f5d9cb3a9"
      },
      "source": [
        "# 実験データをプロット\n",
        "plt.plot(x, y1, marker=\"o\", lw=0, label=\"experiment\")\n",
        "\n",
        "# 近似直線をプロット\n",
        "plt.plot(x, y1_fit, color=\"orange\", lw=2, label=\"fitting\")\n",
        "\n",
        "#x軸とy軸のラベルを設定\n",
        "plt.xlabel(\"x\")\n",
        "plt.ylabel(\"y\")\n",
        "\n",
        "#凡例を表示\n",
        "plt.legend()\n",
        "\n",
        "# グリッド線を表示\n",
        "plt.grid(True)"
      ],
      "execution_count": 15,
      "outputs": [
        {
          "output_type": "display_data",
          "data": {
            "image/png": "[encoded data removed]",
            "text/plain": [
              "<Figure size 432x288 with 1 Axes>"
            ]
          },
          "metadata": {
            "tags": [],
            "needs_background": "light"
          }
        }
      ]
    },
    {
      "cell_type": "markdown",
      "metadata": {
        "id": "A8l4kUKz0e1w"
      },
      "source": [
        "同様に`x`と`y2`のデータに対するフィッティングは以下のようになります。"
      ]
    },
    {
      "cell_type": "code",
      "metadata": {
        "colab": {
          "base_uri": "https://localhost:8080/"
        },
        "id": "VcmWGqVZz4yf",
        "outputId": "47f40562-894f-4c3a-e31b-e248ef53a58b"
      },
      "source": [
        "x = df[\"x\"]\n",
        "y2 = df[\"y2\"]\n",
        "\n",
        "a1, a2, b = np.polyfit(x, y2, 2)\n",
        "\n",
        "print(\"a1=\", a1)\n",
        "print(\"a2=\", a2)\n",
        "print(\"b=\", b)"
      ],
      "execution_count": 16,
      "outputs": [
        {
          "output_type": "stream",
          "text": [
            "a1= 0.09839142947366829\n",
            "a2= -0.006506625485706817\n",
            "b= -3.9502321514086387\n"
          ],
          "name": "stdout"
        }
      ]
    },
    {
      "cell_type": "code",
      "metadata": {
        "id": "mWvHomeV0EZv"
      },
      "source": [
        "y2_fit = a1*x**2 + a2*x + b"
      ],
      "execution_count": 17,
      "outputs": []
    },
    {
      "cell_type": "code",
      "metadata": {
        "colab": {
          "base_uri": "https://localhost:8080/",
          "height": 289
        },
        "id": "qL6-O_XP0N4e",
        "outputId": "85a72fe7-dd64-4bee-85de-6ef2455dfb8d"
      },
      "source": [
        "plt.plot(x, y2, marker=\"o\", lw=0, label=\"experiment\")\n",
        "plt.plot(x, y2_fit, color=\"orange\", lw=2, label=\"fitting\")\n",
        "\n",
        "plt.xlabel(\"x\")\n",
        "plt.ylabel(\"y\")\n",
        "\n",
        "plt.legend()\n",
        "\n",
        "plt.grid(True)"
      ],
      "execution_count": 18,
      "outputs": [
        {
          "output_type": "display_data",
          "data": {
            "image/png": "[encoded data removed]",
            "text/plain": [
              "<Figure size 432x288 with 1 Axes>"
            ]
          },
          "metadata": {
            "tags": [],
            "needs_background": "light"
          }
        }
      ]
    }
  ]
}